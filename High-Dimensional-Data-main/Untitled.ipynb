{
 "cells": [
  {
   "cell_type": "code",
   "execution_count": 1,
   "metadata": {},
   "outputs": [],
   "source": [
    "import numpy as np\n",
    "import pandas as pd\n",
    "\n",
    "import plotly as py\n",
    "import plotly.express as ex"
   ]
  },
  {
   "cell_type": "code",
   "execution_count": null,
   "metadata": {},
   "outputs": [],
   "source": [
    "def initialize_clusters(X, n_clusters):\n",
    "    clusters=[]\n",
    "    idx=np.arange(X.shape[0])\n",
    "    kmeans=KMeans().fit(X)\n",
    "    mu_k = kmeans.cluster_centers_\n",
    "    for i in range(n_cluters):\n",
    "        clusters.append({\n",
    "            \"pi_k\":1.0/n_clusters,\n",
    "            \"mu_k\":\n",
    "        })"
   ]
  }
 ],
 "metadata": {
  "kernelspec": {
   "display_name": "Python 3",
   "language": "python",
   "name": "python3"
  },
  "language_info": {
   "codemirror_mode": {
    "name": "ipython",
    "version": 3
   },
   "file_extension": ".py",
   "mimetype": "text/x-python",
   "name": "python",
   "nbconvert_exporter": "python",
   "pygments_lexer": "ipython3",
   "version": "3.7.7"
  }
 },
 "nbformat": 4,
 "nbformat_minor": 4
}
