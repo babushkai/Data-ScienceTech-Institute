{
  "nbformat": 4,
  "nbformat_minor": 0,
  "metadata": {
    "colab": {
      "name": "DSTI Python Kickstart",
      "provenance": []
    },
    "kernelspec": {
      "name": "python3",
      "display_name": "Python 3"
    }
  },
  "cells": [
    {
      "cell_type": "code",
      "metadata": {
        "id": "9tKP1ucmtinD"
      },
      "source": [
        "import numpy as np"
      ],
      "execution_count": 1,
      "outputs": []
    },
    {
      "cell_type": "markdown",
      "metadata": {
        "id": "3XNaFn90tlMV"
      },
      "source": [
        "Factorial"
      ]
    },
    {
      "cell_type": "code",
      "metadata": {
        "id": "eMCo5tb6tkY0"
      },
      "source": [
        "def factorial_(n):\n",
        "  value = 1\n",
        "  if n==0:\n",
        "    return value\n",
        "  else:\n",
        "    for i in range(1, n+1):\n",
        "      value = value*i\n",
        "    return value"
      ],
      "execution_count": 21,
      "outputs": []
    },
    {
      "cell_type": "markdown",
      "metadata": {
        "id": "XBs4_sI_usnC"
      },
      "source": [
        "Recursive Factorial"
      ]
    },
    {
      "cell_type": "code",
      "metadata": {
        "id": "98u_E-9Lt4wq"
      },
      "source": [
        "def recursive_factorial(n):\n",
        "  if n==0:\n",
        "    return 1\n",
        "  else:\n",
        "    return n*recursive_factorial(n-1)"
      ],
      "execution_count": 29,
      "outputs": []
    },
    {
      "cell_type": "markdown",
      "metadata": {
        "id": "ZQbvVPLUvCAs"
      },
      "source": [
        "Lambda Factorial"
      ]
    },
    {
      "cell_type": "code",
      "metadata": {
        "id": "Dv4NmTqCt5xO"
      },
      "source": [
        "lambda_factorial = lambda n: 1 if n ==0 else n*lambda_factorial(n-1)"
      ],
      "execution_count": 42,
      "outputs": []
    },
    {
      "cell_type": "markdown",
      "metadata": {
        "id": "VO22wHuxvRYx"
      },
      "source": [
        "Fibonacci"
      ]
    },
    {
      "cell_type": "code",
      "metadata": {
        "id": "RDXBVxifvSDs"
      },
      "source": [
        "def fibonacci(n):\n",
        "  if n<=0:\n",
        "    print(\"Incorrect Input\")\n",
        "  elif n ==1:\n",
        "    return 0\n",
        "  elif n==2:\n",
        "    return 1\n",
        "  else:\n",
        "    return fibonacci(n-1) + fibonacci(n-2)"
      ],
      "execution_count": 46,
      "outputs": []
    },
    {
      "cell_type": "code",
      "metadata": {
        "id": "COJg36LTvrlS",
        "outputId": "9786b572-6c70-46d7-c876-f9b3a972e018",
        "colab": {
          "base_uri": "https://localhost:8080/",
          "height": 340
        }
      },
      "source": [
        "for i in range(1, 20):\n",
        "  print(fibonacci(i))"
      ],
      "execution_count": 58,
      "outputs": [
        {
          "output_type": "stream",
          "text": [
            "0\n",
            "1\n",
            "1\n",
            "2\n",
            "3\n",
            "5\n",
            "8\n",
            "13\n",
            "21\n",
            "34\n",
            "55\n",
            "89\n",
            "144\n",
            "233\n",
            "377\n",
            "610\n",
            "987\n",
            "1597\n",
            "2584\n"
          ],
          "name": "stdout"
        }
      ]
    }
  ]
}