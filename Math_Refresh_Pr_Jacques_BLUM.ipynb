{
  "nbformat": 4,
  "nbformat_minor": 0,
  "metadata": {
    "colab": {
      "name": "Math Refresh - Pr. Jacques BLUM",
      "provenance": []
    },
    "kernelspec": {
      "name": "python3",
      "display_name": "Python 3"
    }
  },
  "cells": [
    {
      "cell_type": "markdown",
      "metadata": {
        "id": "Xm040-VrNstr"
      },
      "source": [
        "# Day1"
      ]
    },
    {
      "cell_type": "markdown",
      "metadata": {
        "id": "cvIGE2WDJsr7"
      },
      "source": [
        "## Ⅰ. 1 Logical Symbols "
      ]
    },
    {
      "cell_type": "markdown",
      "metadata": {
        "id": "my6G2tDd9K3Y"
      },
      "source": [
        "\n",
        "\n",
        "$\\Rightarrow$ implication \\\n",
        "ex)  $(P) \\Rightarrow (Q)$ \\\n",
        "\n",
        "$\\nRightarrow$ does not imply \\\n",
        "\n",
        "$\\Leftrightarrow$ equivalence \\\n",
        "$A \\Leftrightarrow B$ means $A \\Rightarrow B $ and $B \\Rightarrow A $ \\\n",
        "\n",
        "$\\forall$ for any... \\\n",
        "$\\forall \\ p \\in \\mathbb{N}$ which is even, then we can write p=2q \\\n",
        "\n",
        "$\\exists$ there exists at least one\\\n",
        "$\\forall \\ p$ even, $\\exists q $ such that p=2q \\\n",
        " \n",
        "$\\exists!$ there exists **one and only one** \\\n",
        "$\\forall$ even, $\\exists$ !  p=2q (existence and unicity) \\\n",
        "$\\nexists$ there does not exist \\\n",
        "example: $\\forall x \\in \\mathbb{R} \\ \\nexists \\ y \\in \\mathbb{R}$ such that x+y=0 \\\n",
        "Remark: $A \\Leftrightarrow B$ if and only if(iff) \\\n",
        "Theorem $A \\Rightarrow B$ \\\n",
        "$\\qquad \\quad$ $B \\Rightarrow A$: Reverse \\\n",
        "$(B \\Rightarrow A) \\Leftrightarrow (\\not A \\Rightarrow \\not B)$ \\\n",
        "example: $\\forall x$ property (P) is satisfied \\\n",
        "Negation of this property: $\\exists x$ is not satisfied\n",
        "\n"
      ]
    },
    {
      "cell_type": "markdown",
      "metadata": {
        "id": "oDFpYGRDJx5A"
      },
      "source": [
        "## Ⅰ.2  Sets"
      ]
    },
    {
      "cell_type": "markdown",
      "metadata": {
        "id": "VhGn7F-jD9pa"
      },
      "source": [
        "\n",
        "$a \\in E$: belongs to \\\n",
        "$a \\notin E$: does not belong to \n",
        "\n",
        "\\\n",
        "\n",
        "Subsets: \n",
        "> $A \\subset E$ mean that $\\forall x \\in A$ then $x \\in E$ \\\n",
        "E = {a, b, c, ・・・, z} \\\n",
        "P(E): set of the parts of E \\\n",
        "$\\{a\\}, \\{a, b\\}, \\{a,b,c\\} \\in P(E)$ \\\n",
        "Important since we will talk about the part of $A, B \\in P(E)$ \\\n",
        "\n",
        "Union: \n",
        "> $ A \\cup B$ means that $x \\in A \\cup B$ iff $x \\in A$ or $x \\in B$ \\\n",
        "\n",
        "Intersection: \n",
        "> $A \\cap B$ means that $x \\in A \\cap B$ iff$ x\\in A$ and $x \\in B$ \\\n",
        "\n",
        "Commutativity: \\\n",
        "> $A \\cup B = B \\cup A$ \\\n",
        "> $A \\cap B = B \\cap A$ \\\n",
        "\n",
        "Associativity: \\\n",
        "> $(A \\cup B) \\cup C = A \\cup (B \\cup C) = A \\cup B \\cup C$ \\\n",
        "> $(A \\cap B) \\cap C = A \\cap (B \\cap C) = A \\cap B \\cap C$ \\\n",
        "\n",
        "Distiributivity: \\\n",
        "> $A \\cup (B \\cap C) = (A \\cup B) \\cap(A \\cup C)$ \\\n",
        "> $A \\cap (B \\cup C) = (A \\cap B) \\cup (A \\cap C)$ \\\n",
        "\n",
        "Complement: \\\n",
        "> $C_E^A = ${x $\\in$ E such that x $\\notin$ A} \\\n",
        "> $C_E^{C_E^A} = A$ \\\n",
        ">$C_E^E = \\emptyset$ \\\n",
        ">$C_E^{\\emptyset} = E$ \\\n",
        "$C_E^{A \\cup B} = C_E^{A} \\cap E^{B}$ \\\n",
        "$\\forall x \\in C_E^{A \\cup B}$ \\\n",
        "$\\Leftrightarrow x \\notin A \\cup B$ \\\n",
        "$\\Leftrightarrow x \\notin A$ and $x \\notin B $ \\\n",
        "$\\Leftrightarrow x \\notin C_A \\cup C_B$ \\\n",
        "$C_E^{A \\cap B} = C_E^A \\cup C_E^B$ \\\n",
        "\n",
        "Disjoint sets: \\\n",
        "> A and B are disjoint if $A \\cap B = \\emptyset$ \\\n",
        "\n",
        "Partition of E: \\\n",
        "> A and B are a partition of E if $A \\cap B = \\emptyset$ and $A \\cup B = E$ \\\n",
        "\n",
        "Cartesian product: \\\n",
        ">E, F are two sets \\\n",
        "E × F = {(a, b), with $a \\in E, b \\in F$} \\\n",
        "if $F=E  ExE =E^2$ \\\n",
        "example: $E=\\mathbb{R} \\\\\n",
        "  ExE=\\mathbb{R}^2 \\\\\n",
        "  ExExE =E^3$ \\\n",
        "example: $E= \\mathbb{R} \\\\\n",
        "E^3 = \\mathbb{R}^3 \\\\ \n",
        "(x, y, z) \\in R^3$ \\\n"
      ]
    },
    {
      "cell_type": "markdown",
      "metadata": {
        "id": "Vcw7M9PDYucF"
      },
      "source": [
        "## Ⅰ.3 Application:"
      ]
    },
    {
      "cell_type": "markdown",
      "metadata": {
        "id": "ONTGWD_SaRgx"
      },
      "source": [
        "Definition:  \n",
        "Being given two sets E and F, one defines an application f from E to F if we associate to each element a $\\in$ E and element b $\\in$ F and we write b = f(a) \n",
        "\n",
        "a:antecedent \n",
        "\n",
        "b: image \n",
        "\n",
        "※ Projection is one of the types of application "
      ]
    },
    {
      "cell_type": "markdown",
      "metadata": {
        "id": "brFO1cySaRaj"
      },
      "source": [
        "Image of a subset of E: \\\n",
        "$B = f(A) = \\{f(a), a \\in A\\}$ \\\n",
        "$f(E) = \\{f(x), X \\in E\\}$ image set \\\n",
        "$E = \\mathbb{N} \\\\\n",
        "f(x) = 2x, x \\in \\mathbb{N}$ \\\\\n",
        "$E = \\mathbb{N}$ \\\\\n",
        "$f(E) = $set of the even number \\\n",
        "$f(E)$ is a subset of $F$ \\\n",
        "$E= \\mathbb{N} → E = \\mathbb{N} =F$ \\\\\n",
        "\n",
        "**Surjection**: \\\n",
        "if f(E) = F we say the application has f in a surjection of f is surjective \\\n",
        "$\\forall y \\in F \\ \\exists \\ x \\in E$ such that(s.t.) $y = f(x)$ \\\n",
        "ex)Identity \\\\\n",
        "\n",
        "**Injection** or one to one application: \\\n",
        "f is an injection if each element of F has at most one antecedent: \\\n",
        "f(x) = f(x') $\\Rightarrow$ x = x' \\\n",
        "example: \\\n",
        "f(x) = |x| \\\\\n",
        "$f(x) = x^2$ ← f(x) = f(-x) = x\n",
        "$E = F = \\mathbb{R}$ \\\n",
        "\n",
        "\n",
        "Injection + surjection = **bijection** \\\n",
        "Definition: let f be an application from E to F. \\\n",
        "f is bijective if $\\forall b \\in F, \\exists! a\\in E$ such that b = f(a)\n",
        "\n"
      ]
    },
    {
      "cell_type": "markdown",
      "metadata": {
        "id": "jxx-Nlwz8DTr"
      },
      "source": [
        "## Logic and Set theory"
      ]
    },
    {
      "cell_type": "markdown",
      "metadata": {
        "id": "Bj76fHqzvOji"
      },
      "source": [
        "10/6 Math Refresh\n",
        "\n",
        "Partial Order: $ \\exists a, b, \\in $ \\\n",
        "・ set E ordered(i.e with an order selection \\\n",
        "・upperbound a is an upperbound if$ x R a \\forall \\in $ \\\n",
        "・lower bound: b is a lower bound if $ a \\forall x \\in A (b< x)$\n",
        "\n",
        "we say that A is bounded if there exist both a lower bound an upper bound \\\n",
        "\n",
        "・ upper bound: sup(supremum) x: the smallest upper bound if it exists\n",
        "・ lower bound: inf(infimum)     x:the largest lower bound \n",
        "\n",
        "\n"
      ]
    },
    {
      "cell_type": "markdown",
      "metadata": {
        "id": "LWEpbgTIjxO3"
      },
      "source": [
        "## Ⅱ.1 Permutations"
      ]
    },
    {
      "cell_type": "markdown",
      "metadata": {
        "id": "-N9uD9g2j-Lf"
      },
      "source": [
        "$ E = \\{a_1,a_2,....,a_n\\} $ \\\n",
        "We want to define a bijection between $E$ and $\\{1,...,n\\}$ \\\n",
        "Number of permutations are $n・(n-1)・(n-2),...,1 = n! \\\n",
        "n  factiorial "
      ]
    },
    {
      "cell_type": "markdown",
      "metadata": {
        "id": "1OBCjSXmjWDf"
      },
      "source": [
        "## Ⅱ.2 Arrangements\n",
        "\n",
        "\n"
      ]
    },
    {
      "cell_type": "markdown",
      "metadata": {
        "id": "czIYMkoljUTE"
      },
      "source": [
        "E = $\\{a_1, ..., a_n\\}$ \\\n",
        "An arrangement is an ordered subset of p elements of $E$ \\\n",
        "Two arrangements differ either by \\\n",
        "1)the nature of the element \\\n",
        "2)the order in the same subset\n",
        "\n",
        "Number of arrangements \\\n",
        "$A_n^P= n(n-1),...,(n-p+1)$ ←　This is how defined \\\n",
        " p terms = $\\dfrac{n!}{(n-p)!}$ \\\n",
        " $A_n^0=1$\n",
        "\n",
        " \\"
      ]
    },
    {
      "cell_type": "markdown",
      "metadata": {
        "id": "zI083MsBi2W1"
      },
      "source": [
        " ## Ⅱ.2. Combination"
      ]
    },
    {
      "cell_type": "markdown",
      "metadata": {
        "id": "P319qqE1jHDU"
      },
      "source": [
        "A combination is a non-ordered subset of p elements among these n elements\\\n",
        "> $C_n^P = \\dfrac{A_n^P}{p!} = \\dfrac{n!}{(n-p)!p!}$ \\\n",
        "\n",
        ">Ex) $\\binom{52}{5} = \\dfrac{52!}{5!47!} = \\dfrac{52×51×50×49×48}{5×4×3×2}$\n",
        "\n",
        ">$C_n^0 = 1$ \\\n",
        ">$0! =1$\n",
        "\n",
        "\n",
        "$p=1: C_n^1 = n$ \\\n",
        "$p=2: C_n^2 = \\dfrac{n(n-1)}{2}$ \\\n",
        "\n",
        "Relation between the $C_n^p$ : \\\n",
        "$C_n^p = C_n^{n-p}, C_n^0 = C_n^n = 1$ \\\n",
        "Pascal formula: $C_n^p = C_{n-1}^p + C_{n-1}^{p-1}$ \\\n",
        "Number of combination that contain a: $C_{n-1}^{p-1}$ \\\n",
        "$\\qquad \\qquad \\qquad \\qquad$ do not contain a:$C_{n-1}^p$ \\\n",
        "Pascal Triangle: \n",
        "[link text](https://en.wikipedia.org/wiki/Pascal%27s_triangle) \\\n",
        "\n",
        "Application: \\\n",
        "Formula of the binomial: \\\n",
        "$ (x + a_1)(x+a_2),...,(x+ a_n) $\n",
        "$= x^n + \\sigma_1 x^{n-1} + \\sigma_2^{X-2} +,..., \\sigma_p x^{n-p} \\ $ \\\n",
        "$\\sigma_1 = \\sigma_2 +,..., a_n$ \\\n",
        "$\\sigma_1 = a_n +, ..., a_n$ \\\n",
        "$\\sigma_2 = \\sigma_1 a_1 + \\sigma_2 a_2$ \\\n",
        "$\\sigma_p = \\Sigma a_1,..., a_p : C_n^p$ terms \\\n",
        "Particular case: a_1 = a_n \\\n",
        "$(x+a)^n = x^n + C_n^1 a^x + $ \\\n",
        "$(x+a)^3 = x^3 + 3ax^2 +3a^2x + a^3$ \\\n",
        "$(x+a)^4 = x^4 + 4ax^3 +6a^2x^2 + 4a^3x + a^4$ \\\n",
        "$ 2^n = \\sum_{p=0}^n C_n^P$\n"
      ]
    },
    {
      "cell_type": "markdown",
      "metadata": {
        "id": "z4tXYwgjkoGy"
      },
      "source": [
        "## Ⅲ.1 Real Numbers"
      ]
    },
    {
      "cell_type": "markdown",
      "metadata": {
        "id": "RBIxPjTFqnXc"
      },
      "source": [
        "![picture](https://drive.google.com/uc?id=1yMFZ8jPT319SfiZA_whbMYHR2usvNXp-)\n",
        "\n"
      ]
    },
    {
      "cell_type": "markdown",
      "metadata": {
        "id": "TEtb61A3-nHc"
      },
      "source": [
        "$\\mathbb{N}$(natural) ←$\\mathbb{Z}$(negative)←$\\mathbb{Q}$(rational)← $\\mathbb{R}$(real) ←(complex) \\\n",
        "sur ensemble → superset \\\n",
        "Square root of 2, you never reach to square root of 2 with the rational numbers.\\\n",
        "\n",
        "$\\mathbb{R}$ set of real numbers, superset of Q in which each bounded domain has an upper bound. Thus in $\\mathbb{R}$ we have a structure of total order and several properties: \\\n",
        "* Between 2 arbitry real numbers, there exists at least one rational number p/q \\\n",
        "* Any bounded subset of $\\mathbb{R}$ has an upper bound. \\\n",
        "* Between two rational numbers. there exists at least one irrational number. ex)$\\pi, e, \\sqrt{2}$ \\\n",
        "* any domain of $\\mathbb{R}$ that is lower bounded(i.e. $x=>m, \\forall x \\in A$) has a lower bound \\"
      ]
    },
    {
      "cell_type": "markdown",
      "metadata": {
        "id": "jjMw2TcWlL9k"
      },
      "source": [
        "## Ⅲ.2 [Accumulation point](https://en.wikipedia.org/wiki/Limit_point#:~:text=In%20mathematics%2C%20a%20limit%20point,point%20of%20other%20than%20itself.)"
      ]
    },
    {
      "cell_type": "markdown",
      "metadata": {
        "id": "x1zwphb3_ipf"
      },
      "source": [
        "\\\n",
        "Definition: $E \\subset \\mathbb{R}, E \\not = \\emptyset$ \\\n",
        "a is an accumulation point of $E$ if $\\forall \\epsilon >0, \\ \\exists x \\in E, x \\not = a$ such that $x \\in [a-\\epsilon, a+\\epsilon]$ \\\\\n",
        "$\\epsilon$ =  a small positive infinitesimal quantity, usually denoted epsilon or epsilon, whose limit is usually taken as $\\epsilon->0$ \\\n",
        "example: $E = \\{1, 1/2, ..., 1/n\\}$ ← Is there any accumulation point in this set?\\\n",
        "Answer: 0 is an accumulation point of $E$ \\\n",
        "Because as close as we want giving by epsilon we will wind point of E is closer to 0 from epsilon and zero doesn not belongs to E \\\n",
        "※The set $\\mathbb{N}$ has no accumulation point, all points of $\\mathbb{N}$ are isolated \\\n",
        "ex)Let $ n \\in \\mathbb{N} \\ (n-\\dfrac{1}{2}, n+\\dfrac{1}{2})$ This interval contains no other points from $\\mathbb{N}$ means n is isolated\n"
      ]
    },
    {
      "cell_type": "markdown",
      "metadata": {
        "id": "-HTA_b2O_rQd"
      },
      "source": [
        "[**Bolzamo・Weiestrass theorem**](https://en.wikipedia.org/wiki/Bolzano%E2%80%93Weierstrass_theorem): \\\n",
        "Let A be a subset of $\\mathbb{R}$ which has infinite elements and which is bounded. Then A has at least one accumulation point. \\\n",
        "\"Infinite\": Infinite number of elements in E \\\n",
        "\"bounded\": with an upper bound and a lower bound \\\n"
      ]
    },
    {
      "cell_type": "markdown",
      "metadata": {
        "id": "nEV0-zQVdZWI"
      },
      "source": [
        "\n",
        "[**Real sequences**](https://en.wikipedia.org/wiki/Sequence): \\\n",
        "Definition: An infinite real sequence in an application from $\\mathbb{N}$ to $\\mathbb{R}$: \\\n",
        "$\\forall n \\in \\mathbb{N} → u_n = f(n) \\in \\mathbb{R}$ \\\n",
        "We say that $\\{i_n\\}$ converges to L if $\\forall \\epsilon>0 \\exists$ N such that n>$\\mathbb{N}$ \\\n",
        "We note that lim, $\\{u_n\\}$ = L \\\n",
        "Remark1: L is unique means sequence cannot have two limits \\\n",
        "Remark2: $-1^n$ has no limit\\\n",
        "Limit: ${u_n}$ has a limit L if$\\forall \\epsilon > 0, \\exists \\mathbb{N}$ such that $n =>N, |u - L| =< \\epsilon$ \\"
      ]
    },
    {
      "cell_type": "markdown",
      "metadata": {
        "id": "p0rrPbMQddyo"
      },
      "source": [
        "**Consequence**: Any convergent sequence is bounded \\\n",
        "if $\\{u_n\\}$ \\\n",
        "**Monotone sequences**: \\\n",
        "sequence $\\{u_n\\}$ which is increasing. \\\n",
        "if $\\{u_n\\}$ is bounded, it converges towards its upper bound. \\\n",
        "If it is not upper bounded, it goes $+\\infty$ \\\n",
        "if $\\{u_n\\}$ is decreasing toward a lower bound. Its lower bound, \\\n",
        "if it is not lower bounded, it goes $-\\infty$ \\\n",
        "Adjacent sequences: \\\n",
        "Def \\\n",
        "Accumulation value of a sequence \\"
      ]
    },
    {
      "cell_type": "markdown",
      "metadata": {
        "id": "prYTd5rAiZAD"
      },
      "source": [
        "[**Cauchy criterion**](https://en.wikipedia.org/wiki/Cauchy%27s_convergence_test) \\\n",
        "Definition: a $\\in \\mathbb{R}$ is an accumulation value of $\\{u_n\\}$ if \\\n",
        "either $\\exists$ inifinite $u_n$ equal to a \\\n",
        "or a is an accumulation point of $\\{u_n\\}$ \\\n",
        "Property: a is an accumulation value of $\\{u_n\\}$ if $\\forall \\epsilon>0, \\exists  \\ u_n = (-1)^n$ \\\n",
        "\n",
        "\\\n",
        "\n",
        "Theorem1: A convergent sequence has one unique accumulation value ,which is its limit \\\n",
        "Theorem2: A bounded sequence has at least one accumulation value. \\\n",
        "Consequence: A sequence converges iff has q unique accumulation value \\\n",
        "Cauchy's criterion: \\\n",
        "$\\{u_n\\}$ converges iff $\\forall \\epsilon >0, \\exists \\mathbb{N}> 0$ such that for $n> \\mathbb{N}$ \\\n",
        "$| u_n -u_p|$ <"
      ]
    },
    {
      "cell_type": "markdown",
      "metadata": {
        "id": "70niWJUbNnp1"
      },
      "source": [
        "# Day2"
      ]
    },
    {
      "cell_type": "markdown",
      "metadata": {
        "id": "31NpenuGGPJc"
      },
      "source": [
        "## Ⅲ.1 Limits and continuity"
      ]
    },
    {
      "cell_type": "markdown",
      "metadata": {
        "id": "eyt6ctiIGO-O"
      },
      "source": [
        "Limits:\n",
        "$a \\in A N(a) \\subset A$ neighborhood of a\n",
        "\n",
        "Definition: We say that $f(x)　→ L$ \\\n",
        "$lim f(x) = L$ if $\\forall \\epsilon>0, \\exists a>0$ such that $|x-a| < a → |f(x) - L| < \\epsilon \\$ \\\n",
        "Remark: it might be possible that f(a) does not exist or f(a)\n",
        "\n",
        "Remark2: The limit L, if it exists, \n",
        "\n",
        "Remark3: inequality of the limits: \\\n",
        "if $\\exists lim f(x) = L$ and if $\\exists lim g(x)$ \\\n",
        "and if L < M, there exists a Neiborhood of (a) such that f(x) < g(x) \\\n",
        "\n",
        "\n",
        "Remark4: $lim_{x→a} f(x) = L → lim_{x→a} |f(x)| = |L|$ \\\n",
        "\n",
        "Remark5: operation on the limits: \\\n",
        "$f(x) → L \\\\\n",
        " g(x)→M$ \\\n",
        "$(\\lambda f + \\mu g)(x) →_{x→a}\\lambda L + M$ ←Sum of two function and multiplication of functions \n",
        "\n",
        "\n",
        "Remark6: Generalisation of this notion of limits: \\\n",
        "\n",
        "Limit by superior value \\\n",
        "$f(x) →_{x→a} L_+$ only in the superior way\\\n",
        "$\\forall \\epsilon, \\exists a >0 such that |x-a| <= \\alpha$ \\\n",
        "$→ L < f(x) < L + \\epsilon $ \\\n",
        "\n",
        "\n",
        "limit at the right or at the left: \\\n",
        "\n",
        "$x \\Rightarrow a_+$ \\\n",
        "$f(x) \\Rightarrow L$ if $\\forall \\epsilon > 0$, \\\n",
        "$\\exists a >0,$ \\\n",
        "such that $a \\leq x \\leq a+ \\alpha  \\Rightarrow |f(x) - L| \\leq \\epsilon$ \\\n",
        "\n",
        "$x \\Rightarrow α_-$ \\\n",
        "such that $a - \\alpha\\leq x \\leq a $ \n",
        "\n",
        "Infinite limits: \\\n",
        "$f(x) \\Rightarrow +\\infty$ if $ \\forall A>0, \\exists \\alpha>0$ such that $|x-a| \\leq \\alpha \\Rightarrow f(x) > A$ \\\n",
        "\n",
        "\n",
        "example: $f(x) = \\dfrac{1}{x-a}$ \\\n",
        "$f(x) \\Rightarrow + \\infty$ means $\\forall A>0 \\exists a, $ such that $a \\leq \\alpha \\leq a + \\alpha \\Rightarrow f(x) > A$ \\\n",
        "example: \\\n",
        "$f(x) = \\dfrac{1}{x-a}$ \\\\\n",
        "$x→a_+ \\\\\n",
        "f(x) →+\\infty$\n",
        "\n",
        "lim f(x) = L means that \n"
      ]
    },
    {
      "cell_type": "markdown",
      "metadata": {
        "id": "qVGgMwD9NwsJ"
      },
      "source": [
        "## Ⅲ.2 Way of variation:"
      ]
    },
    {
      "cell_type": "markdown",
      "metadata": {
        "id": "nwUpa4S2OCAh"
      },
      "source": [
        "a) Monotone function over an interval: \\\n",
        "f\n",
        "$x_1, x_2$ \\\n",
        "f is strictly increasing on I if $x_1<x_2 \\Rightarrow f(x_1) < f(x_2)$ ← Strictly Increasing \\\n",
        "f is decreasing (in the large way) if $x_1 < x_2 \\Rightarrow f(x_1) => f(x_2)$ \\\n",
        "strictly decreasing$ \\Leftrightarrow f(x_1) > f(x_2)$ \\\n",
        "\n",
        "\n",
        " Rate of variation of f: \\\n",
        " $R = \\dfrac{f(x_2) - f(x_1)}{x_2-x_1}$\n",
        "\n",
        "if f increasing R=>R \\\n",
        " iff f strictly increasing R>0 \\\n",
        "\n",
        " if f decreasing R<=0\n",
        " if f strictly decreasing R<0 \\\n",
        "\n",
        " why we are speaking about the rate of variation → Derivative !!!! \\"
      ]
    },
    {
      "cell_type": "markdown",
      "metadata": {
        "id": "Y9Tv7txRPwdL"
      },
      "source": [
        "**Operation on the function**: \\\n",
        "\n",
        "If f is monotone $\\lambda$ with $\\lambda \\in \\mathbb{R}$ is also monotone and if $\\lambda >0$  it has the same way of remaitian and if $\\lambda$ < - the way of remain is monotone \\\n",
        "if f and g are monotone in the same way, then f + g is monotone in the same way \\\n",
        "\n",
        "multiplication of 2 functions: \\\n",
        "if f(x) are g(x) are either f, if f and g are increasing, then f(x), g(x) increasing \\\n",
        "$R = {f(x/2) g(x_2) - f(x_1)g(x_1)}{x_2 - x_1} = \\dfrac{f(x_2)(g(x_2) - g(x_1)) +g(x_2)(f(x_2) - f(x_1)}{x_2-x_1}$ \\\n",
        "\n",
        "if f keeps the same sign as J, then 1/f has the opposite way of variation \\\n",
        "\n",
        "$R\\dfrac{1}{f} = \\dfrac{1}{f(x_2) - 1/f(x_1)} = \\dfrac{f(x_1) - f(x_2)}{f(x_1)f(x_2)$(x_2-x_1)} = \\dfrac{-R(f)}{f(x_1)f(x_2)}$ \\\n",
        "\n",
        "Composition of functions: \n",
        "If f is monotone on f, if g is an monotone on g, then g $\\circ$ f is monotone on I \\\n",
        "f increasing, g increasing →${(g \\circ f)(x_2) - (g \\circ f)(x_2)}$ \\\n",
        "$= \\dfrac{g(f(x_2)) - g(f(x_1))}{x_2 - x_1}$ =>0 \\\n",
        "f is increasing, g is decreasing $g \\circ f$ decreasing \\\n",
        "f is decreasing g is increasing $g \\circ f$ decreasing \\\n",
        "f is decreasing, g is decreasing $g \\circ f$ increasng"
      ]
    },
    {
      "cell_type": "markdown",
      "metadata": {
        "id": "9Ftvq5p_VOCT"
      },
      "source": [
        "Suppose that f is increasing in open interval $\\left]a-\\alpha, a \\right[$ \\\n",
        "If f is bounded, $lim_{x→a} f(x) = max f(x)$ \\\n",
        "if f is not bounded, $lim_{x→a} f(x) = + \\infty$ \\\n",
        "f is increasing in open interval $\\left]a-\\alpha, a \\right[$ \\\n",
        "if f is bounded, $lim_{x→a} f(x) = min f(x)$ \\\n",
        "if f is not bounded, $lim_{x→a} f(x) = - \\infty$"
      ]
    },
    {
      "cell_type": "markdown",
      "metadata": {
        "id": "fcB5yjZDaWjF"
      },
      "source": [
        "3.3 Continuity:"
      ]
    },
    {
      "cell_type": "markdown",
      "metadata": {
        "id": "g7S-zFe2aZad"
      },
      "source": [
        "Definition; f is said to be continuous at point $x_0 if f(x)$ exists and if $f(x) \\Rightarrow f(x_0)$ when $\\alpha →{x_0}$ \\\n",
        "Remark: f is continuous at the right of x_0 if f(x) \\Rightarrow f(x_0) when x → x_0 \\\n",
        "Operation on continuous function: \\\n",
        "if f and g are continuous at point $a_0$ then $\\lambda f + \\mu g$ is continuous at $x_0$ for $\\lambda, \\mu \\in \\mathbb{R}$ \\\n",
        "f, g continuous $x_0 → f(x), g(x)$ is continuous at $x_0$ \\\n",
        "f, g continuous $\\Rightarrow \\dfrac{f(x)}{g(x)}$ is continuous at $x_0$ if $g(x_0) \\not = 0$ \\\n",
        "Application to sequences: \\\n",
        "Suppose f(x) is continuous at x_0 \\\n",
        "Suppose f(x) is continuous at x_0 and {u_n} converges to x_0, then the sequence  \\\n",
        "{f(u_n)} converges toward "
      ]
    },
    {
      "cell_type": "markdown",
      "metadata": {
        "id": "fkH-K7M0cnVh"
      },
      "source": [
        "Composition of two functions: \\\n",
        "f is defined in $N(x_0)$ and is continuous at $x_0$ \\\n",
        "Let $y_0 = f(x_0)$ \\\n",
        "Let g be defined in a $N(y_0)$ and be continuous at $y_0$ \\\n",
        "Then g \\circ f is continuous "
      ]
    },
    {
      "cell_type": "markdown",
      "metadata": {
        "id": "SSxWzkKDea4X"
      },
      "source": [
        "Theorem: If f is monotone on I,\n",
        "it only has first species continuity \\\n",
        "\n",
        "Second species discontinuities: \\\n",
        "\n",
        "examples: $f(x) = 0 \\ x \\in Q \\\\\n",
        "           f(x) =1 \\ x \\not \\in Q$ \\\n",
        "f(x) = sin(\\dfrac{1}{x}) \n",
        "\n",
        "Remark: if $\\in lim f(x) = L \\\n",
        "if f(x_0) \\not = L or if f(x_0)$ does nort exist, \n",
        "then it is possible to define a new function g such that {g(x) = f(x) \\\n",
        "\n",
        "If f is continuous, "
      ]
    },
    {
      "cell_type": "markdown",
      "metadata": {
        "id": "8jt3WM59g0OF"
      },
      "source": [
        "then we can say that we have extended function f by continuity to a function g which is continuous at $x = {x_0}$ \\\n",
        "$f(x_0-) = f(x_0+) = L$ \\\n",
        "$f(x_0) \\not = L$ \\\n",
        "Continuity on a interval　←　Open Interval\n",
        "Continuity on a [segment](https://en.wikipedia.org/wiki/Line_segment): \\ ← segment is closed interval \\\n",
        "Def: We say that f is continuous on [a, b] if f is continuous at all the  of ]a, b[ is continuous at the right at point A and at the left at point B \\\n",
        "Proof: if f is continuous at [a, b] \\\n",
        "if g is continuous on f([a, b]) ← Is it the same segment?  ←　only f is continuous \\\n",
        "$g \\circ f$ is continuous on [a, b] \\\n",
        "[Uniform continuity](https://en.wikipedia.org/wiki/Uniform_continuity#:~:text=In%20mathematics%2C%20a%20function%20f,f(y)%20may%20depend%20on): \\\n",
        "Definition: f is said to be uniformly continuous if $\\forall \\epsilon >0, \\exists \\alpha >0$ such that $|x_1 - x_2| < \\alpha \\Rightarrow |f(x_1) -f(x_2)| < \\epsilon \\\n",
        "\\forall x_1, x_2, \\in y$ \\\n",
        "$\\alpha$ is independent of x \\\n",
        "Heine theorem: if f is continuous on [a, b], them f is uniformely continuous on [a, b] is bounded \\\n",
        "[Compact set](https://en.wikipedia.org/wiki/Compact_space)\n"
      ]
    },
    {
      "cell_type": "markdown",
      "metadata": {
        "id": "8U9zvQ9IlU2J"
      },
      "source": [
        "Corollay: The image of a segment by a continuous application is a segment by a continuous application in a segment \\\n",
        "[a, b] → [c, d] if f([a, b]) = \\\n",
        "Consequence: \\\n"
      ]
    }
  ]
}