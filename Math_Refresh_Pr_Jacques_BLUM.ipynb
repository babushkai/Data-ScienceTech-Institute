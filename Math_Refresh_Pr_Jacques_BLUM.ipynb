{
  "nbformat": 4,
  "nbformat_minor": 0,
  "metadata": {
    "colab": {
      "name": "Math Refresh - Pr. Jacques BLUM",
      "provenance": []
    },
    "kernelspec": {
      "name": "python3",
      "display_name": "Python 3"
    }
  },
  "cells": [
    {
      "cell_type": "markdown",
      "metadata": {
        "id": "Xm040-VrNstr"
      },
      "source": [
        "# Day1"
      ]
    },
    {
      "cell_type": "markdown",
      "metadata": {
        "id": "cvIGE2WDJsr7"
      },
      "source": [
        "## Ⅰ. 1 Logical Symbols "
      ]
    },
    {
      "cell_type": "markdown",
      "metadata": {
        "id": "my6G2tDd9K3Y"
      },
      "source": [
        "\n",
        "\n",
        "$\\Rightarrow$ implication \\\n",
        "ex)  $(P) \\Rightarrow (Q)$ \\\n",
        "\n",
        "$\\nRightarrow$ does not imply \\\n",
        "\n",
        "$\\Leftrightarrow$ equivalence \\\n",
        "$A \\Leftrightarrow B$ means $A \\Rightarrow B $ and $B \\Rightarrow A $ \\\n",
        "\n",
        "$\\forall$ for any... \\\n",
        "$\\forall \\ p \\in \\mathbb{N}$ which is even, then we can write p=2q \\\n",
        "\n",
        "$\\exists$ there exists at least one\\\n",
        "$\\forall \\ p$ even, $\\exists q $ such that p=2q \\\n",
        " \n",
        "$\\exists!$ there exists **one and only one** \\\n",
        "$\\forall$ even, $\\exists$ !  p=2q (existence and unicity) \\\n",
        "$\\nexists$ there does not exist \\\n",
        "example: $\\forall x \\in \\mathbb{R} \\ \\nexists \\ y \\in \\mathbb{R}$ such that x+y=0 \\\n",
        "Remark: $A \\Leftrightarrow B$ if and only if(iff) \\\n",
        "Theorem $A \\Rightarrow B$ \\\n",
        "$\\qquad \\quad$ $B \\Rightarrow A$: Reverse \\\n",
        "$(B \\Rightarrow A) \\Leftrightarrow (\\not A \\Rightarrow \\not B)$ \\\n",
        "example: $\\forall x$ property (P) is satisfied \\\n",
        "Negation of this property: $\\exists x$ is not satisfied\n",
        "\n"
      ]
    },
    {
      "cell_type": "markdown",
      "metadata": {
        "id": "oDFpYGRDJx5A"
      },
      "source": [
        "## Ⅰ.2  [Sets](https://en.wikipedia.org/wiki/Algebra_of_sets)"
      ]
    },
    {
      "cell_type": "markdown",
      "metadata": {
        "id": "VhGn7F-jD9pa"
      },
      "source": [
        "\n",
        "$a \\in E$: belongs to \\\n",
        "$a \\notin E$: does not belong to \n",
        "\n",
        "\\\n",
        "\n",
        "Subsets: \n",
        "> $A \\subset E$ mean that $\\forall x \\in A$ then $x \\in E$ \\\n",
        "E = {a, b, c, ・・・, z} \\\n",
        "P(E): set of the parts of E \\\n",
        "$\\{a\\}, \\{a, b\\}, \\{a,b,c\\} \\in P(E)$ \\\n",
        "Important since we will talk about the part of $A, B \\in P(E)$ \\\n",
        "\n",
        "\n",
        "Union: \n",
        "> $ A \\cup B$ means that $x \\in A \\cup B$ iff $x \\in A$ **or** $x \\in B$ \\\n",
        "\n",
        "Intersection: \n",
        "> $A \\cap B$ means that $x \\in A \\cap B$ iff$ x\\in A$ **and** $x \\in B$ \\\n",
        "\n",
        "Generalization to large numbers \\\n",
        ">$ \\underset{i}{\\cup} A_i x \\in \\underset{i}{\\cup}  A_i$ iff x belongs one $A_i$ **at least** \\\n",
        "$ \\underset{i}{\\cup}  A_i x \\in \\underset{i}{\\cup}  A_i$ iff x belongs to **all** the $A_i$\n",
        "\n",
        "\n",
        "\n",
        "Commutativity: \\\n",
        "> $A \\cup B = B \\cup A$ \\\n",
        "> $A \\cap B = B \\cap A$ \\\n",
        "> $A \\cup \\emptyset = A$ \\\n",
        "> $A \\cap \\emptyset = \\emptyset$ \\\n",
        "> $A \\cup E = E$ \\\n",
        "> $A \\cap E = A$ \\\n",
        "> $※\\emptyset \\subset P(E)$\n",
        "\n",
        "Associativity: \\\n",
        "> $(A \\cup B) \\cup C = A \\cup (B \\cup C) = A \\cup B \\cup C$ \\\n",
        "> $(A \\cap B) \\cap C = A \\cap (B \\cap C) = A \\cap B \\cap C$ \\\n",
        "\n",
        "Distiributivity: \\\n",
        "> $A \\cup (B \\cap C) = (A \\cup B) \\cap(A \\cup C)$ \\\n",
        "> $A \\cap (B \\cup C) = (A \\cap B) \\cup (A \\cap C)$ \\\n",
        "\n",
        "Complement: \\\n",
        "> $C_E^A = $ \\{ x $\\in$ E such that x $\\notin$ A \\} \\\n",
        ">Ex) $E = \\mathbb{N}$ \\\n",
        "> A = {even number} \\\n",
        "> $C_E^A$ = {odd number}\n",
        "\n",
        "> $C_E^{C_E^A} = A$ \\\n",
        ">$C_E^E = \\emptyset$ \\\n",
        ">$C_E^{\\emptyset} = E$ \\\n",
        "> $C_E^{\\underset{i}{\\cup}A_i} \\underset{i}{\\cap} C_E^{A_i}$\n",
        "\n",
        ">$C_E^{A \\cup B} = C_E^{A} \\cap C_E^{B}$ \\\n",
        "$\\forall x \\in C_E^{A \\cup B}$ \\\n",
        "$\\Leftrightarrow x \\notin A \\cup B$ \\\n",
        "$\\Leftrightarrow x \\notin A$ and $x \\notin B $ \\\n",
        "$\\Leftrightarrow x \\notin C_A \\cup C_B$ \\\n",
        "$C_E^{A \\cap B} = C_E^A \\cup C_E^B$ \\\n",
        "\n",
        "Disjoint sets: \\\n",
        ">$A \\cap B = \\emptyset$ \\\n",
        ">$A \\cup B = E$ \\\n",
        "\n",
        "Partition of E: \\\n",
        "> A and B are a partition of E if \\\n",
        "$A \\cap B = \\emptyset$ and \\\n",
        "$A \\cup B = E$ \\\n",
        "\n",
        "[`Cartesian product`](https://en.wikipedia.org/wiki/Cartesian_product#:~:text=In%20mathematics%2C%20specifically%20set%20theory,and%20a%20set%20of%20columns.): \\\n",
        ">E, F are two sets \\\n",
        "E × F = $\\{ (a, b),$ with $a \\in E, b \\in F \\}$ \\\n",
        "if $F=E$ \\\n",
        "$E×E =E^2$ \\\n",
        "example: $E=\\mathbb{R} \\\\\n",
        "  E×E=\\mathbb{R}^2 \\\\\n",
        "  E×E×E =\\mathbb{R}^3$ \\\n",
        "example: $E= \\mathbb{R} \\\\\n",
        "E^3 = \\mathbb{R}^3 \\\\ \n",
        "(x, y, z) \\in \\mathbb{R}^3$ \\\n"
      ]
    },
    {
      "cell_type": "markdown",
      "metadata": {
        "id": "Vcw7M9PDYucF"
      },
      "source": [
        "## Ⅰ.3 Application:"
      ]
    },
    {
      "cell_type": "markdown",
      "metadata": {
        "id": "aupXcybWmh6V"
      },
      "source": [
        "![](https://upload.wikimedia.org/wikipedia/commons/6/64/Codomain2.SVG)"
      ]
    },
    {
      "cell_type": "markdown",
      "metadata": {
        "id": "ONTGWD_SaRgx"
      },
      "source": [
        "Definition:  \n",
        ">Being given two sets E and F, one defines an application f from E to F \\\n",
        "if we associate to each element a $\\in$ E and element b $\\in$ F \\\n",
        "and we write $b = f(a)$ \n",
        "\n",
        ">a:antecedent \\\n",
        "b: image \\\n",
        "※ Projection is one of the types of application "
      ]
    },
    {
      "cell_type": "markdown",
      "metadata": {
        "id": "brFO1cySaRaj"
      },
      "source": [
        "Image of a subset of E: \\\n",
        ">$B = f(A) = \\{f(a), a \\in A\\}$ B is image of A by f\\\n",
        "$f(E) = \\{f(x), X \\in E\\}$ image set \\\n",
        "$E = \\mathbb{N}$ \\\\\n",
        "\n",
        ">$f(x) = 2x, x \\in \\mathbb{N}$ \\\\\n",
        "$E = \\mathbb{N}$ \\\\\n",
        "$f(E) = $set of the even number \\\n",
        "$f(E)$ is a subset of $F$ \\\n",
        "$E= \\mathbb{N} → E = \\mathbb{N} =F$ \\\\\n",
        "\n",
        "**Surjection**: \\\n",
        ">if f(E) = F we say the application has f in a surjection of f is surjective \\\n",
        "$\\forall y \\in F \\ \\exists \\ x \\in E$ such that(s.t.) $y = f(x)$ \\\n",
        "ex)Identity is the part of Surjection \\\\\n",
        "\n",
        "**Injection** or one to one application: \\\n",
        ">f is an injection if each element of F has at most one antecedent: \\\n",
        "$f(x) = f(x') \\Rightarrow x = x'$ \\\n",
        "example of not Injection: \\\n",
        "$f(x) = |x|$ \\\\\n",
        "$f(x) = x^2$ ← f(x) = f(-x) = x\n",
        "$E = F = \\mathbb{R}$ \\\n",
        "\n",
        "\n",
        "Injection + surjection = **bijection** \\\n",
        "Definition:\n",
        "> let f be an application from E to F. \\\n",
        "f is bijective if $\\forall b \\in F, \\exists! a\\in E$ such that b = f(a)\n",
        "\n"
      ]
    },
    {
      "cell_type": "markdown",
      "metadata": {
        "id": "Jv2KuhWoX74Z"
      },
      "source": [
        "![](https://upload.wikimedia.org/wikipedia/commons/7/7b/Surjection_Injection_Bijection-fr.svg)"
      ]
    },
    {
      "cell_type": "markdown",
      "metadata": {
        "id": "jxx-Nlwz8DTr"
      },
      "source": [
        "## Logic and Set theory"
      ]
    },
    {
      "cell_type": "markdown",
      "metadata": {
        "id": "Bj76fHqzvOji"
      },
      "source": [
        "10/6 Math Refresh\n",
        "\n",
        "Partial Order: $ \\exists a, b, \\in $ \\\n",
        "・ set E ordered(i.e with an order selection \\\n",
        "・upperbound a is an upperbound if$ x R a \\forall \\in $ \\\n",
        "・lower bound: b is a lower bound if $ a \\forall x \\in A (b< x)$\n",
        "\n",
        "we say that A is bounded if there exist both a lower bound an upper bound \\\n",
        "\n",
        "・ upper bound: `sup(supremum)` x: the smallest upper bound if it exists \\\n",
        "・ lower bound: `inf(infimum)`     x:the largest lower bound \n",
        "\n",
        "\n"
      ]
    },
    {
      "cell_type": "markdown",
      "metadata": {
        "id": "LWEpbgTIjxO3"
      },
      "source": [
        "## Ⅱ.1 Permutations"
      ]
    },
    {
      "cell_type": "markdown",
      "metadata": {
        "id": "-N9uD9g2j-Lf"
      },
      "source": [
        "$ E = \\{a_1,a_2,....,a_n\\} $ \\\n",
        "We want to define a bijection between $E$ and $\\{1,...,n\\}$ \\\n",
        "Number of permutations are $ n・(n-1)・(n-2),...,1 = n! $\\\n",
        "n  factiorial "
      ]
    },
    {
      "cell_type": "markdown",
      "metadata": {
        "id": "1OBCjSXmjWDf"
      },
      "source": [
        "## Ⅱ.2 Arrangements\n",
        "\n",
        "\n"
      ]
    },
    {
      "cell_type": "markdown",
      "metadata": {
        "id": "czIYMkoljUTE"
      },
      "source": [
        "E = $\\{a_1, ..., a_n\\}$ \\\n",
        ">An arrangement is an ordered subset of p elements of $E$ \\\n",
        "Two arrangements differ either by \\\n",
        "1)the nature of the element \\\n",
        "2)the order in the same subset\n",
        "\n",
        "Number of arrangements \\\n",
        "$A_n^P= n(n-1),...,(n-p+1)$ ←　This is how defined \\\n",
        " p terms = $\\dfrac{n!}{(n-p)!}$ \\\n",
        " $A_n^0=1$\n",
        "\n",
        " \\"
      ]
    },
    {
      "cell_type": "markdown",
      "metadata": {
        "id": "zI083MsBi2W1"
      },
      "source": [
        " ## Ⅱ.2. Combination"
      ]
    },
    {
      "cell_type": "markdown",
      "metadata": {
        "id": "P319qqE1jHDU"
      },
      "source": [
        "A combination is a non-ordered subset of p elements among these n elements\\\n",
        "> $C_n^P = \\dfrac{A_n^P}{p!} = \\dfrac{n!}{(n-p)!p!}$ \\\n",
        "\n",
        ">Ex) $\\binom{52}{5} = \\dfrac{52!}{5!47!} = \\dfrac{52×51×50×49×48}{5×4×3×2}$\n",
        "\n",
        ">$C_n^0 = 1$ \\\n",
        ">$0! =1$\n",
        "\n",
        "\n",
        "$p=1: C_n^1 = n$ \\\n",
        "$p=2: C_n^2 = \\dfrac{n(n-1)}{2}$ \\\n",
        "\n",
        "Relation between the $C_n^p$ : \\\n",
        "$C_n^p = C_n^{n-p}, C_n^0 = C_n^n = 1$ \\\n",
        "Pascal formula: $C_n^p = C_{n-1}^p + C_{n-1}^{p-1}$ \\\n",
        "Number of combination that contain a: $C_{n-1}^{p-1}$ \\\n",
        "$\\qquad \\qquad \\qquad \\qquad$ do not contain a:$C_{n-1}^p$ \\\n",
        "Pascal Triangle: \n",
        "[link text](https://en.wikipedia.org/wiki/Pascal%27s_triangle) \\\n",
        "\n",
        "Application: \\\n",
        "Formula of the binomial: \\\n",
        "$ (x + a_1)(x+a_2),...,(x+ a_n) $\n",
        "$= x^n + \\sigma_1 x^{n-1} + \\sigma_2^{X-2} +,..., \\sigma_p x^{n-p} \\ $ \\\n",
        "$\\sigma_1 = \\sigma_2 +,..., a_n$ \\\n",
        "$\\sigma_1 = a_n +, ..., a_n$ \\\n",
        "$\\sigma_2 = \\sigma_1 a_1 + \\sigma_2 a_2$ \\\n",
        "$\\sigma_p = \\Sigma a_1,..., a_p : C_n^p$ terms \\\n",
        "Particular case: a_1 = a_n \\\n",
        "$(x+a)^n = x^n + C_n^1 a^x + $ \\\n",
        "$(x+a)^3 = x^3 + 3ax^2 +3a^2x + a^3$ \\\n",
        "$(x+a)^4 = x^4 + 4ax^3 +6a^2x^2 + 4a^3x + a^4$ \\\n",
        "$ 2^n = \\sum_{p=0}^n C_n^P$\n"
      ]
    },
    {
      "cell_type": "markdown",
      "metadata": {
        "id": "z4tXYwgjkoGy"
      },
      "source": [
        "## Ⅲ.1 Real Numbers"
      ]
    },
    {
      "cell_type": "markdown",
      "metadata": {
        "id": "RBIxPjTFqnXc"
      },
      "source": [
        "![picture](https://drive.google.com/uc?id=1yMFZ8jPT319SfiZA_whbMYHR2usvNXp-)\n",
        "\n"
      ]
    },
    {
      "cell_type": "markdown",
      "metadata": {
        "id": "TEtb61A3-nHc"
      },
      "source": [
        "$\\mathbb{N}$(natural) ←$\\mathbb{Z}$(negative)←$\\mathbb{Q}$(rational)← $\\mathbb{R}$(real) ←(complex) \\\n",
        "sur ensemble → superset \\\n",
        "Square root of 2, you never reach to square root of 2 with the rational numbers.\n",
        "\n",
        "$\\mathbb{R}$ set of real numbers, superset of Q in which each bounded domain has an upper bound. Thus in $\\mathbb{R}$ we have a structure of total order and several properties: \\\n",
        "* Between 2 arbitry real numbers, there exists at least one rational number p/q \\\n",
        "* Any bounded subset of $\\mathbb{R}$ has an upper bound. \\\n",
        "* Between two rational numbers. there exists at least one irrational number. ex)$\\pi, e, \\sqrt{2}$ \\\n",
        "* any domain of $\\mathbb{R}$ that is lower bounded(i.e. $x=>m, \\forall x \\in A$) has a lower bound \\"
      ]
    },
    {
      "cell_type": "markdown",
      "metadata": {
        "id": "jjMw2TcWlL9k"
      },
      "source": [
        "## Ⅲ.2 [Accumulation point](https://en.wikipedia.org/wiki/Limit_point#:~:text=In%20mathematics%2C%20a%20limit%20point,point%20of%20other%20than%20itself.)"
      ]
    },
    {
      "cell_type": "markdown",
      "metadata": {
        "id": "x1zwphb3_ipf"
      },
      "source": [
        "\\\n",
        "Definition: $E \\subset \\mathbb{R}, E \\not = \\emptyset$ \\\n",
        "a is an accumulation point of $E$ if $\\forall \\epsilon >0, \\ \\exists x \\in E, x \\not = a$ such that $x \\in [a - \\epsilon, a+\\epsilon]$ \\\\\n",
        "$\\epsilon$ =  a small positive infinitesimal quantity, usually denoted epsilon or epsilon, whose limit is usually taken as $\\epsilon - >0$ \\\n",
        "example: $E = \\{1, 1/2, ..., 1/n\\}$ ← Is there any accumulation point in this set?\\\n",
        "Answer: 0 is an accumulation point of $E$ \\\n",
        "Because as close as we want giving by epsilon we will wind point of E is closer to 0 from epsilon and zero doesn not belongs to E \\\n",
        "※The set $\\mathbb{N}$ has no accumulation point, all points of $\\mathbb{N}$ are isolated \\\n",
        "ex)Let $ n \\in \\mathbb{N} \\ (n-\\dfrac{1}{2}, n+\\dfrac{1}{2})$ This interval contains no other points from $\\mathbb{N}$ means n is isolated\n"
      ]
    },
    {
      "cell_type": "markdown",
      "metadata": {
        "id": "-HTA_b2O_rQd"
      },
      "source": [
        "[**Bolzamo・Weiestrass theorem**](https://en.wikipedia.org/wiki/Bolzano%E2%80%93Weierstrass_theorem): \\\n",
        "Definition:\n",
        ">Let A be a subset of $\\mathbb{R}$ which has infinite elements and which is bounded. Then A has at least one accumulation point. \\\n",
        "\"Infinite\": Infinite number of elements in E \\\n",
        "\"bounded\": with an upper bound and a lower bound \\\n"
      ]
    },
    {
      "cell_type": "markdown",
      "metadata": {
        "id": "nEV0-zQVdZWI"
      },
      "source": [
        "\n",
        "[**Real sequences**](https://en.wikipedia.org/wiki/Sequence): \\\n",
        "Definition: \n",
        ">An infinite real sequence in an application from $\\mathbb{N}$ to $\\mathbb{R}$: \\\n",
        "$\\forall n \\in \\mathbb{N} → u_n = f(n) \\in \\mathbb{R}$ \\\n",
        "\n",
        ">$\\{u_n\\} $ has a limit L if $\\forall \\epsilon>0, \\exists N$ such that $n \\geq N, |u_n - L| \\leq \\epsilon $ \n",
        "\n",
        "Remark1: \n",
        ">L is unique means sequence cannot have two limits \\\n",
        "\n",
        "Remark2: \n",
        ">$-1^n$ has no limit\\\n",
        "Limit: ${u_n}$ has a limit L if$\\forall \\epsilon > 0, \\exists \\mathbb{N}$ such that $n =>N, |u - L| =< \\epsilon$ \\\n",
        "\n",
        "Propertiy: \n",
        ">Any convergent sequence is bounded\n",
        "\n",
        "Proof:\n",
        "> $\\epsilon$ given, $\\exists N >0$ such that for $n>\\mathbb{N} \\\\ \n",
        "  L-\\epsilon \\leq u_n \\leq L + \\epsilon$ \\\\\n",
        "  → $u_n \\leq sup(u_0, u_1, u_2, u_3,..., u_n, L+ \\epsilon)$ \\\\\n",
        "    $u_n \\geq inf(u_0, u_1, u_2, u_3,..., u_n, L- \\epsilon)$ "
      ]
    },
    {
      "cell_type": "markdown",
      "metadata": {
        "id": "p0rrPbMQddyo"
      },
      "source": [
        "**Consequence**: \n",
        ">Any convergent sequence is bounded \\\n",
        "if $\\{u_n\\}$ \\\n",
        "\n",
        "**Monotone sequences**: \\\n",
        ">sequence $\\{u_n\\}$ which is increasing. \\\n",
        "if $\\{u_n\\}$ is upper bounded, it converges towards its upper bound. \\\n",
        "If it is not upper bounded, it goes $+\\infty$ \\\n",
        "if $\\{u_n\\}$ is decreasing toward a lower bound. It converges towards its lower bound. \\\n",
        "if it is not lower bounded, it goes $-\\infty$ \\\n",
        "\n",
        "example:\n",
        ">$u_n = a, a>0, n \\in \\mathbb{R}$ \\\\\n",
        "if $a>1, u_n$ is increasing \\\\\n",
        "$a = 1 +\\alpha, \\alpha>0 \\\\\n",
        "(1+\\alpha)^n = 1 + n\\alpha +,..., n→+\\infty \\\\\n",
        "if n → +\\infty \\ u_n > 1 +n\\alpha →+\\infty$\n",
        "\n",
        ">$u^n$ is lower bounded: $u_n >0,$ \\\\\n",
        " $u^n$ is decreasing \\\\\n",
        "if $ a < 1, u_n$ is decreasing \\\\\n",
        "$a=\\frac{1}{b}, b>1 \\\\\n",
        "a^n=\\frac{1}{b^n→+\\infty} →0$\n",
        "\n",
        "**Adjacent sequences**: \\\n",
        "Definition: \\\n",
        ">$\\{u_n\\}$ and $\\{V_n\\}$ are adjacent sequences \\\\\n",
        "if $u_n \\leq V_n, \\forall n \\in \\mathbb{N}$ and $u_n$ is increasing and $V_n$ is decreasing. \\\\\n",
        "Then the two sequences converge towards the same limit\n",
        ">Accumulation value of a sequence \\"
      ]
    },
    {
      "cell_type": "markdown",
      "metadata": {
        "id": "M0DyBvBY64jz"
      },
      "source": [
        "![adjacent.gif](data:image/gif;base64,R0lGODlhyADIAN0AAAAAAMDAwAAA/4CAgP9mACws//+BLP8AAP/Vubm5/5KS//++kv9uDAwM/6mp///Mqbi4///VuMXFxaCgoP+laP/j0P+6jNLS0ra2tt3d3cnJyb+/v/9oaP/Lp6en//9NTf/Z2U1N/2ho//+9vaWlpf+np66urtnZ/56eniIiIsfH/729///p2f/Yvf/Dmv+VTWBgYGJiYv///wAAAAAAAAAAAAAAAAAAAAAAAAAAAAAAAAAAAAAAAAAAAAAAAAAAACH5BAEAADIALAAAAADIAMgAAAb/QJlwSCwWB0ijcslsOp/QqHRKrVqvsg0yie16v+CwOLxFXsbotHrNbm4B27Z8Tq8/MWZAComx+/+AYxlxAHBcgYiJim5chTJxi5GSgVsZQo4aSBqTnJ1sF3xDjo+HnqanWJCXAEOqqK+wjANFozJ4A5axursymQMbtKytpbzFnq6rRKC/xs3HSrVCyM7UndHS1dlzAgJF3EzX2uJt30Tl0MLj6mznQu3B6/Fq7+9E4fL4WPTdS/f5/1P2gUsHsGBAfkPqiSL4BIKDBAb/tTuhMFkUBQUaFFAQEZ8IAR6EnAjxrVs7f0YSFOAmoADEjutWsOTmoSQ/hCiLOGjAsoED/5jxVHwMEbJkwoVRVLIsAAFoRIQ4GTbBqJGjU4NQkUpJ8PDq06MWvYplkjXs2LNPcqJdK0Mt27Nu34qNK/cq3bpA7+J1RoCCEgoE0O0F2IFAhSIVCHQQPPhf3yKA+0ltrM4CARZECFiQTNnxZiGWB3bOF1qIZtGj5SV2IaNwE71UHL5MbQdwYr+o01DdSNtOYgKGTcsAbm/yF6XcXPau8+Kx6cDDtaLZ2fPn8jktggvf3ta4F+Qtm17/Az262TG7rY73U7487ClcZ6+30176/HX1z9//935/s/7+FQNggLsMSGAsBh74SoIKnsJgg548CCEnEk4oSYUWLoIhGLJlSP/Fhl6k56EUIGIBnnIjpuUdINRx41OKKnJyongw5iaJiDW+tmIg8eXoRIk+ygFkkGwMSaQaRibS4X5JBoLjfE3+caJ810XpR4sCvAjljs7M+MWSMFnpx5NYkGmQmH70+N1KyVFpBZhVwJkGms5gqWWZGfFWhZlj0NmMlyay2ZKbTky5hp/N8EmFndZJweihXL6lZheAbiUoU5AeKYOiT3BKRACghirqqKSWauqpqKaq6qqsturqq7DGiioWiKK1gAEMGLCAFbfmumumtEXwAAJfIGAAcAQYQOwUxiKrLLCj9aqrFw8wgCwDD1BR7bXZIhkpWs0C9ywW4SYbARXlGnD/rrepbQsctl5I+ysV8hb57VnprtsFAsOS26+9tNUb5r3g/juwprzUivCHBC+MiMJtCLvsfRCvIfCW+KQ78XgVp+EuAfBiLE++FDe8y8XrdawGvxunbLLDf6gMs40zR/hyzXTIjDM8O9vcs88/U3hz0OwSfeHQRveJdNJh6By00z9D3bPUO1ONs9U1Yz2z1jBDLXHWS6OBMsI6a9x12GJ8HPLCZR8rrr5koy3G2JpCzTLYTGsod95XcO2w32zvzXcVgMc9+MOCH05i4opDUXjdjDf+Y+SS01x5G48fmTmRmwfZuY+f5xh6jRt+fTnPYdBdeYVmn64fFmp36zrrbpvr//rrRJj+hOqS58S7EXffjrsMrQs/BUqxG88wEyQrv3gTvzvPGPMGS+845cqPDqP2KXI/ovcegp+h+FcN0AfAp28BTNGnm7DFJmiQLxYJW5whhvxiZYACEijk8gX+Y1nGAEgABgCexRcDMIEXDIgWLSShEBCMoAQnSMEKWvCCGMygBjfIwQ568IMgrGAMBhDCEprwhChMoQpXaEEYTON51pOBBLYwgS4wUCwT2IIEFoi9I80QCTX8Xw+DlEMk7LCAQ6zRDwcQxKYlMUAHOIAMSvCBA3BgBEMo4gCOeL8n+ieKHIiiGLFIQ/YlLYofAIEQSmBFaXAxfl7cTxTVOIQozkThhuOwIxH0iLk43oePQgAktM4oxT0Wso98E6QgzWg0RR4SfUxz5B39OB9JComSjcOjfzTJJEwqjpMli6HSRNlFUhYhCAA7)"
      ]
    },
    {
      "cell_type": "markdown",
      "metadata": {
        "id": "prYTd5rAiZAD"
      },
      "source": [
        "[**Cauchy criterion**](https://en.wikipedia.org/wiki/Cauchy%27s_convergence_test) ← Very very important\\\n",
        "Definition: \n",
        ">a $\\in \\mathbb{R}$ is an accumulation value of $\\{u_n\\}$ \\\n",
        "if either $\\exists$ inifinite $u_n$ equal to a or a is an accumulation point of $\\{u_n\\}$ \\\n",
        "Property: a is an accumulation value of $\\{u_n\\}$ if $\\forall \\epsilon>0, \\exists  \\ u_n = (-1)^n$ \\\n",
        "\n",
        "example:\n",
        "> i) $u_n = (-1)^n$ zero values 1 and -1 \\\\\n",
        "ii) $u_n = cos(n\\pi +\\sin/n)$ 1 and -1\n",
        "\n",
        "Theorem1: \\\n",
        ">A convergent sequence has one unique accumulation value ,which is its limit \\\n",
        "\n",
        "Theorem2: \\\n",
        ">A bounded sequence has at least one accumulation value. \\\n",
        "\n",
        "Consequence: \\\n",
        ">A sequence converges iff has q unique accumulation value \\\n",
        "Cauchy's criterion: \\\n",
        "$\\{u_n\\}$ converges iff $\\forall \\epsilon >0, \\exists \\mathbb{N}> 0$ such that for $n> \\mathbb{N}$ \\\n",
        "$| u_n -u_p| < \\epsilon $"
      ]
    },
    {
      "cell_type": "markdown",
      "metadata": {
        "id": "70niWJUbNnp1"
      },
      "source": [
        "# Day2"
      ]
    },
    {
      "cell_type": "markdown",
      "metadata": {
        "id": "1UO7hlQo9TgY"
      },
      "source": [
        "Real function of a real variable \\\n",
        "$f: \\mathbb{R} → \\mathbb{R}$ \\\n",
        "※ Function of Lycee"
      ]
    },
    {
      "cell_type": "markdown",
      "metadata": {
        "id": "31NpenuGGPJc"
      },
      "source": [
        "## Ⅲ.1 Limits and continuity"
      ]
    },
    {
      "cell_type": "markdown",
      "metadata": {
        "id": "eyt6ctiIGO-O"
      },
      "source": [
        "\n",
        "\n",
        "Limits:\n",
        ">$a \\in A N(a) \\subset A$ neighborhood of a\n",
        "\n",
        "Definition:\n",
        ">We say that $f(x)　→ L$ when x→a and we write $\\underset{x→a}{lim}f(x) = L$\\\n",
        "$lim f(x) = L$ if $\\forall \\epsilon>0, \\exists \\alpha >0$ such that $|x-a| < \\alpha → |f(x) - L| < \\epsilon$ \\\\\n",
        "conterexample:\n",
        ">Heavyside function \\\n",
        "$x→0^+ H(x) →1$ \\\\\n",
        "$x→0^- H(x) →0$ \\\n",
        "No Limit\n",
        "\n",
        "Remark: \n",
        ">it might be possible that f(a) does not exist or f(a)\n",
        "\n",
        "Remark2: \n",
        ">The limit L, if it exists, it is unique\n",
        "\n",
        "Remark3: \n",
        ">inequality of the limits: \\\n",
        "If $f(x) →$ L and $g(x) →M$ \\\\\n",
        "and if $L<M$, there exists a neighborhood of a: \\\n",
        "$]a- \\alpha, a+ \\alpha[$ where $f(x) < g(x)$\n",
        "\n",
        "\n",
        "Remark4: \n",
        ">$\\underset{lim}{x→a} f(x) = L → \\underset{x→a}{lim} |f(x)| = |L|$ \\\n",
        "\n",
        "Remark5: \n",
        ">operation on the limits: \\\n",
        "$f(x) → L \\\\\n",
        " g(x)→M$ \\\n",
        "$(\\lambda f + \\mu g)(x) \\underset{x→a}{→} \\lambda L + M$ ←Sum of two function and multiplication of functions \n",
        "\n",
        "\n",
        "Remark6: \n",
        ">Generalisation of this notion of limits: \\\n",
        "\n",
        "Limit by superior value \\\n",
        ">$f(x) \\underset{x→a}{→} L_+$ only in the superior way\\\n",
        "$\\forall \\epsilon, \\exists a >0 such that |x-a| <= \\alpha$ \\\n",
        "$→ L < f(x) < L + \\epsilon $ \\\n",
        "\n",
        "\n",
        "limit at the right or at the left: \\\n",
        "\n",
        ">$x \\Rightarrow a_+$ \\\n",
        "$f(x) \\Rightarrow L$ if $\\forall \\epsilon > 0$, \\\n",
        "$\\exists a >0,$ \\\n",
        "such that $a \\leq x \\leq a+ \\alpha  \\Rightarrow |f(x) - L| \\leq \\epsilon$ \\\n",
        "\n",
        ">$x \\Rightarrow α_-$ \\\n",
        "such that $a - \\alpha\\leq x \\leq a $ \n",
        "\n",
        "Infinite limits: \\\n",
        ">$f(x) \\Rightarrow +\\infty$ if $ \\forall A>0, \\exists \\alpha>0$ such that $|x-a| \\leq \\alpha \\Rightarrow f(x) > A$ \\\n",
        "\n",
        "\n",
        "example: \n",
        ">$f(x) = \\dfrac{1}{x-a}$ \\\n",
        "$f(x) \\Rightarrow + \\infty$ means $\\forall A>0 \\exists a, $ such that $a \\leq \\alpha \\leq a + \\alpha \\Rightarrow f(x) > A$ \\\n",
        "\n",
        "example: \\\n",
        ">$f(x) = \\dfrac{1}{x-a}$ \\\\\n",
        "$x→a_+ \\\\\n",
        "f(x) →+\\infty$\n",
        "\n",
        "lim f(x) = L means that \n"
      ]
    },
    {
      "cell_type": "markdown",
      "metadata": {
        "id": "qVGgMwD9NwsJ"
      },
      "source": [
        "## Ⅲ.2 Way of variation:"
      ]
    },
    {
      "cell_type": "markdown",
      "metadata": {
        "id": "nwUpa4S2OCAh"
      },
      "source": [
        "a) Monotone function over an interval: \\\n",
        ">f$x_1, x_2$ \\\n",
        "f is strictly increasing on I if $x_1<x_2 \\Rightarrow f(x_1) < f(x_2)$ ← Strictly Increasing \\\n",
        "f is decreasing (in the large way) if $x_1 < x_2 \\Rightarrow f(x_1) => f(x_2)$ \\\n",
        "strictly decreasing$ \\Leftrightarrow f(x_1) > f(x_2)$ \\\n",
        "\n",
        "\n",
        " Rate of variation of f: \\\n",
        ">$R = \\dfrac{f(x_2) - f(x_1)}{x_2-x_1}$\n",
        "\n",
        ">if f increasing $R=>0$ \\\n",
        " if f strictly increasing $R>0$ \\\n",
        " if f decreasing $R<=0$ \\\n",
        " if f strictly decreasing $R<0$ \\\n",
        "\n",
        " why we are speaking about the rate of variation → Derivative !!!! \\\n",
        " When rate is inscreasing, the derivative is positive \\\n",
        " When rate is decreasing, the derivative is negative"
      ]
    },
    {
      "cell_type": "markdown",
      "metadata": {
        "id": "Y9Tv7txRPwdL"
      },
      "source": [
        "**Operation on the function**: \\\n",
        "\n",
        ">if f is monotone $\\lambda$ with $\\lambda \\in \\mathbb{R}$ is also monotone and if $\\lambda >0$  it has the same way of remaitian and if $\\lambda$ < - the way of remain is monotone \\\n",
        "if f and g are monotone in the same way, then f + g is monotone in the same way \\\n",
        "\n",
        "multiplication of 2 functions: \\\n",
        ">if f(x) and g(x) are either f, if f and g are increasing, then f(x), g(x) increasing \\\n",
        "$R = \\{f(\\frac{x}{2}) g(x_2) - f(x_1)g(x_1)\\} \\\\\n",
        "{x_2 - x_1} = \\dfrac{f(x_2)(g(x_2) - g(x_1)) +g(x_2)(f(x_2) - f(x_1)}{x_2-x_1}$ \\\n",
        "\n",
        "if f keeps the same sign as J, then 1/f has the opposite way of variation \\\n",
        "\n",
        "$R\\dfrac{1}{f} = \\dfrac{1}{f(x_2) - 1/f(x_1)} = \\dfrac{f(x_1) - f(x_2)}{f(x_1)f(x_2)$(x_2-x_1)} = \\dfrac{-R(f)}{f(x_1)f(x_2)}$ \\\n",
        "\n",
        "Composition of functions: \n",
        ">If f is monotone on f, if g is an monotone on g, then g $\\circ$ f is monotone on I \\\n",
        "f increasing, g increasing →${(g \\circ f)(x_2) - (g \\circ f)(x_2)}$ \\\n",
        "$= \\dfrac{g(f(x_2)) - g(f(x_1))}{x_2 - x_1}$ =>0 \\\n",
        "f is increasing, g is decreasing $g \\circ f$ decreasing \\\n",
        "f is decreasing g is increasing $g \\circ f$ decreasing \\\n",
        "f is decreasing, g is decreasing $g \\circ f$ increasng"
      ]
    },
    {
      "cell_type": "markdown",
      "metadata": {
        "id": "9Ftvq5p_VOCT"
      },
      "source": [
        "Suppose that f is increasing in open interval $\\left]a-\\alpha, a \\right[$ \\\n",
        "If f is bounded, $lim_{x→a} f(x) = max f(x)$ \\\n",
        "if f is not bounded, $lim_{x→a} f(x) = + \\infty$ \\\n",
        "f is increasing in open interval $\\left]a-\\alpha, a \\right[$ \\\n",
        "if f is bounded, $lim_{x→a} f(x) = min f(x)$ \\\n",
        "if f is not bounded, $lim_{x→a} f(x) = - \\infty$"
      ]
    },
    {
      "cell_type": "markdown",
      "metadata": {
        "id": "fcB5yjZDaWjF"
      },
      "source": [
        "## 3.3 Continuity:"
      ]
    },
    {
      "cell_type": "markdown",
      "metadata": {
        "id": "g7S-zFe2aZad"
      },
      "source": [
        "Definition: \n",
        ">f is said to be continuous at point $x_0 if f(x)$ exists and if $f(x) \\Rightarrow f(x_0)$ when $\\alpha →{x_0}$ \\\n",
        "\n",
        "Remark: \\\n",
        ">f is continuous at the right of $x_0$ if $f(x) \\Rightarrow f(x_0) $ when $x → x_0$ \\\n",
        "\n",
        "Operation on continuous function: \\\n",
        ">if f and g are continuous at point $a_0$ then $\\lambda f + \\mu g$ is continuous at $x_0$ for $\\lambda, \\mu \\in \\mathbb{R}$ \\\n",
        "f, g continuous $x_0 → f(x), g(x)$ is continuous at $f(x_0)$ \\\n",
        "f, g continuous $\\Rightarrow \\dfrac{f(x)}{g(x)}$ is continuous at $x_0$ if $g(x_0) \\not = 0$ \\\n",
        "\n",
        "Application to sequences: \\\n",
        ">Suppose f(x) is continuous at $x_0$ \\\n",
        "Suppose f(x) is continuous at $x_0$ and $\\{u_n\\}$ converges to $x_0$, then the sequence  \\\n",
        "$\\{f(u_n)\\}$ converges toward $f(x_0)$"
      ]
    },
    {
      "cell_type": "markdown",
      "metadata": {
        "id": "GZooicVPOnDQ"
      },
      "source": [
        "Continuity on a segment: \n",
        ">f is continuous on $[a, b]$ iff f is continuous at all points a $\\leq x \\leq b$ \\\n",
        "(right-continuity at a, left-continuity at b and continutiy at a < x <b)\n"
      ]
    },
    {
      "cell_type": "markdown",
      "metadata": {
        "id": "-fD2d7TjPRfi"
      },
      "source": [
        "Theorem:\n",
        ">if f is continuous on [a, b], then f is bounded \\\n",
        "\n",
        "Consequence: \\\n",
        ">The continuous image of a segment in a segment\n",
        "$f([a, b]) = [\\underset{[a,b]}{inf}f(x), \\underset{[a,b]}{sup}f(x)] = [m, M]$"
      ]
    },
    {
      "cell_type": "markdown",
      "metadata": {
        "id": "QuI2Pm9iQTfT"
      },
      "source": [
        "If f is continuous n[a, b], reaches its bound: \\\\\n",
        "$\\exists$ c and d $\\in[a, b]$ such that $f(c) =m = \\underset{[a,b]}{inf}f(x) \\\\\n",
        "f(d) = M = \\underset{[a,b]}{sup}f(x)$"
      ]
    },
    {
      "cell_type": "markdown",
      "metadata": {
        "id": "AaVsMf9DSXHn"
      },
      "source": [
        "[Imtermediate Value Theorem](https://en.wikipedia.org/wiki/Intermediate_value_theorem)"
      ]
    },
    {
      "cell_type": "markdown",
      "metadata": {
        "id": "fkH-K7M0cnVh"
      },
      "source": [
        "Composition of two functions: \\\n",
        ">f is defined in $N(x_0)$ and is continuous at $x_0$ \\\n",
        "Let $y_0 = f(x_0)$ \\\n",
        "Let g be defined in a $N(y_0)$ and be continuous at $y_0$ \\\n",
        "Then g $\\circ$ f is continuous "
      ]
    },
    {
      "cell_type": "markdown",
      "metadata": {
        "id": "SSxWzkKDea4X"
      },
      "source": [
        "Theorem: \n",
        ">If f is monotone on I,\n",
        "it only has first species continuity \\\n",
        "\n",
        "Second species discontinuities: \\\n",
        "\n",
        "examples: $f(x) = 0 \\ x \\in Q \\\\\n",
        "           f(x) =1 \\ x \\not \\in Q$ \\\n",
        "$f(x) = sin(\\dfrac{1}{x}) $\n"
      ]
    },
    {
      "cell_type": "code",
      "metadata": {
        "id": "FPfTXlPeU62D",
        "outputId": "996736f5-88e5-4b4d-bd35-6770e6853df6",
        "colab": {
          "base_uri": "https://localhost:8080/",
          "height": 282
        }
      },
      "source": [
        "import numpy as np\n",
        "import matplotlib.pyplot as plt\n",
        "import seaborn as sns\n",
        "sns.set_style(\"darkgrid\")\n",
        "\n",
        "x = np.linspace(-10, 10)\n",
        "y = np.sin(1/x)\n",
        "plt.scatter(x,y)"
      ],
      "execution_count": null,
      "outputs": [
        {
          "output_type": "execute_result",
          "data": {
            "text/plain": [
              "<matplotlib.collections.PathCollection at 0x7f15ed3c2208>"
            ]
          },
          "metadata": {
            "tags": []
          },
          "execution_count": 6
        },
        {
          "output_type": "display_data",
          "data": {
            "image/png": "[encoded data removed]",
            "text/plain": [
              "<Figure size 432x288 with 1 Axes>"
            ]
          },
          "metadata": {
            "tags": []
          }
        }
      ]
    },
    {
      "cell_type": "markdown",
      "metadata": {
        "id": "8jt3WM59g0OF"
      },
      "source": [
        "\n",
        "Remark: \n",
        ">if $\\in lim f(x) = L$ \\\n",
        "if $f(x_0) \\not = L$ or if $f(x_0)$ does nort exist, \n",
        "then it is possible to define a new function g such that g(x) = f(x) \\\n",
        "\n",
        "If f is continuous, \n",
        "then we can say that we have extended function f by continuity to a function g which is continuous at $x = {x_0}$ \\\n",
        "$f(x_0-) = f(x_0+) = L$ \\\n",
        "$f(x_0) \\not = L$ \\\n",
        "Continuity on a interval　←　Open Interval\n",
        "Continuity on a [segment](https://en.wikipedia.org/wiki/Line_segment): \\ ← segment is closed interval \\\n",
        "Def: We say that f is continuous on [a, b] if f is continuous at all the  of ]a, b[ is continuous at the right at point A and at the left at point B \\\n",
        "Proof: if f is continuous at [a, b] \\\n",
        "if g is continuous on f([a, b]) ← Is it the same segment?  ←　only f is continuous \\\n",
        "$g \\circ f$ is continuous on [a, b] \\\n",
        "[Uniform continuity](https://en.wikipedia.org/wiki/Uniform_continuity#:~:text=In%20mathematics%2C%20a%20function%20f,f(y)%20may%20depend%20on): \\\n",
        "Definition: f is said to be uniformly continuous if $\\forall \\epsilon >0, \\exists \\alpha >0$ such that $|x_1 - x_2| < \\alpha \\Rightarrow |f(x_1) -f(x_2)| < \\epsilon \\\n",
        "\\forall x_1, x_2, \\in y$ \\\n",
        "$\\alpha$ is independent of x \\\n",
        "Heine theorem: if f is continuous on [a, b], them f is uniformely continuous on [a, b] is bounded \\\n",
        "[Compact set](https://en.wikipedia.org/wiki/Compact_space)\n"
      ]
    },
    {
      "cell_type": "markdown",
      "metadata": {
        "id": "8U9zvQ9IlU2J"
      },
      "source": [
        "Corollay: The image of a segment by a continuous application is a segment by a continuous application in a segment \\\n",
        "$[a, b] → [c, d]$ if $f([a, b]) = $ \\\n",
        "Consequence: \\\n"
      ]
    },
    {
      "cell_type": "markdown",
      "metadata": {
        "id": "rOM82KiQMOmM"
      },
      "source": [
        "Variation direction: \\\n",
        ">If $f'(x) \\geq 0$ in $I$ then $f$ increasing \\\n",
        "$f'(x) \\leq 0$ in $I$ then $f$ decreasing \\\n",
        "$f'(x) = 0$ in $I$ then $f$ is constant"
      ]
    },
    {
      "cell_type": "markdown",
      "metadata": {
        "id": "voYwHXlYMvkF"
      },
      "source": [
        "## Ⅵ.[Convexity](https://en.wikipedia.org/wiki/Convex_function#:~:text=In%20mathematics%2C%20a%20real%2Dvalued,graph%20between%20the%20two%20points.)"
      ]
    },
    {
      "cell_type": "markdown",
      "metadata": {
        "id": "tK40RuYRM2IF"
      },
      "source": [
        "Definition: \\\n",
        ">Let $f$ be defined in $I$  \\\n",
        "$f$ is said to be convex if: \\\n",
        "f$(\\theta x_i +(1-\\theta)x2) \\leq \\theta f(x_1) + (1-\\theta)f(x_2)$ \n",
        "$\\forall\\theta \\in [0, 1], \\forall x_1, x_2 \\in I$\n",
        "\n",
        "Geometric interpretation: \\\n"
      ]
    },
    {
      "cell_type": "markdown",
      "metadata": {
        "id": "hgX85Vi5OrvX"
      },
      "source": [
        "Theorem: \n",
        ">If $f$ is derivable on $I$, then $f$ is strcitly convex on $I$ iff $f'(x)$ is strictly increasing on $I$ \\\n",
        "$f$ is convex iff $f'(x)$ is increasing on $I$"
      ]
    },
    {
      "cell_type": "markdown",
      "metadata": {
        "id": "LJuhUjoNzmkZ"
      },
      "source": [
        "![](https://upload.wikimedia.org/wikipedia/commons/c/c7/ConvexFunction.svg)"
      ]
    },
    {
      "cell_type": "markdown",
      "metadata": {
        "id": "GgzwdEKgPqhO"
      },
      "source": [
        "## Ⅶ.Inverse function of a [monotonous](https://en.wikipedia.org/wiki/Monotonic_function) continuous function = Function reciproque(French)"
      ]
    },
    {
      "cell_type": "markdown",
      "metadata": {
        "id": "ezVB4ccBP6CQ"
      },
      "source": [
        "Definition: \\\n",
        ">f continuous on $[a,b]$, \\\n",
        "f strictly monotonic → f bijective from$[a, b]$ to $[f(a), f(b)]$ or $[f(b), f(a)]$ \\\n",
        "injective → $(f(x_1)=f(x_2)→x_1=x_2)$ \\\n",
        "$f^{-1}$ exists on $[f(a), f(b)] or [f(b), f(a)]$ \\\n",
        "\n",
        ">i) $f^{-1}$ continuous on f(I) \n",
        "\n",
        ">ii) f is derivable and $f'(x_0) \\not = 0$ \\\n",
        "$\\dfrac{f^{-1}(y_1) - f^{-1}(y_2)}{y_1 → y_2} = \\dfrac{x_1 - x_2}{f(x_1) - f(x_2)} $ \\\n",
        "$ (f^{-1}(y))' = \\dfrac{1}{f'(x)} $ \\\n",
        "Derivative of f^{-1} is inverse of derivative of f(f'(x)) \\\n",
        "\n",
        "$y = f(x) = x =f^{-1}(y)$ \\\n",
        "Derivative of Inverse is Inverse of Derivative \\\n",
        "$(f^{-1})'(y_0) = \\dfrac{1}{f'(x_0)}$ where $y_0 = f(x_0)$ \\\n",
        "$f(x)^{-1}$ is Concave if $f(x)$ is convex"
      ]
    },
    {
      "cell_type": "markdown",
      "metadata": {
        "id": "Nyybl2RNl-VR"
      },
      "source": [
        "## Ⅷ. Taylor expansion ← One of the most powerful tool"
      ]
    },
    {
      "cell_type": "markdown",
      "metadata": {
        "id": "wm1QckIHbljz"
      },
      "source": [
        "\n",
        "f(x) defined in a N(x_0)\n",
        "Definition: \n",
        ">f has a development at the role n at point $x_0$ if there exists a polynomial $P_n$ of degree $\\leq$ such that \\\n",
        "$f(x_0 + h) = P_n(h) <<h^n$ \\\n",
        "$Pn(h) = a_0 + a_1h, +...+a_nh^n$ \\\n",
        "$f(x_0 +  h) = P_n(h) + \\epsilon(h)$ where $\\epsilon → 0$ \\\n",
        "Graph of f:\n",
        "$f(x_0 + h) = f(x_0) + a_1 h + 1_2 h^2 + a_nh^n + h \\epsilon(h)$ \\\n",
        "$a_1 = f'(x_0)$ \\\n",
        "$if a_2 \\not = 0 sign(a_2)$ given the convexity of the graph \\\n",
        "\n",
        "Theorem:\n",
        "> If f is derivable in $N(x_0)$ and if $f'(x)$ has a development of order n at point $x_0$, then f(x) has a development of order $(n+1)$ at $x_0$, where regular point is a primitive of the regular point of f'(x) \\\n",
        "$f(x_0 + h) = f(x_0) +a_0 h + a_1 \\dfrac{h^2}{2} +,..., a_n \\dfrac{h^{n+1}}{n+1} + h^{n+1} \\epsilon_2(h)$"
      ]
    },
    {
      "cell_type": "markdown",
      "metadata": {
        "id": "9QVQsZwReudx"
      },
      "source": [
        "Example:\n",
        "> $\\dfrac{1}{1-x} = 1+ x + x^2 +,..., x^n +\\dfrac{x^{n+1}}{1-x}$\n",
        "$1-x^{n+1} = (1-x)(1+x+x^2+,...,x^n)$\n",
        "\n",
        "If f has a development of order n at a_0 and a primitive F(x) in N(x_0) then F(x) has a development of order (n+1) in N(x_0) \\\n",
        "\n",
        "[Formula of Taylor-Yong](https://fr.wikipedia.org/wiki/Th%C3%A9or%C3%A8me_de_Taylor): \\\n",
        ">Hypothesis: f has derivatives up to the order n at point $x_0$ Then: \\\n",
        "$f(x_0+h) = f(x_0) + hf'(x_0) \\frac{h^2}{2} + f''(x_0),..., + \\dfrac{h^n}{!n}f^{(n)}(x_0) + h^n \\epsilon(h)$\n",
        "\n",
        "Example:\n",
        "> e^x in a N(0) \n",
        "$e^x = 1 + x + \\dfrac{x^2}{2} + \\dfrac{x^3}{6} + ,..., ++ \\dfrac{x^n}{n!} + x^n \\epsilon(x)$ \\\n",
        "\n",
        "$ ch x = \\dfrac{e^x + e^{-x}}{2} = 1 + \\dfrac{x^2}{2} + \\dfrac{x^4}{4!}+,...,+ \\dfrac{x^{2p}}{(2p)!} + \\epsilon(x) x^{2p+1}$ \\\n",
        "$sh x = \\dfrac{e^x - e^{-x}}{2} = x + \\dfrac{x^3}{6} +,... + \\dfrac{x^{2p+1}}{(2p + 1)!} +\\epsilon(x) x^{2p+2}$"
      ]
    },
    {
      "cell_type": "code",
      "metadata": {
        "id": "2c2VBJytxeFz",
        "outputId": "0428aff7-c0f3-4df9-cfd9-d0f7f2631699",
        "colab": {
          "base_uri": "https://localhost:8080/",
          "height": 282
        }
      },
      "source": [
        "import math\n",
        "import numpy\n",
        "import matplotlib.pyplot as plt\n",
        "\n",
        "x = np.linspace(-10,10)\n",
        "y = np.cos(x)\n",
        "y2 = 1 + (x**2)/2 #+ (x**4)/math.factorial(4) + (x**6)/math.factorial(6) + (x**8)/math.factorial(8)\n",
        "plt.plot(x, y)\n",
        "\n",
        "plt.plot(x, y2)"
      ],
      "execution_count": null,
      "outputs": [
        {
          "output_type": "execute_result",
          "data": {
            "text/plain": [
              "[<matplotlib.lines.Line2D at 0x7ffb9cb44e80>]"
            ]
          },
          "metadata": {
            "tags": []
          },
          "execution_count": 26
        },
        {
          "output_type": "display_data",
          "data": {
            "image/png": "[encoded data removed]",
            "text/plain": [
              "<Figure size 432x288 with 1 Axes>"
            ]
          },
          "metadata": {
            "tags": [],
            "needs_background": "light"
          }
        }
      ]
    },
    {
      "cell_type": "code",
      "metadata": {
        "id": "sknXX1WN2rji",
        "outputId": "da3fa42a-0457-49f1-84ec-8bb6521547ab",
        "colab": {
          "base_uri": "https://localhost:8080/",
          "height": 418
        }
      },
      "source": [
        "import sympy as sy\n",
        "import numpy as np\n",
        "from sympy.functions import sin, cos, ln\n",
        "import matplotlib.pyplot as plt\n",
        "\n",
        "# Factorial function\n",
        "def factorial(n):\n",
        "    if n <= 0:\n",
        "        return 1\n",
        "    else:\n",
        "        return n * factorial(n - 1)\n",
        "\n",
        "# Taylor approximation at x0 of the function 'function'\n",
        "def taylor(function, x0, n, x = sy.Symbol('x')):\n",
        "    i = 0\n",
        "    p = 0\n",
        "    while i <= n:\n",
        "        p = p + (function.diff(x, i).subs(x, x0))/(factorial(i))*(x - x0)**i\n",
        "        i += 1\n",
        "    return p\n",
        "\n",
        "def plot(f, x0 = 0, n = 9, by = 2, x_lims = [-5, 5], y_lims = [-5, 5], npoints = 800, x = sy.Symbol('x')):\n",
        "    x1 = np.linspace(x_lims[0], x_lims[1], npoints)\n",
        "    # Approximate up until n starting from 1 and using steps of by\n",
        "    for j in range(1, n + 1, by):\n",
        "        func = taylor(f, x0, j)\n",
        "        taylor_lambda = sy.lambdify(x, func, \"numpy\")\n",
        "        print('Taylor expansion at n=' + str(j), func)\n",
        "        plt.plot(x1, taylor_lambda(x1), label = 'Order '+ str(j))\n",
        "    # Plot the function to approximate (sine, in this case)\n",
        "    func_lambda = sy.lambdify(x, f, \"numpy\")\n",
        "    plt.plot(x1, func_lambda(x1), label = 'Function of x')\n",
        "    \n",
        "    plt.xlim(x_lims)\n",
        "    plt.ylim(y_lims)\n",
        "    plt.xlabel('x')\n",
        "    plt.ylabel('y')\n",
        "    plt.legend()\n",
        "    plt.grid(True)\n",
        "    plt.title('Taylor series approximation')\n",
        "    plt.show()\n",
        "\n",
        "# Define the variable and the function to approximate\n",
        "x = sy.Symbol('x')\n",
        "f = ln(1 + x)\n",
        "plot(f)"
      ],
      "execution_count": null,
      "outputs": [
        {
          "output_type": "stream",
          "text": [
            "Taylor expansion at n=1 x\n",
            "Taylor expansion at n=3 x**3/3 - x**2/2 + x\n",
            "Taylor expansion at n=5 x**5/5 - x**4/4 + x**3/3 - x**2/2 + x\n",
            "Taylor expansion at n=7 x**7/7 - x**6/6 + x**5/5 - x**4/4 + x**3/3 - x**2/2 + x\n",
            "Taylor expansion at n=9 x**9/9 - x**8/8 + x**7/7 - x**6/6 + x**5/5 - x**4/4 + x**3/3 - x**2/2 + x\n"
          ],
          "name": "stdout"
        },
        {
          "output_type": "stream",
          "text": [
            "/usr/local/lib/python3.6/dist-packages/numpy/__init__.py:1: RuntimeWarning: invalid value encountered in log\n",
            "  \"\"\"\n"
          ],
          "name": "stderr"
        },
        {
          "output_type": "display_data",
          "data": {
            "image/png": "[encoded data removed]",
            "text/plain": [
              "<Figure size 432x288 with 1 Axes>"
            ]
          },
          "metadata": {
            "tags": []
          }
        }
      ]
    },
    {
      "cell_type": "markdown",
      "metadata": {
        "id": "E7qHDP0hjX1D"
      },
      "source": [
        "Taylor-Lagrange formula: \\\n",
        "Hypothesis\n",
        "> $f^{(n)}(x)$ are defined and continuous in $N(x_0)$ up to orderd $(n+1)$\n",
        "Then $f(x_0+h) = f(x_0) + hf'(x_0) + \\dfrac{h^2}{2}f''(x_0) +,...,+ \\dfrac{h^n}{n!}f(x_0) + \\dfrac{h^{n+1}}{(n+1)!}f^{(n+1)}(x_0 + \\theta h)$"
      ]
    },
    {
      "cell_type": "markdown",
      "metadata": {
        "id": "wvg77c8MqPt8"
      },
      "source": [
        "Taylor Series(https://www.youtube.com/watch?v=3d6DsjIBzJ4&t=855s) Amazing Video by 3blue1brown"
      ]
    },
    {
      "cell_type": "markdown",
      "metadata": {
        "id": "Vav1r9lblIwU"
      },
      "source": [
        "## Ⅸ. Zeros of the function"
      ]
    },
    {
      "cell_type": "markdown",
      "metadata": {
        "id": "Z7aWa8yvDULb"
      },
      "source": [
        ">Find x such that f(x) = 0 \\\n",
        "Find point iterations(Picard iterations) \\\n",
        "f(x) = 0 \\\n",
        "$x + f(x) = x $ \\\n",
        "Define $p(x) = f(x) + x$ \\\n",
        "$x + f(x) = x \\leftrightarrow p(x) = x  $\n",
        "\n",
        "Fixed point algorithm: \n",
        "> k: number of iteration \\\n",
        "$x_{k+1} = f(x_k)$ \\\n",
        "$x_k = \\phi(x_{k_1})\n",
        "x_{k+1} = f(x_k)$ \\\n",
        "$x_{k+1} - x_k = \\phi (x_k) - \\phi(x_k-1) = \\phi'(x_k)(x_k - x{k-1}$)\n",
        " \n",
        "The algorithm CV to the fixed point \\\n",
        "if $|f'(x)| <1$ \n",
        "and DV if $|f'(x)|>1$"
      ]
    },
    {
      "cell_type": "markdown",
      "metadata": {
        "id": "LTH34WOXGxO5"
      },
      "source": [
        "## Ⅸ.Neuton iterations(Tangent method)"
      ]
    },
    {
      "cell_type": "markdown",
      "metadata": {
        "id": "sqkjc9reG1mo"
      },
      "source": [
        "$y = f(x_k) + f'(x_k)(x_{k+1}-x_k) = 0$ \\\\\n",
        "$f'(x_k)(x_{k+1}-x_k) = -f(x_k)$ \\\\\n",
        "$x_{k+1} = x_k - \\dfrac{f(x)_k}{f'(x_k)}$ ← Each Iteration"
      ]
    },
    {
      "cell_type": "markdown",
      "metadata": {
        "id": "8w2o9odWJfj2"
      },
      "source": [
        "Optimization is the minimization of funtion \\\n",
        "Discrete(Operational Research) and Continuous Optimization is quite different"
      ]
    },
    {
      "cell_type": "markdown",
      "metadata": {
        "id": "GB7BHXCQPCzd"
      },
      "source": [
        "![Neuton Method.png](data:image/png;base64,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)"
      ]
    }
  ]
}