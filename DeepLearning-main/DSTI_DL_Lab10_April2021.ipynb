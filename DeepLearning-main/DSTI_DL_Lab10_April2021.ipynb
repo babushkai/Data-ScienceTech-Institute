{
 "cells": [
  {
   "cell_type": "markdown",
   "metadata": {
    "id": "r5YvnGc0h0b1"
   },
   "source": [
    "# A LSTM for Part-of-Speech Tagging\n",
    "\n"
   ]
  },
  {
   "cell_type": "code",
   "execution_count": 7,
   "metadata": {
    "executionInfo": {
     "elapsed": 756,
     "status": "ok",
     "timestamp": 1619039390040,
     "user": {
      "displayName": "Lionel Fillatre",
      "photoUrl": "",
      "userId": "14463393848879581998"
     },
     "user_tz": -120
    },
    "id": "saX6EAx_uyiM"
   },
   "outputs": [],
   "source": [
    "%matplotlib inline"
   ]
  },
  {
   "cell_type": "markdown",
   "metadata": {
    "id": "sT9CUaWtuyiT"
   },
   "source": [
    "## Sequence Models and Long-Short Term Memory Networks\n",
    "\n",
    "\n",
    "At this point, we have seen various feed-forward networks. That is,\n",
    "there is no state maintained by the network at all. This might not be\n",
    "the behavior we want. Sequence models are central to NLP: they are\n",
    "models where there is some sort of dependence through time between your\n",
    "inputs. The classical example of a sequence model is the Hidden Markov\n",
    "Model for part-of-speech tagging. Another example is the conditional\n",
    "random field.\n",
    "\n",
    "A recurrent neural network is a network that maintains some kind of\n",
    "state. For example, its output could be used as part of the next input,\n",
    "so that information can propogate along as the network passes over the\n",
    "sequence. In the case of an LSTM, for each element in the sequence,\n",
    "there is a corresponding hidden state $h_t$, which in principle\n",
    "can contain information from arbitrary points earlier in the sequence.\n",
    "We can use the hidden state to predict words in a language model,\n",
    "part-of-speech tags, and a myriad of other things.\n",
    "\n",
    "\n",
    "\n",
    "\n"
   ]
  },
  {
   "cell_type": "markdown",
   "metadata": {
    "id": "-kgFcKPkhBF2"
   },
   "source": [
    "## LSTM's in Pytorch\n",
    "\n",
    "\n",
    "Before getting to the example, note a few things. Pytorch's LSTM expects\n",
    "all of its inputs to be 3D tensors. The semantics of the axes of these\n",
    "tensors is important. The first axis is the sequence itself, the second\n",
    "indexes instances in the mini-batch, and the third indexes elements of\n",
    "the input. We haven't discussed mini-batching, so lets just ignore that\n",
    "and assume we will always have just 1 dimension on the second axis. If\n",
    "we want to run the sequence model over the sentence \"The cow jumped\",\n",
    "our input should look like\n",
    "\n",
    "\\begin{align}\\begin{bmatrix}\n",
    "   \\overbrace{q_\\text{The}}^\\text{row vector} \\\\\n",
    "   q_\\text{cow} \\\\\n",
    "   q_\\text{jumped}\n",
    "   \\end{bmatrix}\\end{align}\n",
    "\n",
    "Except remember there is an additional 2nd dimension with size 1.\n",
    "\n",
    "In addition, you could go through the sequence one at a time, in which\n",
    "case the 1st axis will have size 1 also.\n",
    "\n",
    "Let's see a quick example."
   ]
  },
  {
   "cell_type": "code",
   "execution_count": 8,
   "metadata": {
    "colab": {
     "base_uri": "https://localhost:8080/"
    },
    "executionInfo": {
     "elapsed": 4361,
     "status": "ok",
     "timestamp": 1619039393656,
     "user": {
      "displayName": "Lionel Fillatre",
      "photoUrl": "",
      "userId": "14463393848879581998"
     },
     "user_tz": -120
    },
    "id": "tv3qTm3yuyiV",
    "outputId": "0e045daf-bb87-4db0-d605-11b14517b06e"
   },
   "outputs": [
    {
     "data": {
      "text/plain": [
       "<torch._C.Generator at 0x1bed0bdee10>"
      ]
     },
     "execution_count": 8,
     "metadata": {},
     "output_type": "execute_result"
    }
   ],
   "source": [
    "# Author: Robert Guthrie\n",
    "\n",
    "import torch\n",
    "import torch.nn as nn\n",
    "import torch.nn.functional as F\n",
    "import torch.optim as optim\n",
    "\n",
    "torch.manual_seed(1)"
   ]
  },
  {
   "cell_type": "markdown",
   "metadata": {
    "id": "6pVTtKkfuyib"
   },
   "source": [
    "## Part-of-Speech Tagging\n",
    "\n",
    "\n",
    "In this section, we will use an LSTM to get part of speech tags.\n",
    "\n",
    "The model is as follows: let our input sentence be\n",
    "$w_1, \\dots, w_M$, where $w_i \\in V$, our vocabulary. Also, let\n",
    "$T$ be our tag set, and $y_i$ the tag of word $w_i$.\n",
    "Denote our prediction of the tag of word $w_i$ by\n",
    "$\\hat{y}_i$.\n",
    "\n",
    "This is a structure prediction, model, where our output is a sequence\n",
    "$\\hat{y}_1, \\dots, \\hat{y}_M$, where $\\hat{y}_i \\in T$.\n",
    "\n",
    "To do the prediction, pass an LSTM over the sentence. Denote the hidden\n",
    "state at timestep $i$ as $h_i$. Also, assign each tag a\n",
    "unique index (like how we had word\\_to\\_ix in the word embeddings\n",
    "section). Then our prediction rule for $\\hat{y}_i$ is\n",
    "\n",
    "\\begin{align}\\hat{y}_i = \\text{argmax}_j \\  (\\log \\text{Softmax}(Ah_i + b))_j\\end{align}\n",
    "\n",
    "That is, take the log softmax of the affine map of the hidden state,\n",
    "and the predicted tag is the tag that has the maximum value in this\n",
    "vector. Note this implies immediately that the dimensionality of the\n",
    "target space of $A$ is $|T|$.\n",
    "\n",
    "\n",
    "\n"
   ]
  },
  {
   "cell_type": "markdown",
   "metadata": {
    "id": "F2-nKqJkhptG"
   },
   "source": [
    "## Prepare data:"
   ]
  },
  {
   "cell_type": "code",
   "execution_count": 9,
   "metadata": {
    "executionInfo": {
     "elapsed": 4605,
     "status": "ok",
     "timestamp": 1619039393902,
     "user": {
      "displayName": "Lionel Fillatre",
      "photoUrl": "",
      "userId": "14463393848879581998"
     },
     "user_tz": -120
    },
    "id": "9ofc3ns4mSEN"
   },
   "outputs": [],
   "source": [
    "training_data = [\n",
    "    (\"The dog ate the apple\".split(), [\"DET\", \"NN\", \"V\", \"DET\", \"NN\"]),\n",
    "    (\"Everybody read that book\".split(), [\"NN\", \"V\", \"DET\", \"NN\"])\n",
    "]"
   ]
  },
  {
   "cell_type": "code",
   "execution_count": 10,
   "metadata": {
    "colab": {
     "base_uri": "https://localhost:8080/"
    },
    "executionInfo": {
     "elapsed": 4598,
     "status": "ok",
     "timestamp": 1619039393902,
     "user": {
      "displayName": "Lionel Fillatre",
      "photoUrl": "",
      "userId": "14463393848879581998"
     },
     "user_tz": -120
    },
    "id": "jTYEDs5yuyic",
    "outputId": "89554205-f177-44b2-ffe6-35abd02cc2dd"
   },
   "outputs": [
    {
     "name": "stdout",
     "output_type": "stream",
     "text": [
      "{'The': 0, 'dog': 1, 'ate': 2, 'the': 3, 'apple': 4, 'Everybody': 5, 'read': 6, 'that': 7, 'book': 8}\n"
     ]
    }
   ],
   "source": [
    "def prepare_sequence(seq, to_ix):\n",
    "    idxs = [to_ix[w] for w in seq]\n",
    "    return torch.tensor(idxs, dtype=torch.long)\n",
    "\n",
    "word_to_ix = {}\n",
    "for sent, tags in training_data:\n",
    "    for word in sent:\n",
    "        if word not in word_to_ix:\n",
    "            word_to_ix[word] = len(word_to_ix)\n",
    "print(word_to_ix)\n",
    "tag_to_ix = {\"DET\": 0, \"NN\": 1, \"V\": 2}\n",
    "\n"
   ]
  },
  {
   "cell_type": "code",
   "execution_count": 12,
   "metadata": {
    "colab": {
     "base_uri": "https://localhost:8080/"
    },
    "executionInfo": {
     "elapsed": 4593,
     "status": "ok",
     "timestamp": 1619039393903,
     "user": {
      "displayName": "Lionel Fillatre",
      "photoUrl": "",
      "userId": "14463393848879581998"
     },
     "user_tz": -120
    },
    "id": "PsyjwG8lq_yI",
    "outputId": "885cde8b-2eb6-4a4d-8314-8ce222ed6145"
   },
   "outputs": [
    {
     "name": "stdout",
     "output_type": "stream",
     "text": [
      "{0: 'DET', 1: 'NN', 2: 'V'}\n"
     ]
    }
   ],
   "source": [
    "ix_to_word = {}\n",
    "for i, word in enumerate(tag_to_ix):\n",
    "    ix_to_word[i] = word\n",
    "\n",
    "print(ix_to_word)"
   ]
  },
  {
   "cell_type": "code",
   "execution_count": 13,
   "metadata": {
    "executionInfo": {
     "elapsed": 4590,
     "status": "ok",
     "timestamp": 1619039393903,
     "user": {
      "displayName": "Lionel Fillatre",
      "photoUrl": "",
      "userId": "14463393848879581998"
     },
     "user_tz": -120
    },
    "id": "SeVR1aPKtgUj"
   },
   "outputs": [],
   "source": [
    "# These will usually be more like 32 or 64 dimensional.\n",
    "# We will keep them small, so we can see how the weights change as we train.\n",
    "EMBEDDING_DIM = 6\n",
    "HIDDEN_DIM = 10"
   ]
  },
  {
   "cell_type": "markdown",
   "metadata": {
    "id": "2I-62Zbruyif"
   },
   "source": [
    "## Create the model:\n",
    "\n"
   ]
  },
  {
   "cell_type": "markdown",
   "metadata": {
    "id": "q6SjjtfeQtyo"
   },
   "source": [
    "A cell to understand and test the LSTM"
   ]
  },
  {
   "cell_type": "markdown",
   "metadata": {
    "id": "heehhBiRRL0H"
   },
   "source": [
    "### Question: explain carefully the following cell exploiting a LSTM."
   ]
  },
  {
   "cell_type": "code",
   "execution_count": 14,
   "metadata": {
    "colab": {
     "base_uri": "https://localhost:8080/"
    },
    "executionInfo": {
     "elapsed": 619,
     "status": "ok",
     "timestamp": 1619039684469,
     "user": {
      "displayName": "Lionel Fillatre",
      "photoUrl": "",
      "userId": "14463393848879581998"
     },
     "user_tz": -120
    },
    "id": "tts8dPl0Qut2",
    "outputId": "7d2a6d48-18a9-40b5-f5ea-86e142529943",
    "tags": []
   },
   "outputs": [
    {
     "name": "stdout",
     "output_type": "stream",
     "text": [
      "tensor([[[ 1.9225e-02,  4.1500e-02, -2.4441e-01, -7.7552e-02, -1.7128e-02,\n",
      "           1.2690e-01, -5.9875e-02, -1.2850e-01, -1.1659e-03,  6.6426e-02]],\n",
      "\n",
      "        [[ 4.2322e-02, -5.6735e-02, -1.9042e-01, -4.6320e-02, -1.3861e-01,\n",
      "           6.1934e-02, -2.7061e-02, -1.1546e-01,  9.3254e-02,  2.6355e-02]],\n",
      "\n",
      "        [[-3.2474e-04,  1.2914e-01, -3.5927e-01,  2.2265e-02,  4.1101e-02,\n",
      "           2.6102e-01,  2.4373e-01, -2.1269e-01, -8.4736e-02, -4.4971e-02]],\n",
      "\n",
      "        [[-7.5424e-02,  1.6407e-01, -1.4608e-01,  1.2357e-01,  1.2083e-01,\n",
      "          -4.0878e-02,  1.6828e-01, -1.4338e-01, -8.0442e-02, -1.2277e-01]],\n",
      "\n",
      "        [[ 1.1725e-01,  1.9175e-01, -1.8829e-01, -6.5649e-02,  1.7355e-01,\n",
      "           1.0598e-01, -1.5585e-02, -4.9462e-02,  1.8246e-01, -1.8868e-03]]],\n",
      "       grad_fn=<StackBackward>)\n"
     ]
    }
   ],
   "source": [
    "vocab_size = len(word_to_ix)\n",
    "embedding_dim = EMBEDDING_DIM\n",
    "hidden_dim = HIDDEN_DIM\n",
    "word_embeddings = nn.Embedding(vocab_size, embedding_dim)\n",
    "sentence = training_data[0][0]\n",
    "sentence_in = prepare_sequence(sentence, word_to_ix)\n",
    "\n",
    "embeds = word_embeddings(sentence_in)\n",
    "embeds_view = embeds.view(len(sentence), 1, -1)\n",
    "\n",
    "lstm = nn.LSTM(embedding_dim, hidden_dim)\n",
    "lstm_out, _ = lstm(embeds_view)\n",
    "print(lstm_out)"
   ]
  },
  {
   "cell_type": "code",
   "execution_count": 37,
   "metadata": {},
   "outputs": [
    {
     "data": {
      "text/plain": [
       "tensor([5, 6, 7, 8])"
      ]
     },
     "execution_count": 37,
     "metadata": {},
     "output_type": "execute_result"
    }
   ],
   "source": [
    "sentence_in"
   ]
  },
  {
   "cell_type": "markdown",
   "metadata": {
    "id": "Uq05ggenljEp"
   },
   "source": [
    "### Question: add a LSTM layer in the following neural network."
   ]
  },
  {
   "cell_type": "markdown",
   "metadata": {
    "id": "2mIR3B2glNOT"
   },
   "source": [
    "### Question: what is the role of the linear layer in the following neural network?"
   ]
  },
  {
   "cell_type": "markdown",
   "metadata": {
    "id": "ctPvIABFpKDq"
   },
   "source": [
    "### Question: how to interpret the output of the \"forward\" function?"
   ]
  },
  {
   "cell_type": "code",
   "execution_count": 15,
   "metadata": {
    "executionInfo": {
     "elapsed": 4824,
     "status": "ok",
     "timestamp": 1619039394147,
     "user": {
      "displayName": "Lionel Fillatre",
      "photoUrl": "",
      "userId": "14463393848879581998"
     },
     "user_tz": -120
    },
    "id": "OXaxLbWiuyif"
   },
   "outputs": [],
   "source": [
    "class LSTMTagger(nn.Module):\n",
    "\n",
    "    def __init__(self, embedding_dim, hidden_dim, vocab_size, tagset_size):\n",
    "        super(LSTMTagger, self).__init__()\n",
    "        self.hidden_dim = hidden_dim\n",
    "\n",
    "        self.word_embeddings = nn.Embedding(vocab_size, embedding_dim)\n",
    "\n",
    "        # Complete the following line\n",
    "        self.lstm = nn.LSTM(embedding_dim, self.hidden_dim)\n",
    "\n",
    "        # The linear layer that maps from hidden state space to tag space\n",
    "        self.hidden2tag = nn.Linear(hidden_dim, tagset_size)\n",
    "\n",
    "    def forward(self, sentence):\n",
    "        embeds = self.word_embeddings(sentence)\n",
    "        lstm_out, _ = self.lstm(embeds.view(len(sentence), 1, -1))\n",
    "        tag_space = self.hidden2tag(lstm_out.view(len(sentence), -1))\n",
    "        tag_scores = F.log_softmax(tag_space, dim=1)\n",
    "        return tag_scores"
   ]
  },
  {
   "cell_type": "markdown",
   "metadata": {
    "id": "hjJCSilHuyih"
   },
   "source": [
    "## Train the model:\n",
    "\n"
   ]
  },
  {
   "cell_type": "code",
   "execution_count": 16,
   "metadata": {
    "executionInfo": {
     "elapsed": 4823,
     "status": "ok",
     "timestamp": 1619039394148,
     "user": {
      "displayName": "Lionel Fillatre",
      "photoUrl": "",
      "userId": "14463393848879581998"
     },
     "user_tz": -120
    },
    "id": "NLNN8YmjmtfY"
   },
   "outputs": [],
   "source": [
    "model = LSTMTagger(EMBEDDING_DIM, HIDDEN_DIM, len(word_to_ix), len(tag_to_ix))\n",
    "loss_function = nn.NLLLoss()\n",
    "optimizer = optim.SGD(model.parameters(), lr=0.1)"
   ]
  },
  {
   "cell_type": "code",
   "execution_count": 17,
   "metadata": {
    "executionInfo": {
     "elapsed": 4819,
     "status": "ok",
     "timestamp": 1619039394148,
     "user": {
      "displayName": "Lionel Fillatre",
      "photoUrl": "",
      "userId": "14463393848879581998"
     },
     "user_tz": -120
    },
    "id": "7M3aWiDVqgOw"
   },
   "outputs": [],
   "source": [
    "def get_index_of_max(input):\n",
    "    index = 0\n",
    "    for i in range(1, len(input)):\n",
    "        if input[i] > input[index]:\n",
    "            index = i \n",
    "    return index\n",
    "\n",
    "def get_max_prob_result(input, ix_to_word):\n",
    "    return ix_to_word[get_index_of_max(input)]"
   ]
  },
  {
   "cell_type": "markdown",
   "metadata": {
    "id": "i7fuRulFnVbW"
   },
   "source": [
    "### Question: compute and print the tags before the training."
   ]
  },
  {
   "cell_type": "code",
   "execution_count": 25,
   "metadata": {
    "executionInfo": {
     "elapsed": 4818,
     "status": "ok",
     "timestamp": 1619039394149,
     "user": {
      "displayName": "Lionel Fillatre",
      "photoUrl": "",
      "userId": "14463393848879581998"
     },
     "user_tz": -120
    },
    "id": "whVby35_uyii"
   },
   "outputs": [
    {
     "name": "stdout",
     "output_type": "stream",
     "text": [
      "tensor([[-7.9907e-03, -4.9626e+00, -6.9442e+00],\n",
      "        [-5.5722e+00, -5.2436e-03, -6.5517e+00],\n",
      "        [-5.6739e+00, -5.7792e+00, -6.5473e-03],\n",
      "        [-7.7998e-03, -5.4878e+00, -5.6178e+00],\n",
      "        [-5.6154e+00, -5.8969e-03, -6.1022e+00]])\n"
     ]
    }
   ],
   "source": [
    "# See what the scores are before training\n",
    "# Here we don't need to train, so the code is wrapped in torch.no_grad()\n",
    "with torch.no_grad():\n",
    "    inputs = prepare_sequence(training_data[0][0], word_to_ix)\n",
    "    # Complete the code\n",
    "    tag_scores = model(inputs)\n",
    "    print(tag_scores)"
   ]
  },
  {
   "cell_type": "code",
   "execution_count": 26,
   "metadata": {
    "colab": {
     "base_uri": "https://localhost:8080/",
     "height": 375
    },
    "executionInfo": {
     "elapsed": 5177,
     "status": "error",
     "timestamp": 1619039394514,
     "user": {
      "displayName": "Lionel Fillatre",
      "photoUrl": "",
      "userId": "14463393848879581998"
     },
     "user_tz": -120
    },
    "id": "TJlZsstvmytV",
    "outputId": "c1a4d880-21a6-42fd-8488-cec9bf4fd0f1"
   },
   "outputs": [],
   "source": [
    "for epoch in range(300):  # again, normally you would NOT do 300 epochs, it is toy data\n",
    "    for sentence, tags in training_data:\n",
    "        # Step 1. Remember that Pytorch accumulates gradients.\n",
    "        # We need to clear them out before each instance\n",
    "        model.zero_grad()\n",
    "\n",
    "        # Step 2. Get our inputs ready for the network, that is, turn them into\n",
    "        # Tensors of word indices.\n",
    "        sentence_in = prepare_sequence(sentence, word_to_ix)\n",
    "        targets = prepare_sequence(tags, tag_to_ix)\n",
    "\n",
    "        # Step 3. Run our forward pass.\n",
    "        tag_scores = model(sentence_in)\n",
    "\n",
    "        # Step 4. Compute the loss, gradients, and update the parameters by\n",
    "        #  calling optimizer.step()\n",
    "        loss = loss_function(tag_scores, targets)\n",
    "        loss.backward()\n",
    "        optimizer.step()"
   ]
  },
  {
   "cell_type": "markdown",
   "metadata": {
    "id": "us2Pkt5Sw4H6"
   },
   "source": [
    "### Question: compute and print the tags after the training."
   ]
  },
  {
   "cell_type": "code",
   "execution_count": 27,
   "metadata": {
    "executionInfo": {
     "elapsed": 5174,
     "status": "aborted",
     "timestamp": 1619039394514,
     "user": {
      "displayName": "Lionel Fillatre",
      "photoUrl": "",
      "userId": "14463393848879581998"
     },
     "user_tz": -120
    },
    "id": "aPECINfZjhxH",
    "tags": []
   },
   "outputs": [
    {
     "name": "stdout",
     "output_type": "stream",
     "text": [
      "tensor([[-4.5588e-03, -5.5270e+00, -7.4689e+00],\n",
      "        [-6.1186e+00, -3.0258e-03, -7.1066e+00],\n",
      "        [-6.1637e+00, -6.2987e+00, -3.9509e-03],\n",
      "        [-4.6360e-03, -6.0304e+00, -6.1099e+00],\n",
      "        [-6.1288e+00, -3.4900e-03, -6.6418e+00]])\n"
     ]
    }
   ],
   "source": [
    "# See what the scores are after training\n",
    "with torch.no_grad():\n",
    "    inputs = prepare_sequence(training_data[0][0], word_to_ix)\n",
    "    # Complete the code\n",
    "    tag_scores = model(inputs)\n",
    "    print(tag_scores)"
   ]
  }
 ],
 "metadata": {
  "accelerator": "GPU",
  "colab": {
   "collapsed_sections": [],
   "name": "DSTI_DL_Lab10_April2021.ipynb",
   "provenance": [],
   "toc_visible": true
  },
  "kernelspec": {
   "display_name": "Python 3",
   "language": "python",
   "name": "python3"
  },
  "language_info": {
   "codemirror_mode": {
    "name": "ipython",
    "version": 3
   },
   "file_extension": ".py",
   "mimetype": "text/x-python",
   "name": "python",
   "nbconvert_exporter": "python",
   "pygments_lexer": "ipython3",
   "version": "3.8.3"
  }
 },
 "nbformat": 4,
 "nbformat_minor": 4
}
