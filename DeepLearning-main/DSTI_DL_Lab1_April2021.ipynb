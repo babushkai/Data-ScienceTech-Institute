{
 "cells": [
  {
   "cell_type": "markdown",
   "metadata": {
    "id": "mYjIe2Y5gC9e"
   },
   "source": [
    "# Torch basics"
   ]
  },
  {
   "cell_type": "code",
   "execution_count": 1,
   "metadata": {},
   "outputs": [],
   "source": [
    "! jt -t monokai"
   ]
  },
  {
   "cell_type": "code",
   "execution_count": 2,
   "metadata": {
    "executionInfo": {
     "elapsed": 3787,
     "status": "ok",
     "timestamp": 1618173224758,
     "user": {
      "displayName": "Lionel Fillatre",
      "photoUrl": "",
      "userId": "14463393848879581998"
     },
     "user_tz": -120
    },
    "id": "Hh6cps5cgC9g"
   },
   "outputs": [],
   "source": [
    "import matplotlib.pyplot as plt\n",
    "%matplotlib inline\n",
    "import torch\n",
    "import numpy as np"
   ]
  },
  {
   "cell_type": "code",
   "execution_count": 2,
   "metadata": {
    "colab": {
     "base_uri": "https://localhost:8080/",
     "height": 35
    },
    "executionInfo": {
     "elapsed": 3782,
     "status": "ok",
     "timestamp": 1618173224765,
     "user": {
      "displayName": "Lionel Fillatre",
      "photoUrl": "",
      "userId": "14463393848879581998"
     },
     "user_tz": -120
    },
    "id": "Pe1KgPFqgC9m",
    "jupyter": {
     "source_hidden": true
    },
    "outputId": "c8107d06-46ca-4b61-daa2-115f15b59d41"
   },
   "outputs": [
    {
     "data": {
      "text/plain": [
       "'1.7.1'"
      ]
     },
     "execution_count": 2,
     "metadata": {},
     "output_type": "execute_result"
    }
   ],
   "source": [
    "torch.__version__"
   ]
  },
  {
   "cell_type": "markdown",
   "metadata": {
    "id": "lMn2UjdXgC9r"
   },
   "source": [
    "Largely inspired from the tutorial [What is PyTorch?](https://pytorch.org/tutorials/beginner/former_torchies/tensor_tutorial.html)\n",
    "\n",
    "Tensors are used to encode the signal to process, but also the internal states and parameters of models.\n",
    "\n",
    "Manipulating data through this constrained structure allows to use CPUs and GPUs at peak performance.\n",
    "\n"
   ]
  },
  {
   "cell_type": "markdown",
   "metadata": {
    "id": "loUAlh7dyVpN"
   },
   "source": [
    "## Tensors"
   ]
  },
  {
   "cell_type": "markdown",
   "metadata": {
    "id": "hlUFi857xt6Q"
   },
   "source": [
    "Construct a 3x5 matrix, uninitialized:"
   ]
  },
  {
   "cell_type": "code",
   "execution_count": 50,
   "metadata": {
    "executionInfo": {
     "elapsed": 3780,
     "status": "ok",
     "timestamp": 1618173224766,
     "user": {
      "displayName": "Lionel Fillatre",
      "photoUrl": "",
      "userId": "14463393848879581998"
     },
     "user_tz": -120
    },
    "id": "2kLcNt8IgC9r"
   },
   "outputs": [],
   "source": [
    "# Sets the default floating point dtype. \n",
    "# This type will be used as default floating point type for type inference in torch.tensor().\n",
    "torch.set_default_tensor_type('torch.FloatTensor') "
   ]
  },
  {
   "cell_type": "code",
   "execution_count": 51,
   "metadata": {
    "colab": {
     "base_uri": "https://localhost:8080/"
    },
    "executionInfo": {
     "elapsed": 3772,
     "status": "ok",
     "timestamp": 1618173224766,
     "user": {
      "displayName": "Lionel Fillatre",
      "photoUrl": "",
      "userId": "14463393848879581998"
     },
     "user_tz": -120
    },
    "id": "RjUhHCJMgC9u",
    "outputId": "ec2889b7-4b85-40ce-c976-eeae1c6c7c30"
   },
   "outputs": [
    {
     "name": "stdout",
     "output_type": "stream",
     "text": [
      "torch.FloatTensor\n",
      "tensor([[-2.5141,  0.8176, -0.4652, -0.8663,  1.6492],\n",
      "        [ 0.5518, -1.6157,  0.8065,  1.2649,  0.3574],\n",
      "        [-0.6268, -0.2942, -0.0882,  0.3225,  0.4806]])\n"
     ]
    }
   ],
   "source": [
    "x = torch.empty(3,5)\n",
    "print(x.type())\n",
    "print(x)"
   ]
  },
  {
   "cell_type": "code",
   "execution_count": 52,
   "metadata": {
    "colab": {
     "base_uri": "https://localhost:8080/"
    },
    "executionInfo": {
     "elapsed": 3766,
     "status": "ok",
     "timestamp": 1618173224767,
     "user": {
      "displayName": "Lionel Fillatre",
      "photoUrl": "",
      "userId": "14463393848879581998"
     },
     "user_tz": -120
    },
    "id": "MnRsrLh5gC9w",
    "outputId": "1b3c4656-7be5-4f0d-dfa6-092ba8bd5fd7"
   },
   "outputs": [
    {
     "name": "stdout",
     "output_type": "stream",
     "text": [
      "tensor([[-1.1034,  1.2277, -0.9453,  0.6575, -0.8268],\n",
      "        [-0.7725, -1.4303,  0.4127, -0.3929,  0.4808],\n",
      "        [-0.5836,  0.1635,  0.2389, -0.3954,  1.7344]])\n"
     ]
    }
   ],
   "source": [
    "x = torch.randn(3,5)\n",
    "print(x)"
   ]
  },
  {
   "cell_type": "code",
   "execution_count": 53,
   "metadata": {
    "colab": {
     "base_uri": "https://localhost:8080/"
    },
    "executionInfo": {
     "elapsed": 3759,
     "status": "ok",
     "timestamp": 1618173224768,
     "user": {
      "displayName": "Lionel Fillatre",
      "photoUrl": "",
      "userId": "14463393848879581998"
     },
     "user_tz": -120
    },
    "id": "lfgpO7kUgC9z",
    "outputId": "a1fca040-389f-487c-c8d9-64d5b7bda8f1"
   },
   "outputs": [
    {
     "name": "stdout",
     "output_type": "stream",
     "text": [
      "torch.Size([3, 5])\n"
     ]
    }
   ],
   "source": [
    "print(x.size())"
   ]
  },
  {
   "cell_type": "markdown",
   "metadata": {
    "id": "NNLzvVKigC92"
   },
   "source": [
    "torch.Size is in fact a [tuple](https://docs.python.org/3/tutorial/datastructures.html#tuples-and-sequences), so it supports the same operations."
   ]
  },
  {
   "cell_type": "code",
   "execution_count": 54,
   "metadata": {
    "colab": {
     "base_uri": "https://localhost:8080/"
    },
    "executionInfo": {
     "elapsed": 3752,
     "status": "ok",
     "timestamp": 1618173224768,
     "user": {
      "displayName": "Lionel Fillatre",
      "photoUrl": "",
      "userId": "14463393848879581998"
     },
     "user_tz": -120
    },
    "id": "W-o3sFH3gC92",
    "outputId": "d0a05a0a-7c00-46a4-d166-6d19456e07de"
   },
   "outputs": [
    {
     "data": {
      "text/plain": [
       "5"
      ]
     },
     "execution_count": 54,
     "metadata": {},
     "output_type": "execute_result"
    }
   ],
   "source": [
    "x.size()[1]"
   ]
  },
  {
   "cell_type": "code",
   "execution_count": 55,
   "metadata": {
    "colab": {
     "base_uri": "https://localhost:8080/"
    },
    "executionInfo": {
     "elapsed": 3745,
     "status": "ok",
     "timestamp": 1618173224769,
     "user": {
      "displayName": "Lionel Fillatre",
      "photoUrl": "",
      "userId": "14463393848879581998"
     },
     "user_tz": -120
    },
    "id": "LkQAasgtgC95",
    "outputId": "9ca095fe-e2bb-4bb6-f9ea-6aa01eb7d9c6"
   },
   "outputs": [
    {
     "data": {
      "text/plain": [
       "True"
      ]
     },
     "execution_count": 55,
     "metadata": {},
     "output_type": "execute_result"
    }
   ],
   "source": [
    "x.size() == (3,5)"
   ]
  },
  {
   "cell_type": "markdown",
   "metadata": {
    "id": "GDufwT0Kstxv"
   },
   "source": [
    "Importance of the brackets when defining a tensor"
   ]
  },
  {
   "cell_type": "code",
   "execution_count": 56,
   "metadata": {
    "colab": {
     "base_uri": "https://localhost:8080/"
    },
    "executionInfo": {
     "elapsed": 3739,
     "status": "ok",
     "timestamp": 1618173224770,
     "user": {
      "displayName": "Lionel Fillatre",
      "photoUrl": "",
      "userId": "14463393848879581998"
     },
     "user_tz": -120
    },
    "id": "wa9IPaaqsaPg",
    "outputId": "8d10c0fa-9934-4dc8-e2d8-2be46c75ae12"
   },
   "outputs": [
    {
     "name": "stdout",
     "output_type": "stream",
     "text": [
      "<class 'torch.Tensor'>\n",
      "torch.float32\n",
      "torch.Size([1])\n",
      "<class 'torch.Tensor'>\n",
      "torch.float32\n",
      "torch.Size([])\n"
     ]
    }
   ],
   "source": [
    "a = torch.tensor([2.0])\n",
    "print(type(a))\n",
    "print(a.dtype)\n",
    "print(a.size())\n",
    "\n",
    "# This is not the tensor\n",
    "b = torch.tensor(2.0)\n",
    "print(type(b))\n",
    "print(b.dtype)\n",
    "print(b.size())"
   ]
  },
  {
   "cell_type": "markdown",
   "metadata": {
    "id": "XeAg1TcMhyf4"
   },
   "source": [
    "Select some columns"
   ]
  },
  {
   "cell_type": "code",
   "execution_count": 66,
   "metadata": {
    "colab": {
     "base_uri": "https://localhost:8080/"
    },
    "executionInfo": {
     "elapsed": 3731,
     "status": "ok",
     "timestamp": 1618173224770,
     "user": {
      "displayName": "Lionel Fillatre",
      "photoUrl": "",
      "userId": "14463393848879581998"
     },
     "user_tz": -120
    },
    "id": "DZaC-fXlgY6G",
    "outputId": "793d0a6c-7950-41d8-f57b-298bef1fb396"
   },
   "outputs": [
    {
     "name": "stdout",
     "output_type": "stream",
     "text": [
      "tensor([False, False, False, False, False])\n",
      "tensor([False,  True, False, False,  True])\n",
      "tensor([[3.5000, 3.5000],\n",
      "        [3.5000, 3.5000],\n",
      "        [3.5000, 3.5000]])\n"
     ]
    }
   ],
   "source": [
    "cols = torch.zeros(5, dtype=torch.bool)\n",
    "print(cols)\n",
    "cols[1] = True\n",
    "cols[4] = True\n",
    "print(cols)\n",
    "c = x[:, cols]  # selects all rows, 4th column and  5th column from a\n",
    "print(c)"
   ]
  },
  {
   "cell_type": "markdown",
   "metadata": {
    "id": "t9v3syrRf-13"
   },
   "source": [
    "All operations on the tensor that operate in-place on it will have an _ postfix. "
   ]
  },
  {
   "cell_type": "code",
   "execution_count": 69,
   "metadata": {
    "colab": {
     "base_uri": "https://localhost:8080/"
    },
    "executionInfo": {
     "elapsed": 3725,
     "status": "ok",
     "timestamp": 1618173224771,
     "user": {
      "displayName": "Lionel Fillatre",
      "photoUrl": "",
      "userId": "14463393848879581998"
     },
     "user_tz": -120
    },
    "id": "zr3PP5oVf1SV",
    "outputId": "c369bf92-65a4-4486-b2e4-f21ed497318c"
   },
   "outputs": [
    {
     "name": "stdout",
     "output_type": "stream",
     "text": [
      "tensor([[30.5000, 30.5000, 30.5000, 30.5000, 30.5000],\n",
      "        [30.5000, 30.5000, 30.5000, 30.5000, 30.5000],\n",
      "        [30.5000, 30.5000, 30.5000, 30.5000, 30.5000]])\n"
     ]
    }
   ],
   "source": [
    "# x will be filled with the value 3.5\n",
    "x.fill_(3.5)\n",
    "print(x)"
   ]
  },
  {
   "cell_type": "markdown",
   "metadata": {
    "id": "SXPtlUXsgC96"
   },
   "source": [
    "## Bridge to numpy"
   ]
  },
  {
   "cell_type": "code",
   "execution_count": 70,
   "metadata": {
    "colab": {
     "base_uri": "https://localhost:8080/"
    },
    "executionInfo": {
     "elapsed": 4068,
     "status": "ok",
     "timestamp": 1618173225122,
     "user": {
      "displayName": "Lionel Fillatre",
      "photoUrl": "",
      "userId": "14463393848879581998"
     },
     "user_tz": -120
    },
    "id": "61srdUzCgC97",
    "outputId": "34a1489a-7ed4-469a-a773-78da7e831ad7"
   },
   "outputs": [
    {
     "name": "stdout",
     "output_type": "stream",
     "text": [
      "[[30.5 30.5 30.5 30.5 30.5]\n",
      " [30.5 30.5 30.5 30.5 30.5]\n",
      " [30.5 30.5 30.5 30.5 30.5]]\n"
     ]
    }
   ],
   "source": [
    "y = x.numpy()\n",
    "print(y)"
   ]
  },
  {
   "cell_type": "code",
   "execution_count": 71,
   "metadata": {
    "colab": {
     "base_uri": "https://localhost:8080/"
    },
    "executionInfo": {
     "elapsed": 4062,
     "status": "ok",
     "timestamp": 1618173225123,
     "user": {
      "displayName": "Lionel Fillatre",
      "photoUrl": "",
      "userId": "14463393848879581998"
     },
     "user_tz": -120
    },
    "id": "tFv5BzYsgC99",
    "outputId": "df0fc25f-2502-433e-ed19-bdd63fe2edb7"
   },
   "outputs": [
    {
     "name": "stdout",
     "output_type": "stream",
     "text": [
      "tensor([1., 1., 1., 1., 1.], dtype=torch.float64)\n"
     ]
    }
   ],
   "source": [
    "a = np.ones(5)\n",
    "b = torch.from_numpy(a)\n",
    "print(b)\n",
    " "
   ]
  },
  {
   "cell_type": "code",
   "execution_count": 72,
   "metadata": {
    "colab": {
     "base_uri": "https://localhost:8080/"
    },
    "executionInfo": {
     "elapsed": 4053,
     "status": "ok",
     "timestamp": 1618173225123,
     "user": {
      "displayName": "Lionel Fillatre",
      "photoUrl": "",
      "userId": "14463393848879581998"
     },
     "user_tz": -120
    },
    "id": "lfpk2tfpgC9-",
    "outputId": "aaa34709-130b-475a-86ee-16cdc23d19a0"
   },
   "outputs": [
    {
     "name": "stdout",
     "output_type": "stream",
     "text": [
      "tensor([[-1.3966,  0.1283,  0.4658, -0.4999,  0.1929],\n",
      "        [-0.7399, -1.5680, -0.1485, -0.9893, -1.0088],\n",
      "        [ 0.2669,  0.8955, -2.6205, -0.4084, -0.5100]])\n",
      "tensor([1, 1, 1, 1, 1], dtype=torch.int32)\n"
     ]
    }
   ],
   "source": [
    "xr = torch.randn(3, 5)\n",
    "a = np.ones(5).astype(int)\n",
    "b = torch.from_numpy(a)\n",
    "print(xr)\n",
    "print(b)"
   ]
  },
  {
   "cell_type": "markdown",
   "metadata": {
    "id": "C6sKTTlZ0RmP"
   },
   "source": [
    "### Question: print the type of the content (data) of variables a, b and xr"
   ]
  },
  {
   "cell_type": "code",
   "execution_count": 73,
   "metadata": {
    "executionInfo": {
     "elapsed": 4052,
     "status": "ok",
     "timestamp": 1618173225124,
     "user": {
      "displayName": "Lionel Fillatre",
      "photoUrl": "",
      "userId": "14463393848879581998"
     },
     "user_tz": -120
    },
    "id": "k07dBWLRxARt"
   },
   "outputs": [
    {
     "name": "stdout",
     "output_type": "stream",
     "text": [
      "int32\n",
      "torch.int32\n",
      "torch.float32\n"
     ]
    }
   ],
   "source": [
    "# COMPLETE THE CELL\n",
    "print(a.dtype)\n",
    "print(b.dtype)\n",
    "print(xr.dtype)"
   ]
  },
  {
   "cell_type": "markdown",
   "metadata": {
    "id": "7fwWdAYjUuiN"
   },
   "source": [
    "## Operations\n",
    "\n",
    "There are multiple syntaxes for operations. In the following\n",
    "example, we will take a look at the addition operation.\n",
    "\n",
    "Addition: syntax 1"
   ]
  },
  {
   "cell_type": "code",
   "execution_count": 86,
   "metadata": {
    "colab": {
     "base_uri": "https://localhost:8080/"
    },
    "executionInfo": {
     "elapsed": 4044,
     "status": "ok",
     "timestamp": 1618173225124,
     "user": {
      "displayName": "Lionel Fillatre",
      "photoUrl": "",
      "userId": "14463393848879581998"
     },
     "user_tz": -120
    },
    "id": "4iASmmTAUxG0",
    "outputId": "cb9ff0c4-406d-4411-8b2d-c49d1ddddc34"
   },
   "outputs": [
    {
     "name": "stdout",
     "output_type": "stream",
     "text": [
      "tensor([[0.6282, 1.5323, 1.0022],\n",
      "        [1.1325, 0.5145, 1.0803],\n",
      "        [1.6423, 0.6956, 0.5651],\n",
      "        [1.6899, 1.2472, 1.2586],\n",
      "        [1.3654, 0.8766, 0.5702]])\n"
     ]
    }
   ],
   "source": [
    "x = torch.rand(5, 3) \n",
    "y = torch.rand(5, 3)\n",
    "print(x + y)"
   ]
  },
  {
   "cell_type": "markdown",
   "metadata": {
    "id": "H5NxjdPhVQP8"
   },
   "source": [
    "Addition: syntax 2"
   ]
  },
  {
   "cell_type": "code",
   "execution_count": 94,
   "metadata": {
    "colab": {
     "base_uri": "https://localhost:8080/"
    },
    "executionInfo": {
     "elapsed": 4038,
     "status": "ok",
     "timestamp": 1618173225125,
     "user": {
      "displayName": "Lionel Fillatre",
      "photoUrl": "",
      "userId": "14463393848879581998"
     },
     "user_tz": -120
    },
    "id": "GwCo8DOcVRHq",
    "outputId": "3b63369a-5b58-426f-8aa7-8bc9023d15cd"
   },
   "outputs": [
    {
     "name": "stdout",
     "output_type": "stream",
     "text": [
      "tensor([[0.6282, 1.5323, 1.0022],\n",
      "        [1.1325, 0.5145, 1.0803],\n",
      "        [1.6423, 0.6956, 0.5651],\n",
      "        [1.6899, 1.2472, 1.2586],\n",
      "        [1.3654, 0.8766, 0.5702]])\n"
     ]
    }
   ],
   "source": [
    "print(torch.add(x, y))"
   ]
  },
  {
   "cell_type": "markdown",
   "metadata": {
    "id": "wNuL3H61VZvS"
   },
   "source": [
    "Addition: providing an output tensor as argument"
   ]
  },
  {
   "cell_type": "code",
   "execution_count": 98,
   "metadata": {
    "colab": {
     "base_uri": "https://localhost:8080/"
    },
    "executionInfo": {
     "elapsed": 4031,
     "status": "ok",
     "timestamp": 1618173225125,
     "user": {
      "displayName": "Lionel Fillatre",
      "photoUrl": "",
      "userId": "14463393848879581998"
     },
     "user_tz": -120
    },
    "id": "hX1ffSunVail",
    "outputId": "63807e39-3837-43ac-f048-ab518fe6a767"
   },
   "outputs": [
    {
     "name": "stdout",
     "output_type": "stream",
     "text": [
      "tensor([[0.6927, 3.3325, 2.3337],\n",
      "        [3.0930, 0.8510, 1.9980],\n",
      "        [2.9802, 1.0331, 1.1237],\n",
      "        [3.5723, 2.8451, 3.1919],\n",
      "        [2.8631, 2.1945, 0.6627]])\n"
     ]
    }
   ],
   "source": [
    "result = torch.empty(5, 3)\n",
    "torch.add(x, y, out=result)\n",
    "print(result)"
   ]
  },
  {
   "cell_type": "markdown",
   "metadata": {
    "id": "-VK0_f0rVejB"
   },
   "source": [
    "Addition: in-place"
   ]
  },
  {
   "cell_type": "code",
   "execution_count": 100,
   "metadata": {
    "colab": {
     "base_uri": "https://localhost:8080/"
    },
    "executionInfo": {
     "elapsed": 4025,
     "status": "ok",
     "timestamp": 1618173225126,
     "user": {
      "displayName": "Lionel Fillatre",
      "photoUrl": "",
      "userId": "14463393848879581998"
     },
     "user_tz": -120
    },
    "id": "rj0GKMgSVlGV",
    "outputId": "02d74a7d-6c3c-4b37-d6d9-82b863d33488"
   },
   "outputs": [
    {
     "name": "stdout",
     "output_type": "stream",
     "text": [
      "tensor([[0.6927, 3.3325, 2.3337],\n",
      "        [3.0930, 0.8510, 1.9980],\n",
      "        [2.9802, 1.0331, 1.1237],\n",
      "        [3.5723, 2.8451, 3.1919],\n",
      "        [2.8631, 2.1945, 0.6627]])\n"
     ]
    }
   ],
   "source": [
    "# adds x to y\n",
    "y.add_(x)\n",
    "print(y)"
   ]
  },
  {
   "cell_type": "markdown",
   "metadata": {
    "id": "EgNBadgeVscS"
   },
   "source": [
    "**Note:** Any operation that mutates a tensor in-place is post-fixed with an ``_``.\n",
    "    For example: ``x.copy_(y)``, ``x.t_()``, will change ``x``.\n",
    "\n"
   ]
  },
  {
   "cell_type": "markdown",
   "metadata": {
    "id": "kOPtMoOkgC-G"
   },
   "source": [
    "Any operation that mutates a tensor in-place is post-fixed with an ```_```\n",
    "\n",
    "For example: ```x.copy_(y)```, ```x.t_()```, will change ```x```."
   ]
  },
  {
   "cell_type": "code",
   "execution_count": 101,
   "metadata": {
    "colab": {
     "base_uri": "https://localhost:8080/"
    },
    "executionInfo": {
     "elapsed": 4018,
     "status": "ok",
     "timestamp": 1618173225126,
     "user": {
      "displayName": "Lionel Fillatre",
      "photoUrl": "",
      "userId": "14463393848879581998"
     },
     "user_tz": -120
    },
    "id": "hrOV0mQIgC-G",
    "outputId": "ea5b883e-6fa2-41c1-e0b4-76060a5cc838"
   },
   "outputs": [
    {
     "name": "stdout",
     "output_type": "stream",
     "text": [
      "tensor([[0.0322, 0.9802, 0.6690, 0.9412, 0.7489],\n",
      "        [0.9001, 0.1682, 0.1687, 0.7989, 0.6590],\n",
      "        [0.6658, 0.4588, 0.2793, 0.9666, 0.0462]])\n"
     ]
    }
   ],
   "source": [
    "print(x.t())"
   ]
  },
  {
   "cell_type": "code",
   "execution_count": 21,
   "metadata": {
    "colab": {
     "base_uri": "https://localhost:8080/"
    },
    "executionInfo": {
     "elapsed": 4012,
     "status": "ok",
     "timestamp": 1618173225127,
     "user": {
      "displayName": "Lionel Fillatre",
      "photoUrl": "",
      "userId": "14463393848879581998"
     },
     "user_tz": -120
    },
    "id": "LfNnD4vSgC-H",
    "outputId": "c83aa03e-3fee-46a9-cf22-6250f52b7cf7"
   },
   "outputs": [
    {
     "name": "stdout",
     "output_type": "stream",
     "text": [
      "tensor([[0.8494, 0.3116, 0.9954],\n",
      "        [0.2552, 0.0546, 0.1369],\n",
      "        [0.3709, 0.5307, 0.9977],\n",
      "        [0.8437, 0.7473, 0.6930],\n",
      "        [0.9735, 0.1132, 0.8605]])\n"
     ]
    }
   ],
   "source": [
    "print(x)"
   ]
  },
  {
   "cell_type": "code",
   "execution_count": 103,
   "metadata": {
    "colab": {
     "base_uri": "https://localhost:8080/"
    },
    "executionInfo": {
     "elapsed": 4005,
     "status": "ok",
     "timestamp": 1618173225127,
     "user": {
      "displayName": "Lionel Fillatre",
      "photoUrl": "",
      "userId": "14463393848879581998"
     },
     "user_tz": -120
    },
    "id": "5YdHeI8lgC-I",
    "outputId": "2d745f10-738c-4c79-fa6b-079e0ee07185"
   },
   "outputs": [
    {
     "name": "stdout",
     "output_type": "stream",
     "text": [
      "tensor([[0.0322, 0.9802, 0.6690, 0.9412, 0.7489],\n",
      "        [0.9001, 0.1682, 0.1687, 0.7989, 0.6590],\n",
      "        [0.6658, 0.4588, 0.2793, 0.9666, 0.0462]])\n"
     ]
    }
   ],
   "source": [
    "x.t_()\n",
    "print(x)"
   ]
  },
  {
   "cell_type": "markdown",
   "metadata": {
    "id": "UfxHIL-mWyZl"
   },
   "source": [
    "You can use standard NumPy-like indexing with all bells and whistles!"
   ]
  },
  {
   "cell_type": "code",
   "execution_count": 105,
   "metadata": {
    "colab": {
     "base_uri": "https://localhost:8080/"
    },
    "executionInfo": {
     "elapsed": 3999,
     "status": "ok",
     "timestamp": 1618173225128,
     "user": {
      "displayName": "Lionel Fillatre",
      "photoUrl": "",
      "userId": "14463393848879581998"
     },
     "user_tz": -120
    },
    "id": "Cz4M97B2Wtyu",
    "outputId": "d6c92e2a-d9b3-4d1c-b838-0d79bef059d6"
   },
   "outputs": [
    {
     "name": "stdout",
     "output_type": "stream",
     "text": [
      "tensor([0.9802, 0.1682, 0.4588])\n"
     ]
    }
   ],
   "source": [
    "print(x[:, 1])"
   ]
  },
  {
   "cell_type": "markdown",
   "metadata": {
    "id": "M6tsVH8zW8yB"
   },
   "source": [
    "Resizing (very useful): If you want to resize/reshape tensor, you can use ``torch.view``:"
   ]
  },
  {
   "cell_type": "code",
   "execution_count": 106,
   "metadata": {
    "colab": {
     "base_uri": "https://localhost:8080/"
    },
    "executionInfo": {
     "elapsed": 3993,
     "status": "ok",
     "timestamp": 1618173225129,
     "user": {
      "displayName": "Lionel Fillatre",
      "photoUrl": "",
      "userId": "14463393848879581998"
     },
     "user_tz": -120
    },
    "id": "k0qjaFPDW_3I",
    "outputId": "faeca350-d894-42e3-ca52-a045e4e38050"
   },
   "outputs": [
    {
     "name": "stdout",
     "output_type": "stream",
     "text": [
      "torch.Size([4, 4]) torch.Size([16]) torch.Size([2, 8])\n"
     ]
    }
   ],
   "source": [
    "x = torch.randn(4, 4)\n",
    "y = x.view(16)\n",
    "z = x.view(-1, 8)  # the size -1 is inferred from other dimensions\n",
    "print(x.size(), y.size(), z.size())"
   ]
  },
  {
   "cell_type": "markdown",
   "metadata": {
    "id": "fP8sTTCgXRak"
   },
   "source": [
    "If you have a one element tensor, use ``.item()`` to get the value as a\n",
    "Python number"
   ]
  },
  {
   "cell_type": "code",
   "execution_count": 111,
   "metadata": {
    "colab": {
     "base_uri": "https://localhost:8080/"
    },
    "executionInfo": {
     "elapsed": 3985,
     "status": "ok",
     "timestamp": 1618173225129,
     "user": {
      "displayName": "Lionel Fillatre",
      "photoUrl": "",
      "userId": "14463393848879581998"
     },
     "user_tz": -120
    },
    "id": "zaG9x6SHXSPw",
    "outputId": "31771397-befc-4dab-bea0-c24ddcc17c42"
   },
   "outputs": [
    {
     "name": "stdout",
     "output_type": "stream",
     "text": [
      "tensor([0.3806])\n",
      "0.38055258989334106\n"
     ]
    }
   ],
   "source": [
    "x = torch.randn(1)\n",
    "print(x)\n",
    "print(x.item())"
   ]
  },
  {
   "cell_type": "markdown",
   "metadata": {
    "id": "mqCvPrp-XmZQ"
   },
   "source": [
    "**Read later:**\n",
    "\n",
    "\n",
    "  100+ Tensor operations, including transposing, indexing, slicing,\n",
    "  mathematical operations, linear algebra, random numbers, etc.,\n",
    "  are described\n",
    "  [here](https://pytorch.org/docs/torch)."
   ]
  },
  {
   "cell_type": "markdown",
   "metadata": {
    "id": "8Jk-JGYpeCNz"
   },
   "source": [
    "## 3D Tensors"
   ]
  },
  {
   "cell_type": "markdown",
   "metadata": {
    "id": "RTGbU2E-eLWF"
   },
   "source": [
    "### Question: What is the size of the following tensor?"
   ]
  },
  {
   "cell_type": "code",
   "execution_count": 112,
   "metadata": {
    "colab": {
     "base_uri": "https://localhost:8080/"
    },
    "executionInfo": {
     "elapsed": 3978,
     "status": "ok",
     "timestamp": 1618173225130,
     "user": {
      "displayName": "Lionel Fillatre",
      "photoUrl": "",
      "userId": "14463393848879581998"
     },
     "user_tz": -120
    },
    "id": "d-Dg4nyOeD4f",
    "outputId": "9db2c697-3db1-49a3-b227-81fc9049f3f9"
   },
   "outputs": [
    {
     "name": "stdout",
     "output_type": "stream",
     "text": [
      "tensor([[[1, 2, 3],\n",
      "         [4, 5, 6]],\n",
      "\n",
      "        [[1, 2, 3],\n",
      "         [4, 5, 6]],\n",
      "\n",
      "        [[1, 2, 3],\n",
      "         [4, 5, 6]]])\n"
     ]
    }
   ],
   "source": [
    "y = torch.tensor([\n",
    "     [\n",
    "       [1, 2, 3],\n",
    "       [4, 5, 6]\n",
    "     ],\n",
    "     [\n",
    "       [1, 2, 3],\n",
    "       [4, 5, 6]\n",
    "     ],\n",
    "     [\n",
    "       [1, 2, 3],\n",
    "       [4, 5, 6]\n",
    "     ]\n",
    "   ])\n",
    "print(y)"
   ]
  },
  {
   "cell_type": "code",
   "execution_count": 115,
   "metadata": {
    "executionInfo": {
     "elapsed": 3977,
     "status": "ok",
     "timestamp": 1618173225131,
     "user": {
      "displayName": "Lionel Fillatre",
      "photoUrl": "",
      "userId": "14463393848879581998"
     },
     "user_tz": -120
    },
    "id": "2gBU82BTe0_y"
   },
   "outputs": [
    {
     "name": "stdout",
     "output_type": "stream",
     "text": [
      "torch.Size([3, 2, 3])\n"
     ]
    }
   ],
   "source": [
    "# COMPLETE THE CELL\n",
    "print(y.size())"
   ]
  },
  {
   "cell_type": "markdown",
   "metadata": {
    "id": "dOUGbVEUe9DC"
   },
   "source": [
    "### Question: Explain the result of the next cell"
   ]
  },
  {
   "cell_type": "code",
   "execution_count": 123,
   "metadata": {
    "colab": {
     "base_uri": "https://localhost:8080/"
    },
    "executionInfo": {
     "elapsed": 3970,
     "status": "ok",
     "timestamp": 1618173225131,
     "user": {
      "displayName": "Lionel Fillatre",
      "photoUrl": "",
      "userId": "14463393848879581998"
     },
     "user_tz": -120
    },
    "id": "14O04VMTe9eg",
    "outputId": "8ca7c27a-5e18-4656-f926-fb110a06c15a"
   },
   "outputs": [
    {
     "data": {
      "text/plain": [
       "tensor([[ 3,  6,  9],\n",
       "        [12, 15, 18]])"
      ]
     },
     "execution_count": 123,
     "metadata": {},
     "output_type": "execute_result"
    }
   ],
   "source": [
    "torch.sum(y, dim=0)"
   ]
  },
  {
   "cell_type": "markdown",
   "metadata": {
    "id": "Ev68h5j1ZUNH"
   },
   "source": [
    "## Broadcasting semantics\n",
    "\n",
    "In short, if a PyTorch operation supports broadcast, then its Tensor arguments can be automatically expanded to be of equal sizes (without making copies of the data).\n",
    "\n",
    "Two tensors are “broadcastable” if the following rules hold:\n",
    "\n",
    "*   Each tensor has at least one dimension.\n",
    "*   When iterating over the dimension sizes, **starting at the trailing dimension**, the dimension sizes must either be equal, one of them is 1, or one of them does not exist.\n",
    "\n",
    "If two tensors x, y are “broadcastable”, the resulting tensor size is calculated as follows:\n",
    "* If the number of dimensions of x and y are not equal, prepend 1 to the dimensions of the tensor with fewer dimensions to make them equal length.\n",
    "* Then, for each dimension size, the resulting dimension size is the max of the sizes of x and y along that dimension.\n",
    "\n",
    "More details [here](https://pytorch.org/docs/stable/notes/broadcasting.html)\n",
    "\n"
   ]
  },
  {
   "cell_type": "code",
   "execution_count": 129,
   "metadata": {
    "colab": {
     "base_uri": "https://localhost:8080/"
    },
    "executionInfo": {
     "elapsed": 3964,
     "status": "ok",
     "timestamp": 1618173225132,
     "user": {
      "displayName": "Lionel Fillatre",
      "photoUrl": "",
      "userId": "14463393848879581998"
     },
     "user_tz": -120
    },
    "id": "P3f9hXLxZXQa",
    "outputId": "31d02f92-3d86-47f5-b52d-01973ce10cc2"
   },
   "outputs": [
    {
     "name": "stdout",
     "output_type": "stream",
     "text": [
      "torch.Size([5, 3, 4, 1])\n"
     ]
    }
   ],
   "source": [
    "# can line up trailing dimensions to make reading easier\n",
    "x=torch.empty(5,1,4,1)\n",
    "y=torch.empty(5,3,1,1)\n",
    "print((x+y).size())"
   ]
  },
  {
   "cell_type": "code",
   "execution_count": 128,
   "metadata": {
    "colab": {
     "base_uri": "https://localhost:8080/"
    },
    "executionInfo": {
     "elapsed": 4170,
     "status": "ok",
     "timestamp": 1618173225345,
     "user": {
      "displayName": "Lionel Fillatre",
      "photoUrl": "",
      "userId": "14463393848879581998"
     },
     "user_tz": -120
    },
    "id": "LsYo7aBqaJ5F",
    "outputId": "46185aea-ca54-4484-ef62-f1faab308c21"
   },
   "outputs": [
    {
     "name": "stdout",
     "output_type": "stream",
     "text": [
      "torch.Size([3, 1, 7])\n"
     ]
    }
   ],
   "source": [
    "# but not necessary:\n",
    "x=torch.empty(1)\n",
    "y=torch.empty(3,1,7)\n",
    "print((x+y).size())"
   ]
  },
  {
   "cell_type": "markdown",
   "metadata": {
    "id": "0n_Y_hY6fxeL"
   },
   "source": [
    "### Question: The following command does not work. Why?\n",
    "\n"
   ]
  },
  {
   "cell_type": "code",
   "execution_count": 133,
   "metadata": {
    "colab": {
     "base_uri": "https://localhost:8080/",
     "height": 198
    },
    "executionInfo": {
     "elapsed": 4173,
     "status": "error",
     "timestamp": 1618173225356,
     "user": {
      "displayName": "Lionel Fillatre",
      "photoUrl": "",
      "userId": "14463393848879581998"
     },
     "user_tz": -120
    },
    "id": "Vq3SqanjaO6U",
    "outputId": "4459fc55-f69d-4b92-d936-e473a02c2cdd"
   },
   "outputs": [
    {
     "name": "stdout",
     "output_type": "stream",
     "text": [
      "torch.Size([5, 2, 4, 1])\n"
     ]
    }
   ],
   "source": [
    "x=torch.empty(5,2,4,1)\n",
    "y=torch.empty( 2,1,1)\n",
    "print((x+y).size())"
   ]
  },
  {
   "cell_type": "code",
   "execution_count": 138,
   "metadata": {
    "executionInfo": {
     "elapsed": 4155,
     "status": "aborted",
     "timestamp": 1618173225346,
     "user": {
      "displayName": "Lionel Fillatre",
      "photoUrl": "",
      "userId": "14463393848879581998"
     },
     "user_tz": -120
    },
    "id": "ha4-WRJ0g4l9"
   },
   "outputs": [
    {
     "name": "stdout",
     "output_type": "stream",
     "text": [
      "tensor([[[3., 3., 3., 3.],\n",
      "         [3., 3., 3., 3.]],\n",
      "\n",
      "        [[3., 3., 3., 3.],\n",
      "         [3., 3., 3., 3.]],\n",
      "\n",
      "        [[3., 3., 3., 3.],\n",
      "         [3., 3., 3., 3.]]])\n"
     ]
    }
   ],
   "source": [
    "x=2*torch.ones(  2,4)\n",
    "y=torch.ones(3,2,4)\n",
    "print(x+y)"
   ]
  },
  {
   "cell_type": "markdown",
   "metadata": {
    "id": "Afol8pk8VPUn"
   },
   "source": [
    "### Question: What is the diffence between \"x = xr\" and \"x = xr.clone()\"? "
   ]
  },
  {
   "cell_type": "code",
   "execution_count": 142,
   "metadata": {
    "executionInfo": {
     "elapsed": 4147,
     "status": "aborted",
     "timestamp": 1618173225346,
     "user": {
      "displayName": "Lionel Fillatre",
      "photoUrl": "",
      "userId": "14463393848879581998"
     },
     "user_tz": -120
    },
    "id": "ROIvJcOngC-E"
   },
   "outputs": [
    {
     "name": "stdout",
     "output_type": "stream",
     "text": [
      "tensor([[0., 0., 0., 0., 0.],\n",
      "        [0., 0., 0., 0., 0.],\n",
      "        [0., 0., 0., 0., 0.]])\n",
      "tensor([[-1.3966,  0.1283,  0.4658, -0.4999,  0.1929],\n",
      "        [-0.7399, -1.5680, -0.1485, -0.9893, -1.0088],\n",
      "        [ 0.2669,  0.8955, -2.6205, -0.4084, -0.5100]])\n"
     ]
    }
   ],
   "source": [
    "x = xr.clone()\n",
    "x.add_(-xr)\n",
    "print(x)\n",
    "print(xr)"
   ]
  },
  {
   "cell_type": "markdown",
   "metadata": {
    "id": "UWxZLzMrgC-J"
   },
   "source": [
    "Also be careful, changing the torch tensor modify the numpy array and vice-versa..."
   ]
  },
  {
   "cell_type": "code",
   "execution_count": 146,
   "metadata": {
    "executionInfo": {
     "elapsed": 4140,
     "status": "aborted",
     "timestamp": 1618173225347,
     "user": {
      "displayName": "Lionel Fillatre",
      "photoUrl": "",
      "userId": "14463393848879581998"
     },
     "user_tz": -120
    },
    "id": "lkcW43iugC-J"
   },
   "outputs": [
    {
     "name": "stdout",
     "output_type": "stream",
     "text": [
      "tensor([[1., 1., 1., 1.],\n",
      "        [1., 1., 1., 1.]])\n",
      "[[1. 1. 1. 1.]\n",
      " [1. 1. 1. 1.]]\n"
     ]
    }
   ],
   "source": [
    "y=torch.ones(2,4)\n",
    "print(y)\n",
    "z = y.numpy()\n",
    "print(z)"
   ]
  },
  {
   "cell_type": "code",
   "execution_count": 148,
   "metadata": {
    "executionInfo": {
     "elapsed": 4133,
     "status": "aborted",
     "timestamp": 1618173225347,
     "user": {
      "displayName": "Lionel Fillatre",
      "photoUrl": "",
      "userId": "14463393848879581998"
     },
     "user_tz": -120
    },
    "id": "qvRrtvz1gC-K"
   },
   "outputs": [
    {
     "name": "stdout",
     "output_type": "stream",
     "text": [
      "z= [[-1. -1. -1. -1.]\n",
      " [-1. -1. -1. -1.]]\n",
      "y= tensor([[-1., -1., -1., -1.],\n",
      "        [-1., -1., -1., -1.]]) \n",
      "\n",
      "z= [[-5. -5. -5. -5.]\n",
      " [-5. -5. -5. -5.]]\n",
      "y= tensor([[-5., -5., -5., -5.],\n",
      "        [-5., -5., -5., -5.]])\n"
     ]
    }
   ],
   "source": [
    "np.add(z, 1, out=z)\n",
    "print(\"z=\", z)\n",
    "print(\"y=\", y,\"\\n\")\n",
    "torch.add(y, -4, out=y)\n",
    "print(\"z=\",z)\n",
    "print(\"y=\",y)"
   ]
  },
  {
   "cell_type": "markdown",
   "metadata": {
    "id": "AmGizC3pMbm8"
   },
   "source": [
    "## Computational graphs"
   ]
  },
  {
   "cell_type": "code",
   "execution_count": 149,
   "metadata": {
    "executionInfo": {
     "elapsed": 4132,
     "status": "aborted",
     "timestamp": 1618173225348,
     "user": {
      "displayName": "Lionel Fillatre",
      "photoUrl": "",
      "userId": "14463393848879581998"
     },
     "user_tz": -120
    },
    "id": "O5Kw7MQpMxWB"
   },
   "outputs": [],
   "source": [
    "import matplotlib.pyplot as plt\n",
    "%matplotlib inline\n",
    "import torch"
   ]
  },
  {
   "cell_type": "code",
   "execution_count": 150,
   "metadata": {
    "executionInfo": {
     "elapsed": 4126,
     "status": "aborted",
     "timestamp": 1618173225349,
     "user": {
      "displayName": "Lionel Fillatre",
      "photoUrl": "",
      "userId": "14463393848879581998"
     },
     "user_tz": -120
    },
    "id": "2Gza10WeM10G"
   },
   "outputs": [
    {
     "name": "stdout",
     "output_type": "stream",
     "text": [
      "Requirement already satisfied: torchviz in c:\\users\\daisu\\anaconda3\\lib\\site-packages (0.0.2)\n",
      "Requirement already satisfied: graphviz in c:\\users\\daisu\\anaconda3\\lib\\site-packages (from torchviz) (0.16)\n",
      "Requirement already satisfied: torch in c:\\users\\daisu\\anaconda3\\lib\\site-packages (from torchviz) (1.7.1)\n",
      "Requirement already satisfied: typing_extensions in c:\\users\\daisu\\anaconda3\\lib\\site-packages (from torch->torchviz) (3.7.4.3)\n",
      "Requirement already satisfied: numpy in c:\\users\\daisu\\anaconda3\\lib\\site-packages (from torch->torchviz) (1.20.2)\n"
     ]
    }
   ],
   "source": [
    "!pip install torchviz"
   ]
  },
  {
   "cell_type": "code",
   "execution_count": 151,
   "metadata": {
    "executionInfo": {
     "elapsed": 4124,
     "status": "aborted",
     "timestamp": 1618173225349,
     "user": {
      "displayName": "Lionel Fillatre",
      "photoUrl": "",
      "userId": "14463393848879581998"
     },
     "user_tz": -120
    },
    "id": "1nEbmC7TM1mw"
   },
   "outputs": [],
   "source": [
    "import torchviz"
   ]
  },
  {
   "cell_type": "code",
   "execution_count": 152,
   "metadata": {
    "executionInfo": {
     "elapsed": 4118,
     "status": "aborted",
     "timestamp": 1618173225350,
     "user": {
      "displayName": "Lionel Fillatre",
      "photoUrl": "",
      "userId": "14463393848879581998"
     },
     "user_tz": -120
    },
    "id": "5Z2dMtEOMuWb"
   },
   "outputs": [
    {
     "name": "stdout",
     "output_type": "stream",
     "text": [
      "tensor([[1., 1.],\n",
      "        [1., 1.]], requires_grad=True)\n",
      "tensor([[0.5886]], requires_grad=True)\n",
      "tensor([[2.5886, 2.5886],\n",
      "        [2.5886, 2.5886]], grad_fn=<AddBackward0>)\n"
     ]
    },
    {
     "data": {
      "image/svg+xml": [
       "<?xml version=\"1.0\" encoding=\"UTF-8\" standalone=\"no\"?>\r\n",
       "<!DOCTYPE svg PUBLIC \"-//W3C//DTD SVG 1.1//EN\"\r\n",
       " \"http://www.w3.org/Graphics/SVG/1.1/DTD/svg11.dtd\">\r\n",
       "<!-- Generated by graphviz version 2.38.0 (20140413.2041)\r\n",
       " -->\r\n",
       "<!-- Title: %3 Pages: 1 -->\r\n",
       "<svg width=\"228pt\" height=\"271pt\"\r\n",
       " viewBox=\"0.00 0.00 228.00 271.00\" xmlns=\"http://www.w3.org/2000/svg\" xmlns:xlink=\"http://www.w3.org/1999/xlink\">\r\n",
       "<g id=\"graph0\" class=\"graph\" transform=\"scale(1 1) rotate(0) translate(4 267)\">\r\n",
       "<title>%3</title>\r\n",
       "<polygon fill=\"white\" stroke=\"none\" points=\"-4,4 -4,-267 224,-267 224,4 -4,4\"/>\r\n",
       "<!-- 2998282520512 -->\r\n",
       "<g id=\"node1\" class=\"node\"><title>2998282520512</title>\r\n",
       "<polygon fill=\"#caff70\" stroke=\"black\" points=\"139,-31 80,-31 80,-0 139,-0 139,-31\"/>\r\n",
       "<text text-anchor=\"middle\" x=\"109.5\" y=\"-7\" font-family=\"monospace\" font-size=\"10.00\"> (2, 2)</text>\r\n",
       "</g>\r\n",
       "<!-- 2998280423792 -->\r\n",
       "<g id=\"node2\" class=\"node\"><title>2998280423792</title>\r\n",
       "<polygon fill=\"lightgrey\" stroke=\"black\" points=\"154,-86 65,-86 65,-67 154,-67 154,-86\"/>\r\n",
       "<text text-anchor=\"middle\" x=\"109.5\" y=\"-74\" font-family=\"monospace\" font-size=\"10.00\">AddBackward0</text>\r\n",
       "</g>\r\n",
       "<!-- 2998280423792&#45;&gt;2998282520512 -->\r\n",
       "<g id=\"edge6\" class=\"edge\"><title>2998280423792&#45;&gt;2998282520512</title>\r\n",
       "<path fill=\"none\" stroke=\"black\" d=\"M109.5,-66.7943C109.5,-60.0669 109.5,-50.404 109.5,-41.3425\"/>\r\n",
       "<polygon fill=\"black\" stroke=\"black\" points=\"113,-41.1932 109.5,-31.1933 106,-41.1933 113,-41.1932\"/>\r\n",
       "</g>\r\n",
       "<!-- 2998289761664 -->\r\n",
       "<g id=\"node3\" class=\"node\"><title>2998289761664</title>\r\n",
       "<polygon fill=\"lightgrey\" stroke=\"black\" points=\"154,-141 65,-141 65,-122 154,-122 154,-141\"/>\r\n",
       "<text text-anchor=\"middle\" x=\"109.5\" y=\"-129\" font-family=\"monospace\" font-size=\"10.00\">MulBackward0</text>\r\n",
       "</g>\r\n",
       "<!-- 2998289761664&#45;&gt;2998280423792 -->\r\n",
       "<g id=\"edge1\" class=\"edge\"><title>2998289761664&#45;&gt;2998280423792</title>\r\n",
       "<path fill=\"none\" stroke=\"black\" d=\"M109.5,-121.748C109.5,-114.802 109.5,-104.845 109.5,-96.1349\"/>\r\n",
       "<polygon fill=\"black\" stroke=\"black\" points=\"113,-96.089 109.5,-86.089 106,-96.0891 113,-96.089\"/>\r\n",
       "</g>\r\n",
       "<!-- 2998285970112 -->\r\n",
       "<g id=\"node4\" class=\"node\"><title>2998285970112</title>\r\n",
       "<polygon fill=\"lightgrey\" stroke=\"black\" points=\"101,-196 0,-196 0,-177 101,-177 101,-196\"/>\r\n",
       "<text text-anchor=\"middle\" x=\"50.5\" y=\"-184\" font-family=\"monospace\" font-size=\"10.00\">AccumulateGrad</text>\r\n",
       "</g>\r\n",
       "<!-- 2998285970112&#45;&gt;2998289761664 -->\r\n",
       "<g id=\"edge2\" class=\"edge\"><title>2998285970112&#45;&gt;2998289761664</title>\r\n",
       "<path fill=\"none\" stroke=\"black\" d=\"M59.9794,-176.985C68.7011,-169.15 81.8435,-157.344 92.3978,-147.863\"/>\r\n",
       "<polygon fill=\"black\" stroke=\"black\" points=\"94.7479,-150.457 99.8481,-141.17 90.07,-145.249 94.7479,-150.457\"/>\r\n",
       "</g>\r\n",
       "<!-- 2998276827968 -->\r\n",
       "<g id=\"node5\" class=\"node\"><title>2998276827968</title>\r\n",
       "<polygon fill=\"lightblue\" stroke=\"black\" points=\"80,-263 21,-263 21,-232 80,-232 80,-263\"/>\r\n",
       "<text text-anchor=\"middle\" x=\"50.5\" y=\"-239\" font-family=\"monospace\" font-size=\"10.00\"> (1, 1)</text>\r\n",
       "</g>\r\n",
       "<!-- 2998276827968&#45;&gt;2998285970112 -->\r\n",
       "<g id=\"edge3\" class=\"edge\"><title>2998276827968&#45;&gt;2998285970112</title>\r\n",
       "<path fill=\"none\" stroke=\"black\" d=\"M50.5,-231.916C50.5,-224.221 50.5,-214.688 50.5,-206.43\"/>\r\n",
       "<polygon fill=\"black\" stroke=\"black\" points=\"54.0001,-206.249 50.5,-196.249 47.0001,-206.249 54.0001,-206.249\"/>\r\n",
       "</g>\r\n",
       "<!-- 2998285970784 -->\r\n",
       "<g id=\"node6\" class=\"node\"><title>2998285970784</title>\r\n",
       "<polygon fill=\"lightgrey\" stroke=\"black\" points=\"220,-196 119,-196 119,-177 220,-177 220,-196\"/>\r\n",
       "<text text-anchor=\"middle\" x=\"169.5\" y=\"-184\" font-family=\"monospace\" font-size=\"10.00\">AccumulateGrad</text>\r\n",
       "</g>\r\n",
       "<!-- 2998285970784&#45;&gt;2998289761664 -->\r\n",
       "<g id=\"edge4\" class=\"edge\"><title>2998285970784&#45;&gt;2998289761664</title>\r\n",
       "<path fill=\"none\" stroke=\"black\" d=\"M159.86,-176.985C150.99,-169.15 137.625,-157.344 126.892,-147.863\"/>\r\n",
       "<polygon fill=\"black\" stroke=\"black\" points=\"129.127,-145.168 119.315,-141.17 124.493,-150.414 129.127,-145.168\"/>\r\n",
       "</g>\r\n",
       "<!-- 2998276827712 -->\r\n",
       "<g id=\"node7\" class=\"node\"><title>2998276827712</title>\r\n",
       "<polygon fill=\"lightblue\" stroke=\"black\" points=\"199,-263 140,-263 140,-232 199,-232 199,-263\"/>\r\n",
       "<text text-anchor=\"middle\" x=\"169.5\" y=\"-239\" font-family=\"monospace\" font-size=\"10.00\"> (2, 2)</text>\r\n",
       "</g>\r\n",
       "<!-- 2998276827712&#45;&gt;2998285970784 -->\r\n",
       "<g id=\"edge5\" class=\"edge\"><title>2998276827712&#45;&gt;2998285970784</title>\r\n",
       "<path fill=\"none\" stroke=\"black\" d=\"M169.5,-231.916C169.5,-224.221 169.5,-214.688 169.5,-206.43\"/>\r\n",
       "<polygon fill=\"black\" stroke=\"black\" points=\"173,-206.249 169.5,-196.249 166,-206.249 173,-206.249\"/>\r\n",
       "</g>\r\n",
       "</g>\r\n",
       "</svg>\r\n"
      ],
      "text/plain": [
       "<graphviz.dot.Digraph at 0x2ba17bf63a0>"
      ]
     },
     "execution_count": 152,
     "metadata": {},
     "output_type": "execute_result"
    }
   ],
   "source": [
    "x = torch.ones(2, 2, requires_grad=True)\n",
    "w = torch.rand(1, 1, requires_grad=True)\n",
    "print(x)\n",
    "print(w)\n",
    "y = w * x + 2\n",
    "print(y)\n",
    "torchviz.make_dot(y)"
   ]
  },
  {
   "cell_type": "markdown",
   "metadata": {
    "id": "uSvS2bdKidcc"
   },
   "source": [
    "\n",
    "## Playing with pytorch: linear regression"
   ]
  },
  {
   "cell_type": "markdown",
   "metadata": {
    "id": "UzjNRT-OSCzL"
   },
   "source": [
    "Code for plotting the surface"
   ]
  },
  {
   "cell_type": "code",
   "execution_count": 288,
   "metadata": {
    "executionInfo": {
     "elapsed": 4116,
     "status": "aborted",
     "timestamp": 1618173225350,
     "user": {
      "displayName": "Lionel Fillatre",
      "photoUrl": "",
      "userId": "14463393848879581998"
     },
     "user_tz": -120
    },
    "id": "KhuyxIm1Rd0W"
   },
   "outputs": [],
   "source": [
    "import matplotlib.pyplot as plt\n",
    "import numpy as np\n",
    "from mpl_toolkits.mplot3d import Axes3D\n",
    "\n",
    "def plot_figs(fig_num, elev, azim, x, y, weights, bias):\n",
    "    fig = plt.figure(fig_num, figsize=(4, 3))\n",
    "    plt.clf()\n",
    "    ax = Axes3D(fig, elev=elev, azim=azim)\n",
    "    ax.scatter(x[:, 0], x[:, 1], y)\n",
    "    ax.plot_surface(np.array([[0, 0], [1, 1]]),\n",
    "                    np.array([[0, 1], [0, 1]]),\n",
    "                    (np.dot(np.array([[0, 0, 1, 1],\n",
    "                                          [0, 1, 0, 1]]).T, weights) + bias).reshape((2, 2)),\n",
    "                    alpha=.5)\n",
    "    ax.set_xlabel('x_1')\n",
    "    ax.set_ylabel('x_2')\n",
    "    ax.set_zlabel('y')\n",
    "    \n",
    "def plot_views(x, y, w, b):\n",
    "    # Generate the different figures from different views\n",
    "    elev = 43.5\n",
    "    azim = -110\n",
    "    plot_figs(1, elev, azim, x, y, w, b[0])\n",
    "\n",
    "    plt.show()"
   ]
  },
  {
   "cell_type": "markdown",
   "metadata": {
    "id": "Bkt2h0X6SFmR"
   },
   "source": [
    "Code for generating the 2D points"
   ]
  },
  {
   "cell_type": "code",
   "execution_count": 289,
   "metadata": {
    "executionInfo": {
     "elapsed": 4108,
     "status": "aborted",
     "timestamp": 1618173225351,
     "user": {
      "displayName": "Lionel Fillatre",
      "photoUrl": "",
      "userId": "14463393848879581998"
     },
     "user_tz": -120
    },
    "id": "14tvkKCyMwYD"
   },
   "outputs": [
    {
     "name": "stdout",
     "output_type": "stream",
     "text": [
      "torch.Size([30, 2])\n",
      "torch.Size([2, 1])\n",
      "torch.Size([1])\n",
      "torch.Size([30, 1])\n"
     ]
    }
   ],
   "source": [
    "#Data generation (2D points)\n",
    "w_source = torch.tensor([2., -3.], dtype=torch.float).view(-1,1)\n",
    "b_source  = torch.tensor([1.], dtype=torch.float)\n",
    "\n",
    "x = torch.empty(30, 2).uniform_(0, 1) # input of the regression model\n",
    "\n",
    "print(x.shape)\n",
    "print(w_source.shape)\n",
    "print(b_source.shape)\n",
    "\n",
    "y = torch.matmul(x,w_source)+b_source # output of the regression model\n",
    "print(y.shape)"
   ]
  },
  {
   "cell_type": "markdown",
   "metadata": {
    "id": "KW6YMS6tSMVr"
   },
   "source": [
    "Plot the dataset"
   ]
  },
  {
   "cell_type": "code",
   "execution_count": 290,
   "metadata": {
    "executionInfo": {
     "elapsed": 4102,
     "status": "aborted",
     "timestamp": 1618173225352,
     "user": {
      "displayName": "Lionel Fillatre",
      "photoUrl": "",
      "userId": "14463393848879581998"
     },
     "user_tz": -120
    },
    "id": "rMRbqdZaRjCz"
   },
   "outputs": [
    {
     "data": {
      "image/png": "[encoded data removed]",
      "text/plain": [
       "<Figure size 288x216 with 1 Axes>"
      ]
     },
     "metadata": {
      "needs_background": "light"
     },
     "output_type": "display_data"
    }
   ],
   "source": [
    "plot_views(x.numpy(), y.numpy(), w_source.numpy(), b_source.numpy())"
   ]
  },
  {
   "cell_type": "code",
   "execution_count": 308,
   "metadata": {
    "executionInfo": {
     "elapsed": 4094,
     "status": "aborted",
     "timestamp": 1618173225353,
     "user": {
      "displayName": "Lionel Fillatre",
      "photoUrl": "",
      "userId": "14463393848879581998"
     },
     "user_tz": -120
    },
    "id": "bsGaEFPRiduc"
   },
   "outputs": [
    {
     "name": "stdout",
     "output_type": "stream",
     "text": [
      "Initial values of the parameters:\n",
      "tensor([[0.1920],\n",
      "        [0.9115]])\n",
      "tensor([[0.4495]])\n"
     ]
    }
   ],
   "source": [
    "# randomly initialize learnable weights and bias\n",
    "w_t_init = torch.empty(2, 1).uniform_(-1, 1) \n",
    "b_t_init = torch.empty(1, 1).uniform_(-1, 1)\n",
    "\n",
    "print(\"Initial values of the parameters:\")\n",
    "print(w_t_init) \n",
    "print(b_t_init)"
   ]
  },
  {
   "cell_type": "markdown",
   "metadata": {
    "id": "y2GD_KIBUTgS"
   },
   "source": [
    "### Question: calculate the gradient of the loss and code it."
   ]
  },
  {
   "cell_type": "code",
   "execution_count": 370,
   "metadata": {
    "executionInfo": {
     "elapsed": 4093,
     "status": "aborted",
     "timestamp": 1618173225354,
     "user": {
      "displayName": "Lionel Fillatre",
      "photoUrl": "",
      "userId": "14463393848879581998"
     },
     "user_tz": -120
    },
    "id": "xSwsgVkpPE2i"
   },
   "outputs": [],
   "source": [
    "# our model forward pass\n",
    "def forward_t(x):\n",
    "    return x.mm(w_t)+b_t\n",
    "\n",
    "# Loss function\n",
    "def loss_t(x, y):\n",
    "    y_pred = forward_t(x)\n",
    "    return (y_pred - y).pow(2).sum()\n",
    "\n",
    "# compute gradient\n",
    "def gradient_t(x, y):  # d_loss/d_w, d_loss/d_c\n",
    "    # COMPLETE THE CELL FROM HERE (remove \"pass\")\n",
    "    # ...\n",
    "    grad_w = 2*(torch.t(x).mm((x.mm(w_t)+b_t - y)))\n",
    "    grad_b = (2*(x.mm(w_t)+b_t - y)).sum()\n",
    "    \n",
    "    \n",
    "    return grad_w, grad_b#2*torch.mm(torch.t(x),x.mm(w_t)+b_t - y), 2 * (x.mm(w_t)+b_t - y).sum()"
   ]
  },
  {
   "cell_type": "markdown",
   "metadata": {
    "id": "7x8wNpUISp88"
   },
   "source": [
    "Main loop for computing the estimate (gradient descent)"
   ]
  },
  {
   "cell_type": "markdown",
   "metadata": {
    "id": "pAAxsXCqUSuR"
   },
   "source": [
    "### Question: code the gradient descent algorithm within the main loop."
   ]
  },
  {
   "cell_type": "code",
   "execution_count": 371,
   "metadata": {
    "collapsed": true,
    "executionInfo": {
     "elapsed": 4086,
     "status": "aborted",
     "timestamp": 1618173225354,
     "user": {
      "displayName": "Lionel Fillatre",
      "photoUrl": "",
      "userId": "14463393848879581998"
     },
     "user_tz": -120
    },
    "id": "zmh-_IHaidxp",
    "jupyter": {
     "outputs_hidden": true
    }
   },
   "outputs": [
    {
     "name": "stdout",
     "output_type": "stream",
     "text": [
      "progress: epoch: 0 loss tensor(41.9359)\n",
      "progress: epoch: 1 loss tensor(26.8406)\n",
      "progress: epoch: 2 loss tensor(24.9733)\n",
      "progress: epoch: 3 loss tensor(23.3975)\n",
      "progress: epoch: 4 loss tensor(21.9268)\n",
      "progress: epoch: 5 loss tensor(20.5518)\n",
      "progress: epoch: 6 loss tensor(19.2661)\n",
      "progress: epoch: 7 loss tensor(18.0638)\n",
      "progress: epoch: 8 loss tensor(16.9394)\n",
      "progress: epoch: 9 loss tensor(15.8877)\n",
      "progress: epoch: 10 loss tensor(14.9038)\n",
      "progress: epoch: 11 loss tensor(13.9833)\n",
      "progress: epoch: 12 loss tensor(13.1221)\n",
      "progress: epoch: 13 loss tensor(12.3161)\n",
      "progress: epoch: 14 loss tensor(11.5617)\n",
      "progress: epoch: 15 loss tensor(10.8556)\n",
      "progress: epoch: 16 loss tensor(10.1945)\n",
      "progress: epoch: 17 loss tensor(9.5755)\n",
      "progress: epoch: 18 loss tensor(8.9959)\n",
      "progress: epoch: 19 loss tensor(8.4530)\n",
      "progress: epoch: 20 loss tensor(7.9445)\n",
      "progress: epoch: 21 loss tensor(7.4680)\n",
      "progress: epoch: 22 loss tensor(7.0216)\n",
      "progress: epoch: 23 loss tensor(6.6033)\n",
      "progress: epoch: 24 loss tensor(6.2111)\n",
      "progress: epoch: 25 loss tensor(5.8435)\n",
      "progress: epoch: 26 loss tensor(5.4989)\n",
      "progress: epoch: 27 loss tensor(5.1756)\n",
      "progress: epoch: 28 loss tensor(4.8725)\n",
      "progress: epoch: 29 loss tensor(4.5881)\n",
      "progress: epoch: 30 loss tensor(4.3213)\n",
      "progress: epoch: 31 loss tensor(4.0709)\n",
      "progress: epoch: 32 loss tensor(3.8358)\n",
      "progress: epoch: 33 loss tensor(3.6152)\n",
      "progress: epoch: 34 loss tensor(3.4080)\n",
      "progress: epoch: 35 loss tensor(3.2135)\n",
      "progress: epoch: 36 loss tensor(3.0308)\n",
      "progress: epoch: 37 loss tensor(2.8591)\n",
      "progress: epoch: 38 loss tensor(2.6977)\n",
      "progress: epoch: 39 loss tensor(2.5461)\n",
      "progress: epoch: 40 loss tensor(2.4036)\n",
      "progress: epoch: 41 loss tensor(2.2696)\n",
      "progress: epoch: 42 loss tensor(2.1436)\n",
      "progress: epoch: 43 loss tensor(2.0250)\n",
      "progress: epoch: 44 loss tensor(1.9135)\n",
      "progress: epoch: 45 loss tensor(1.8085)\n",
      "progress: epoch: 46 loss tensor(1.7097)\n",
      "progress: epoch: 47 loss tensor(1.6167)\n",
      "progress: epoch: 48 loss tensor(1.5291)\n",
      "progress: epoch: 49 loss tensor(1.4466)\n",
      "progress: epoch: 50 loss tensor(1.3689)\n",
      "progress: epoch: 51 loss tensor(1.2957)\n",
      "progress: epoch: 52 loss tensor(1.2267)\n",
      "progress: epoch: 53 loss tensor(1.1616)\n",
      "progress: epoch: 54 loss tensor(1.1003)\n",
      "progress: epoch: 55 loss tensor(1.0424)\n",
      "progress: epoch: 56 loss tensor(0.9878)\n",
      "progress: epoch: 57 loss tensor(0.9363)\n",
      "progress: epoch: 58 loss tensor(0.8877)\n",
      "progress: epoch: 59 loss tensor(0.8418)\n",
      "progress: epoch: 60 loss tensor(0.7985)\n",
      "progress: epoch: 61 loss tensor(0.7576)\n",
      "progress: epoch: 62 loss tensor(0.7189)\n",
      "progress: epoch: 63 loss tensor(0.6824)\n",
      "progress: epoch: 64 loss tensor(0.6478)\n",
      "progress: epoch: 65 loss tensor(0.6152)\n",
      "progress: epoch: 66 loss tensor(0.5843)\n",
      "progress: epoch: 67 loss tensor(0.5551)\n",
      "progress: epoch: 68 loss tensor(0.5275)\n",
      "progress: epoch: 69 loss tensor(0.5013)\n",
      "progress: epoch: 70 loss tensor(0.4766)\n",
      "progress: epoch: 71 loss tensor(0.4532)\n",
      "progress: epoch: 72 loss tensor(0.4310)\n",
      "progress: epoch: 73 loss tensor(0.4100)\n",
      "progress: epoch: 74 loss tensor(0.3901)\n",
      "progress: epoch: 75 loss tensor(0.3712)\n",
      "progress: epoch: 76 loss tensor(0.3533)\n",
      "progress: epoch: 77 loss tensor(0.3364)\n",
      "progress: epoch: 78 loss tensor(0.3203)\n",
      "progress: epoch: 79 loss tensor(0.3050)\n",
      "progress: epoch: 80 loss tensor(0.2906)\n",
      "progress: epoch: 81 loss tensor(0.2768)\n",
      "progress: epoch: 82 loss tensor(0.2638)\n",
      "progress: epoch: 83 loss tensor(0.2514)\n",
      "progress: epoch: 84 loss tensor(0.2397)\n",
      "progress: epoch: 85 loss tensor(0.2285)\n",
      "progress: epoch: 86 loss tensor(0.2179)\n",
      "progress: epoch: 87 loss tensor(0.2078)\n",
      "progress: epoch: 88 loss tensor(0.1982)\n",
      "progress: epoch: 89 loss tensor(0.1891)\n",
      "progress: epoch: 90 loss tensor(0.1805)\n",
      "progress: epoch: 91 loss tensor(0.1722)\n",
      "progress: epoch: 92 loss tensor(0.1644)\n",
      "progress: epoch: 93 loss tensor(0.1570)\n",
      "progress: epoch: 94 loss tensor(0.1499)\n",
      "progress: epoch: 95 loss tensor(0.1431)\n",
      "progress: epoch: 96 loss tensor(0.1367)\n",
      "progress: epoch: 97 loss tensor(0.1306)\n",
      "progress: epoch: 98 loss tensor(0.1247)\n",
      "progress: epoch: 99 loss tensor(0.1192)\n"
     ]
    }
   ],
   "source": [
    "learning_rate = 1e-2\n",
    "\n",
    "w_t = w_t_init.clone()\n",
    "b_t = b_t_init.clone()\n",
    "\n",
    "for epoch in range(100):\n",
    "    l = loss_t(x,y)\n",
    "    grad_w, grad_b = gradient_t(x,y)\n",
    "    # COMPLETE THE CELL FROM HERE\n",
    "    w_t -=grad_w*learning_rate\n",
    "    b_t -=grad_b*learning_rate\n",
    "    print(\"progress:\", \"epoch:\", epoch, \"loss\",l)"
   ]
  },
  {
   "cell_type": "code",
   "execution_count": 372,
   "metadata": {
    "executionInfo": {
     "elapsed": 4081,
     "status": "aborted",
     "timestamp": 1618173225356,
     "user": {
      "displayName": "Lionel Fillatre",
      "photoUrl": "",
      "userId": "14463393848879581998"
     },
     "user_tz": -120
    },
    "id": "87XspCGIid0t"
   },
   "outputs": [
    {
     "name": "stdout",
     "output_type": "stream",
     "text": [
      "Estimation of the parameters:\n",
      "tensor([[ 2.0457],\n",
      "        [-2.7235]])\n",
      "tensor([[0.8337]])\n"
     ]
    }
   ],
   "source": [
    "# After training\n",
    "print(\"Estimation of the parameters:\")\n",
    "print(w_t)\n",
    "print(b_t)"
   ]
  },
  {
   "cell_type": "markdown",
   "metadata": {
    "id": "sceg1L15TqSy"
   },
   "source": [
    "### Question: Test a higher learning rate (e.g., learning_rate = 1). Explain what you observe."
   ]
  },
  {
   "cell_type": "markdown",
   "metadata": {
    "id": "gqWJFYZSTX_m"
   },
   "source": [
    "### Question: How to improve the quality of the estimate?"
   ]
  }
 ],
 "metadata": {
  "colab": {
   "collapsed_sections": [],
   "name": "DSTI_DL_Lab1_April2021.ipynb",
   "provenance": [],
   "toc_visible": true
  },
  "kernelspec": {
   "display_name": "Python 3",
   "language": "python",
   "name": "python3"
  },
  "language_info": {
   "codemirror_mode": {
    "name": "ipython",
    "version": 3
   },
   "file_extension": ".py",
   "mimetype": "text/x-python",
   "name": "python",
   "nbconvert_exporter": "python",
   "pygments_lexer": "ipython3",
   "version": "3.8.3"
  }
 },
 "nbformat": 4,
 "nbformat_minor": 4
}
