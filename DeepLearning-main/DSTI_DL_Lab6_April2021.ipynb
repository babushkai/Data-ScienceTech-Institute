{
 "cells": [
  {
   "cell_type": "markdown",
   "metadata": {
    "id": "QYZjzA-LQ3yq"
   },
   "source": [
    "# MNIST handwritten digits classification with regularized MLPs\n",
    "\n",
    "In this notebook, we'll train a multi-layer perceptron model to classify MNIST digits using **PyTorch**.\n",
    "\n",
    "The neural network will be regularized with\n",
    "\n",
    "\n",
    "1.   Dropout\n",
    "2.   Batchnormalization\n",
    "\n",
    "\n",
    "\n"
   ]
  },
  {
   "cell_type": "markdown",
   "metadata": {
    "id": "uEtfy2Y5KrXS"
   },
   "source": [
    "First, the needed imports. "
   ]
  },
  {
   "cell_type": "code",
   "execution_count": 3,
   "metadata": {
    "colab": {
     "base_uri": "https://localhost:8080/"
    },
    "executionInfo": {
     "elapsed": 4570,
     "status": "ok",
     "timestamp": 1618508233122,
     "user": {
      "displayName": "Lionel Fillatre",
      "photoUrl": "",
      "userId": "14463393848879581998"
     },
     "user_tz": -120
    },
    "id": "qrZvRCTBQ3yt",
    "outputId": "23b806cc-9789-4ed5-cad3-4e40c6d9e095"
   },
   "outputs": [
    {
     "name": "stdout",
     "output_type": "stream",
     "text": [
      "Using PyTorch version: 1.7.1  Device: cuda\n"
     ]
    }
   ],
   "source": [
    "%matplotlib inline\n",
    "\n",
    "import torch\n",
    "import torch.nn as nn\n",
    "import torch.nn.functional as F\n",
    "from torchvision import datasets, transforms\n",
    "#import seaborn as sns\n",
    "#sns.set()\n",
    "\n",
    "import numpy as np\n",
    "import matplotlib.pyplot as plt\n",
    "\n",
    "if torch.cuda.is_available():\n",
    "    device = torch.device('cuda')\n",
    "else:\n",
    "    device = torch.device('cpu')\n",
    "    \n",
    "print('Using PyTorch version:', torch.__version__, ' Device:', device)"
   ]
  },
  {
   "cell_type": "markdown",
   "metadata": {
    "id": "Y0chwSkbQ3yx"
   },
   "source": [
    "## Data\n",
    "\n",
    "Next we'll load the MNIST data.  First time we may have to download the data, which can take a while.\n",
    "\n",
    "Note that we are here using the MNIST test data for *validation*, instead of for testing the final model."
   ]
  },
  {
   "cell_type": "code",
   "execution_count": 12,
   "metadata": {
    "colab": {
     "base_uri": "https://localhost:8080/",
     "height": 743,
     "referenced_widgets": [
      "20f59ce1c37a4b759079f42c0f2b352b",
      "219bc61ec02e459fb2c9a0877170eee9",
      "f81df99be24c49da979f47e601924f91",
      "54273cda82b547b5b2fbae9ef03eb88c",
      "583760fb36454f1eac591c8b0c93f567",
      "36914b219a0d4ec4bdb8cdf82ebe2adf",
      "cebe2bfcc4e74c51b8062791720573b8",
      "59c1f17c29264d028232f407d9f99f00",
      "28118fae2ef2436081f816b1769acadd",
      "7c53b5e89cde467ebec95d259d1bcfb5",
      "c775ec1c1a5e43d5b40f2c122142ecba",
      "d20f6c7155574576a8c1340410f781fa",
      "514e8c786ce7437793866641a1adff3b",
      "6df13e943ebf4a89a841b6215416e033",
      "15c489ba157d464fb085fec43eb573bf",
      "5d5f201febcd4760b0e66cca9cc0d340",
      "426c85322eeb45a78f4206064511c13d",
      "7c9f7e358ba642b6aae52febb593b0e8",
      "55327b91abe54f1d8a6b30fdd50b7792",
      "f67424fff8454928ba6ec610455a9261",
      "3e60d35185104ddb98b7081c8e9cf8aa",
      "26f729f8d9fd478dbf8402225cf66927",
      "2e835485bae540e88519f287c084fd11",
      "18ee72c2f26c496abc5610c04a24bd3a",
      "9354f81393bd45bfb2c0bc3763c2d85b",
      "9ac000c4e1834e89a15cb6e584042e15",
      "2d5eb08b6e65487c831c3971c7d8347c",
      "2166936e75c84957b7b43f43fbea72af",
      "96fc2033f84a4ed8b197682287e891ae",
      "0890f85e461e447b8e2667a88a7d7b16",
      "051965596f944ae58097b74bbef5d617",
      "f1d46bfa08184459b19d1ef1071b6c5a"
     ]
    },
    "executionInfo": {
     "elapsed": 10587,
     "status": "ok",
     "timestamp": 1618508239148,
     "user": {
      "displayName": "Lionel Fillatre",
      "photoUrl": "",
      "userId": "14463393848879581998"
     },
     "user_tz": -120
    },
    "id": "CyqByXDlQ3yy",
    "outputId": "42c3a39e-0158-4a4b-b1a5-348d65f054ca"
   },
   "outputs": [],
   "source": [
    "batch_size = 32\n",
    "\n",
    "train_dataset = datasets.MNIST('./data', \n",
    "                               train=True, \n",
    "                               download=True, \n",
    "                               transform=transforms.ToTensor())\n",
    "\n",
    "validation_dataset = datasets.MNIST('./data', \n",
    "                                    train=False, \n",
    "                                    transform=transforms.ToTensor())\n",
    "\n",
    "train_loader = torch.utils.data.DataLoader(dataset=train_dataset, \n",
    "                                           batch_size=batch_size, \n",
    "                                           shuffle=True)\n",
    "\n",
    "validation_loader = torch.utils.data.DataLoader(dataset=validation_dataset, \n",
    "                                                batch_size=batch_size, \n",
    "                                                shuffle=False)"
   ]
  },
  {
   "cell_type": "markdown",
   "metadata": {
    "id": "R5RUIpKiQ3y1"
   },
   "source": [
    "The train and test data are provided via data loaders that provide iterators over the datasets. The first element of training data (`X_train`) is a 4th-order tensor of size (`batch_size`, 1, 28, 28), i.e. it consists of a batch of images of size 1x28x28 pixels. `y_train` is a vector containing the correct classes (\"0\", \"1\", ..., \"9\") for each training digit."
   ]
  },
  {
   "cell_type": "code",
   "execution_count": 13,
   "metadata": {
    "colab": {
     "base_uri": "https://localhost:8080/"
    },
    "executionInfo": {
     "elapsed": 11128,
     "status": "ok",
     "timestamp": 1618508239695,
     "user": {
      "displayName": "Lionel Fillatre",
      "photoUrl": "",
      "userId": "14463393848879581998"
     },
     "user_tz": -120
    },
    "id": "rpWAQsC5Q3y2",
    "outputId": "bbe4bb85-9ae5-47d1-9733-764f654902df"
   },
   "outputs": [
    {
     "name": "stdout",
     "output_type": "stream",
     "text": [
      "X_train: torch.Size([32, 1, 28, 28]) type: torch.FloatTensor\n",
      "y_train: torch.Size([32]) type: torch.LongTensor\n"
     ]
    }
   ],
   "source": [
    "for (X_train, y_train) in train_loader:\n",
    "    print('X_train:', X_train.size(), 'type:', X_train.type())\n",
    "    print('y_train:', y_train.size(), 'type:', y_train.type())\n",
    "    break"
   ]
  },
  {
   "cell_type": "markdown",
   "metadata": {
    "id": "l-HI9wwyQ3y4"
   },
   "source": [
    "Here are the first 10 training digits:"
   ]
  },
  {
   "cell_type": "code",
   "execution_count": 14,
   "metadata": {
    "colab": {
     "base_uri": "https://localhost:8080/",
     "height": 94
    },
    "executionInfo": {
     "elapsed": 11607,
     "status": "ok",
     "timestamp": 1618508240180,
     "user": {
      "displayName": "Lionel Fillatre",
      "photoUrl": "",
      "userId": "14463393848879581998"
     },
     "user_tz": -120
    },
    "id": "bEwHbv16Q3y6",
    "outputId": "90a2077f-101e-4ca4-ab73-25483979d047"
   },
   "outputs": [
    {
     "data": {
      "image/png": "[encoded data removed]",
      "text/plain": [
       "<Figure size 720x72 with 10 Axes>"
      ]
     },
     "metadata": {
      "needs_background": "light"
     },
     "output_type": "display_data"
    }
   ],
   "source": [
    "pltsize=1\n",
    "plt.figure(figsize=(10*pltsize, pltsize))\n",
    "\n",
    "for i in range(10):\n",
    "    plt.subplot(1,10,i+1)\n",
    "    plt.axis('off')\n",
    "    plt.imshow(X_train[i,:,:,:].numpy().reshape(28,28), cmap=\"gray\")\n",
    "    plt.title('Class: '+str(y_train[i].item()))"
   ]
  },
  {
   "cell_type": "markdown",
   "metadata": {
    "id": "Lj0u1Y9uQ3y9"
   },
   "source": [
    "## MLP network definition\n",
    "\n",
    "Let's define the network as a Python class.  We have to write the `__init__()` and `forward()` methods, and PyTorch will automatically generate a `backward()` method for computing the gradients for the backward pass.\n",
    "\n",
    "Finally, we define an optimizer to update the model parameters based on the computed gradients.  We select *stochastic gradient descent (with momentum)* as the optimization algorithm, and set *learning rate* to 0.01.  Note that there are [several different options](http://pytorch.org/docs/optim.html#algorithms) for the optimizer in PyTorch that we could use instead of *SGD*."
   ]
  },
  {
   "cell_type": "markdown",
   "metadata": {
    "id": "FB_060a0LkaB"
   },
   "source": [
    "#### Question: Complete the missing blocks in the definition of the  convNet architecture \n",
    "\n",
    "The neural network should be composed as (FullyConnected 256 -> ReLU -> Fully Connected 256 -> ReLU -> Fully Connected 10 -> softmax)"
   ]
  },
  {
   "cell_type": "code",
   "execution_count": 17,
   "metadata": {
    "colab": {
     "base_uri": "https://localhost:8080/",
     "height": 375
    },
    "executionInfo": {
     "elapsed": 11607,
     "status": "error",
     "timestamp": 1618508240186,
     "user": {
      "displayName": "Lionel Fillatre",
      "photoUrl": "",
      "userId": "14463393848879581998"
     },
     "user_tz": -120
    },
    "id": "ERvvxFlPQ3y-",
    "outputId": "9fab5f1b-a0bb-4a21-e1c6-4972b10bd18b",
    "tags": []
   },
   "outputs": [],
   "source": [
    "H1 = 256\n",
    "H2 = 256 \n",
    "\n",
    "class Net(nn.Module):\n",
    "    def __init__(self):\n",
    "        super(Net, self).__init__()\n",
    "        self.cnn1 = nn.Conv2d(1, H1, kernel_size=3)\n",
    "        self.relu1 = nn.ReLU()\n",
    "        self.cnn2 = nn.Conv2d(H1, H2, kernel_size=3)\n",
    "        self.relu2 = nn.ReLU()\n",
    "        self.flatten = nn.Flatten()\n",
    "        self.fc = nn.Linear(H2*24*24, 10)\n",
    "        self.softmax = nn.Softmax(dim=1)\n",
    "\n",
    "    def forward(self, x):\n",
    "        x = self.cnn1(x)\n",
    "        x = self.relu1(x)\n",
    "        x = self.cnn2(x)\n",
    "        x = self.relu2(x)\n",
    "        x = self.flatten(x)\n",
    "        x = self.fc(x)\n",
    "        x = self.softmax(x)\n",
    "        return x\n",
    "\n",
    "model = Net().to(device)\n",
    "optimizer = torch.optim.SGD(model.parameters(), lr=0.01, momentum=0.9)\n",
    "criterion = nn.CrossEntropyLoss()"
   ]
  },
  {
   "cell_type": "markdown",
   "metadata": {
    "id": "bbnPlkshVtS1"
   },
   "source": [
    "### Question: Complete the missing blocks in the definition of the \"DropoutNet\" architecture\n",
    "\n",
    "The neural network should be composed as (FullyConnected 256 -> ReLU -> Dropout (0.2) -> Fully Connected 256 -> ReLU -> Dropout (0.5) -> Fully Connected 10 -> softmax)"
   ]
  },
  {
   "cell_type": "code",
   "execution_count": 18,
   "metadata": {
    "executionInfo": {
     "elapsed": 11599,
     "status": "aborted",
     "timestamp": 1618508240181,
     "user": {
      "displayName": "Lionel Fillatre",
      "photoUrl": "",
      "userId": "14463393848879581998"
     },
     "user_tz": -120
    },
    "id": "bEK5kptoSYfe",
    "tags": []
   },
   "outputs": [
    {
     "name": "stdout",
     "output_type": "stream",
     "text": [
      "NetDrop(\n",
      "  (cnn1): Conv2d(1, 256, kernel_size=(3, 3), stride=(1, 1))\n",
      "  (relu1): ReLU()\n",
      "  (dropout1): Dropout(p=0.2, inplace=False)\n",
      "  (cnn2): Conv2d(256, 256, kernel_size=(3, 3), stride=(1, 1))\n",
      "  (relu2): ReLU()\n",
      "  (dropout2): Dropout(p=0.2, inplace=False)\n",
      "  (flatten): Flatten(start_dim=1, end_dim=-1)\n",
      "  (fc): Linear(in_features=147456, out_features=10, bias=True)\n",
      "  (softmax): Softmax(dim=1)\n",
      ")\n"
     ]
    }
   ],
   "source": [
    "class NetDrop(nn.Module):\n",
    "    def __init__(self):\n",
    "        super(NetDrop, self).__init__()\n",
    "        self.cnn1 = nn.Conv2d(1, H1, kernel_size=3)\n",
    "        self.relu1 = nn.ReLU()\n",
    "        self.dropout1 = nn.Dropout(p=0.2)\n",
    "        self.cnn2 = nn.Conv2d(H1, H2, kernel_size=3)\n",
    "        self.relu2 = nn.ReLU()\n",
    "        self.dropout2 = nn.Dropout(p=0.2)\n",
    "        self.flatten = nn.Flatten()\n",
    "        self.fc = nn.Linear(H2*24*24, 10)\n",
    "        self.softmax = nn.Softmax(dim=1)\n",
    "\n",
    "    def forward(self, x):\n",
    "        x = self.cnn1(x)\n",
    "        x = self.relu1(x)\n",
    "        x = self.dropout1(x)\n",
    "        x = self.cnn2(x)\n",
    "        x = self.relu2(x)\n",
    "        x = self.dropout2(x)\n",
    "        x = self.flatten(x)\n",
    "        x = self.fc(x)\n",
    "        x = self.softmax(x)\n",
    "        return x\n",
    "\n",
    "modelDrop = NetDrop().to(device)\n",
    "optimizerDrop = torch.optim.SGD(modelDrop.parameters(), lr=0.01, momentum=0.)\n",
    "\n",
    "print(modelDrop)"
   ]
  },
  {
   "cell_type": "markdown",
   "metadata": {
    "id": "p1u8Y6ydL_L8"
   },
   "source": [
    "### Question: Complete the missing blocks in the definition of the  \"Batchnormalization\" architecture\n",
    "\n",
    "The neural network should be composed as (FullyConnected 256 -> ReLU -> Batchnorm -> Fully Connected 256 -> ReLU -> Batchnorm -> Fully Connected 10 -> softmax)"
   ]
  },
  {
   "cell_type": "code",
   "execution_count": 19,
   "metadata": {
    "executionInfo": {
     "elapsed": 11598,
     "status": "aborted",
     "timestamp": 1618508240182,
     "user": {
      "displayName": "Lionel Fillatre",
      "photoUrl": "",
      "userId": "14463393848879581998"
     },
     "user_tz": -120
    },
    "id": "rcnP7ZRwMIu_"
   },
   "outputs": [
    {
     "name": "stdout",
     "output_type": "stream",
     "text": [
      "NetBatchNorm(\n",
      "  (cnn1): Conv2d(1, 256, kernel_size=(3, 3), stride=(1, 1))\n",
      "  (relu1): ReLU()\n",
      "  (bn1): BatchNorm2d(256, eps=1e-05, momentum=0.1, affine=True, track_running_stats=True)\n",
      "  (cnn2): Conv2d(256, 512, kernel_size=(3, 3), stride=(1, 1))\n",
      "  (relu2): ReLU()\n",
      "  (bn2): BatchNorm2d(512, eps=1e-05, momentum=0.1, affine=True, track_running_stats=True)\n",
      "  (cnn3): Conv2d(512, 256, kernel_size=(3, 3), stride=(1, 1))\n",
      "  (relu3): ReLU()\n",
      "  (flatten): Flatten(start_dim=1, end_dim=-1)\n",
      "  (fc): Linear(in_features=123904, out_features=10, bias=True)\n",
      "  (softmax): Softmax(dim=1)\n",
      ")\n"
     ]
    }
   ],
   "source": [
    "class NetBatchNorm(nn.Module):\n",
    "    def __init__(self):\n",
    "        super(NetBatchNorm, self).__init__()\n",
    "        self.cnn1 = nn.Conv2d(1, H1, kernel_size=3)\n",
    "        self.relu1 = nn.ReLU()\n",
    "        self.bn1 = nn.BatchNorm2d(H1)\n",
    "        self.cnn2 = nn.Conv2d(H1, 512, kernel_size=3)\n",
    "        self.relu2 = nn.ReLU()\n",
    "        self.bn2 = nn.BatchNorm2d(512)\n",
    "        self.cnn3 = nn.Conv2d(512,H2, kernel_size=3)\n",
    "        self.relu3 = nn.ReLU()\n",
    "        self.flatten = nn.Flatten()\n",
    "        self.fc = nn.Linear(H2*22*22, 10)\n",
    "        self.softmax = nn.Softmax(dim=1)\n",
    "\n",
    "    def forward(self, x):\n",
    "        x = self.cnn1(x)\n",
    "        x = self.relu1(x)\n",
    "        x = self.bn1(x)\n",
    "        x = self.cnn2(x)\n",
    "        x = self.relu2(x)\n",
    "        x = self.bn2(x)\n",
    "        x = self.cnn3(x)\n",
    "        x = self.relu3(x)\n",
    "        x = self.flatten(x)\n",
    "        x = self.fc(x)\n",
    "        x = self.softmax(x)\n",
    "        return x\n",
    "\n",
    "modelBatchNorm = NetBatchNorm().to(device)\n",
    "optimizerBatchNorm = torch.optim.SGD(modelBatchNorm.parameters(), lr=0.01, momentum=0.)\n",
    "\n",
    "print(modelBatchNorm)"
   ]
  },
  {
   "cell_type": "markdown",
   "metadata": {
    "id": "jOwerJmYQ3zA"
   },
   "source": [
    "## Learning\n",
    "\n",
    "Let's now define functions to `train()` and `test()` the model. "
   ]
  },
  {
   "cell_type": "code",
   "execution_count": 20,
   "metadata": {},
   "outputs": [
    {
     "data": {
      "text/plain": [
       "tensor([ 1.9987,  4.9477, 10.0170])"
      ]
     },
     "execution_count": 20,
     "metadata": {},
     "output_type": "execute_result"
    }
   ],
   "source": [
    "x = torch.Tensor(10000, 3).normal_()\n",
    "x = x*torch.Tensor([2., 5., 10.])+ torch.Tensor([-10, 25, 3.])\n",
    "x.mean(0)\n",
    "x.std(0)"
   ]
  },
  {
   "cell_type": "code",
   "execution_count": 21,
   "metadata": {},
   "outputs": [
    {
     "data": {
      "text/plain": [
       "tensor([2.0000, 4.0000, 8.0000], grad_fn=<MeanBackward1>)"
      ]
     },
     "execution_count": 21,
     "metadata": {},
     "output_type": "execute_result"
    }
   ],
   "source": [
    "bn = nn.BatchNorm1d(3)\n",
    "with torch.no_grad():\n",
    "    bn.bias.copy_(torch.tensor([2.,4., 8.]))\n",
    "    bn.weight.copy_(torch.tensor([1., 2., 3.,]))\n",
    "y = bn(x)\n",
    "y.mean(0)\n"
   ]
  },
  {
   "cell_type": "code",
   "execution_count": 22,
   "metadata": {
    "executionInfo": {
     "elapsed": 11596,
     "status": "aborted",
     "timestamp": 1618508240182,
     "user": {
      "displayName": "Lionel Fillatre",
      "photoUrl": "",
      "userId": "14463393848879581998"
     },
     "user_tz": -120
    },
    "id": "eyA6cc6kQ3zB"
   },
   "outputs": [],
   "source": [
    "def train(model, optimizer, epoch, log_interval=200):\n",
    "    # Set model to training mode\n",
    "    model.train()\n",
    "    \n",
    "    # Loop over each batch from the training set\n",
    "    for batch_idx, (data, target) in enumerate(train_loader):\n",
    "        # Copy data to GPU if needed\n",
    "        data = data.to(device)\n",
    "        target = target.to(device)\n",
    "\n",
    "        # Zero gradient buffers\n",
    "        optimizer.zero_grad() \n",
    "        \n",
    "        # Pass data through the network\n",
    "        output = model(data)\n",
    "\n",
    "        # Calculate loss\n",
    "        loss = criterion(output, target)\n",
    "        # Backpropagate\n",
    "        loss.backward()\n",
    "        \n",
    "        # Update weights\n",
    "        optimizer.step()\n",
    "        \n",
    "        if batch_idx % log_interval == 0:\n",
    "            print('Train Epoch: {} [{}/{} ({:.0f}%)]\\tLoss: {:.6f}'.format(\n",
    "                epoch, batch_idx * len(data), len(train_loader.dataset),\n",
    "                100. * batch_idx / len(train_loader), loss.data.item()))"
   ]
  },
  {
   "cell_type": "code",
   "execution_count": 23,
   "metadata": {
    "executionInfo": {
     "elapsed": 11595,
     "status": "aborted",
     "timestamp": 1618508240183,
     "user": {
      "displayName": "Lionel Fillatre",
      "photoUrl": "",
      "userId": "14463393848879581998"
     },
     "user_tz": -120
    },
    "id": "GZpI82dgQ3zE"
   },
   "outputs": [],
   "source": [
    "def validate(model, loss_vector, accuracy_vector):\n",
    "    model.eval()\n",
    "    val_loss, correct = 0, 0\n",
    "    for data, target in validation_loader:\n",
    "        data = data.to(device)\n",
    "        target = target.to(device)\n",
    "        output = model(data)\n",
    "        val_loss += criterion(output, target).data.item()\n",
    "        pred = output.data.max(1)[1] # get the index of the max log-probability\n",
    "        correct += pred.eq(target.data).cpu().sum()\n",
    "\n",
    "    val_loss /= len(validation_loader)\n",
    "    loss_vector.append(val_loss)\n",
    "\n",
    "    accuracy = 100. * correct.to(torch.float32) / len(validation_loader.dataset)\n",
    "    accuracy_vector.append(accuracy)\n",
    "    \n",
    "    print('\\nValidation set: Average loss: {:.4f}, Accuracy: {}/{} ({:.0f}%)\\n'.format(\n",
    "        val_loss, correct, len(validation_loader.dataset), accuracy))\n"
   ]
  },
  {
   "cell_type": "markdown",
   "metadata": {
    "id": "RpE7EGviQ3zF"
   },
   "source": [
    "Now we are ready to train our model using the `train()` function.  An *epoch* means one pass through the whole training data. After each epoch, we evaluate the model using `test()`. "
   ]
  },
  {
   "cell_type": "markdown",
   "metadata": {
    "id": "Ls0lR3WvVVZQ"
   },
   "source": [
    "Training without Dropout"
   ]
  },
  {
   "cell_type": "code",
   "execution_count": 24,
   "metadata": {
    "executionInfo": {
     "elapsed": 11593,
     "status": "aborted",
     "timestamp": 1618508240183,
     "user": {
      "displayName": "Lionel Fillatre",
      "photoUrl": "",
      "userId": "14463393848879581998"
     },
     "user_tz": -120
    },
    "id": "uFPAF_CNQ3zG",
    "tags": []
   },
   "outputs": [
    {
     "name": "stdout",
     "output_type": "stream",
     "text": [
      "Train Epoch: 1 [0/60000 (0%)]\tLoss: 2.302482\n",
      "Train Epoch: 1 [6400/60000 (11%)]\tLoss: 1.750737\n",
      "Train Epoch: 1 [12800/60000 (21%)]\tLoss: 1.692793\n",
      "Train Epoch: 1 [19200/60000 (32%)]\tLoss: 1.828837\n",
      "Train Epoch: 1 [25600/60000 (43%)]\tLoss: 1.838859\n",
      "Train Epoch: 1 [32000/60000 (53%)]\tLoss: 1.553579\n",
      "Train Epoch: 1 [38400/60000 (64%)]\tLoss: 1.588991\n",
      "Train Epoch: 1 [44800/60000 (75%)]\tLoss: 1.598432\n",
      "Train Epoch: 1 [51200/60000 (85%)]\tLoss: 1.616100\n",
      "Train Epoch: 1 [57600/60000 (96%)]\tLoss: 1.506980\n",
      "\n",
      "Validation set: Average loss: 1.5294, Accuracy: 9372/10000 (94%)\n",
      "\n",
      "Train Epoch: 2 [0/60000 (0%)]\tLoss: 1.549410\n",
      "Train Epoch: 2 [6400/60000 (11%)]\tLoss: 1.486886\n",
      "Train Epoch: 2 [12800/60000 (21%)]\tLoss: 1.528437\n",
      "Train Epoch: 2 [19200/60000 (32%)]\tLoss: 1.500142\n",
      "Train Epoch: 2 [25600/60000 (43%)]\tLoss: 1.463489\n",
      "Train Epoch: 2 [32000/60000 (53%)]\tLoss: 1.543324\n",
      "Train Epoch: 2 [38400/60000 (64%)]\tLoss: 1.523304\n",
      "Train Epoch: 2 [44800/60000 (75%)]\tLoss: 1.509867\n",
      "Train Epoch: 2 [51200/60000 (85%)]\tLoss: 1.493208\n",
      "Train Epoch: 2 [57600/60000 (96%)]\tLoss: 1.500909\n",
      "\n",
      "Validation set: Average loss: 1.4888, Accuracy: 9736/10000 (97%)\n",
      "\n",
      "Train Epoch: 3 [0/60000 (0%)]\tLoss: 1.461378\n",
      "Train Epoch: 3 [6400/60000 (11%)]\tLoss: 1.488097\n",
      "Train Epoch: 3 [12800/60000 (21%)]\tLoss: 1.531073\n",
      "Train Epoch: 3 [19200/60000 (32%)]\tLoss: 1.491482\n",
      "Train Epoch: 3 [25600/60000 (43%)]\tLoss: 1.484113\n",
      "Train Epoch: 3 [32000/60000 (53%)]\tLoss: 1.478816\n",
      "Train Epoch: 3 [38400/60000 (64%)]\tLoss: 1.492255\n",
      "Train Epoch: 3 [44800/60000 (75%)]\tLoss: 1.462629\n",
      "Train Epoch: 3 [51200/60000 (85%)]\tLoss: 1.461177\n",
      "Train Epoch: 3 [57600/60000 (96%)]\tLoss: 1.465955\n",
      "\n",
      "Validation set: Average loss: 1.4849, Accuracy: 9777/10000 (98%)\n",
      "\n",
      "Wall time: 59.2 s\n"
     ]
    }
   ],
   "source": [
    "%%time\n",
    "epochs = 3\n",
    "\n",
    "lossv, accv = [], []\n",
    "for epoch in range(1, epochs + 1):\n",
    "    train(model, optimizer, epoch)\n",
    "    validate(model, lossv, accv)"
   ]
  },
  {
   "cell_type": "markdown",
   "metadata": {
    "id": "fqI_dIneVR-o"
   },
   "source": [
    "Training with Dropout"
   ]
  },
  {
   "cell_type": "code",
   "execution_count": 238,
   "metadata": {
    "executionInfo": {
     "elapsed": 11591,
     "status": "aborted",
     "timestamp": 1618508240184,
     "user": {
      "displayName": "Lionel Fillatre",
      "photoUrl": "",
      "userId": "14463393848879581998"
     },
     "user_tz": -120
    },
    "id": "RPiJfdeqTJqb"
   },
   "outputs": [
    {
     "name": "stdout",
     "output_type": "stream",
     "text": [
      "Train Epoch: 1 [0/60000 (0%)]\tLoss: 1.526725\n",
      "Train Epoch: 1 [6400/60000 (11%)]\tLoss: 1.582632\n",
      "Train Epoch: 1 [12800/60000 (21%)]\tLoss: 1.587437\n",
      "Train Epoch: 1 [19200/60000 (32%)]\tLoss: 1.502320\n",
      "Train Epoch: 1 [25600/60000 (43%)]\tLoss: 1.711991\n",
      "Train Epoch: 1 [32000/60000 (53%)]\tLoss: 1.648375\n",
      "Train Epoch: 1 [38400/60000 (64%)]\tLoss: 1.568589\n",
      "Train Epoch: 1 [44800/60000 (75%)]\tLoss: 1.536831\n",
      "Train Epoch: 1 [51200/60000 (85%)]\tLoss: 1.710629\n",
      "Train Epoch: 1 [57600/60000 (96%)]\tLoss: 1.683730\n",
      "\n",
      "Validation set: Average loss: 1.6104, Accuracy: 8504/10000 (85%)\n",
      "\n",
      "Train Epoch: 2 [0/60000 (0%)]\tLoss: 1.600189\n",
      "Train Epoch: 2 [6400/60000 (11%)]\tLoss: 1.779102\n",
      "Train Epoch: 2 [12800/60000 (21%)]\tLoss: 1.642553\n",
      "Train Epoch: 2 [19200/60000 (32%)]\tLoss: 1.581765\n",
      "Train Epoch: 2 [25600/60000 (43%)]\tLoss: 1.708128\n",
      "Train Epoch: 2 [32000/60000 (53%)]\tLoss: 1.662285\n",
      "Train Epoch: 2 [38400/60000 (64%)]\tLoss: 1.614983\n",
      "Train Epoch: 2 [44800/60000 (75%)]\tLoss: 1.551886\n",
      "Train Epoch: 2 [51200/60000 (85%)]\tLoss: 1.609747\n",
      "Train Epoch: 2 [57600/60000 (96%)]\tLoss: 1.624570\n",
      "\n",
      "Validation set: Average loss: 1.6074, Accuracy: 8539/10000 (85%)\n",
      "\n",
      "Train Epoch: 3 [0/60000 (0%)]\tLoss: 1.803304\n",
      "Train Epoch: 3 [6400/60000 (11%)]\tLoss: 1.717909\n",
      "Train Epoch: 3 [12800/60000 (21%)]\tLoss: 1.650624\n",
      "Train Epoch: 3 [19200/60000 (32%)]\tLoss: 1.596234\n",
      "Train Epoch: 3 [25600/60000 (43%)]\tLoss: 1.628457\n",
      "Train Epoch: 3 [32000/60000 (53%)]\tLoss: 1.548778\n",
      "Train Epoch: 3 [38400/60000 (64%)]\tLoss: 1.664430\n",
      "Train Epoch: 3 [44800/60000 (75%)]\tLoss: 1.567734\n",
      "Train Epoch: 3 [51200/60000 (85%)]\tLoss: 1.627482\n",
      "Train Epoch: 3 [57600/60000 (96%)]\tLoss: 1.587923\n",
      "\n",
      "Validation set: Average loss: 1.6063, Accuracy: 8544/10000 (85%)\n",
      "\n",
      "Wall time: 2min 14s\n"
     ]
    }
   ],
   "source": [
    "%%time\n",
    "\n",
    "lossvDrop, accvDrop = [], []\n",
    "for epoch in range(1, epochs + 1):\n",
    "    train(modelDrop, optimizerDrop, epoch)\n",
    "    validate(modelDrop, lossvDrop, accvDrop)"
   ]
  },
  {
   "cell_type": "markdown",
   "metadata": {
    "id": "nhG5ZvXIMpZ2"
   },
   "source": [
    "Training with Batchnormalization"
   ]
  },
  {
   "cell_type": "code",
   "execution_count": 237,
   "metadata": {
    "executionInfo": {
     "elapsed": 11590,
     "status": "aborted",
     "timestamp": 1618508240184,
     "user": {
      "displayName": "Lionel Fillatre",
      "photoUrl": "",
      "userId": "14463393848879581998"
     },
     "user_tz": -120
    },
    "id": "IUWKOAvjM0QI"
   },
   "outputs": [
    {
     "name": "stdout",
     "output_type": "stream",
     "text": [
      "Train Epoch: 1 [0/60000 (0%)]\tLoss: 2.307624\n",
      "Train Epoch: 1 [6400/60000 (11%)]\tLoss: 1.517062\n",
      "Train Epoch: 1 [12800/60000 (21%)]\tLoss: 1.540551\n",
      "Train Epoch: 1 [19200/60000 (32%)]\tLoss: 1.585609\n",
      "Train Epoch: 1 [25600/60000 (43%)]\tLoss: 1.463277\n",
      "Train Epoch: 1 [32000/60000 (53%)]\tLoss: 1.475948\n",
      "Train Epoch: 1 [38400/60000 (64%)]\tLoss: 1.497524\n",
      "Train Epoch: 1 [44800/60000 (75%)]\tLoss: 1.557883\n",
      "Train Epoch: 1 [51200/60000 (85%)]\tLoss: 1.477771\n",
      "Train Epoch: 1 [57600/60000 (96%)]\tLoss: 1.463928\n",
      "\n",
      "Validation set: Average loss: 1.4822, Accuracy: 9800/10000 (98%)\n",
      "\n",
      "Train Epoch: 2 [0/60000 (0%)]\tLoss: 1.461517\n",
      "Train Epoch: 2 [6400/60000 (11%)]\tLoss: 1.481184\n",
      "Train Epoch: 2 [12800/60000 (21%)]\tLoss: 1.503180\n",
      "Train Epoch: 2 [19200/60000 (32%)]\tLoss: 1.461263\n",
      "Train Epoch: 2 [25600/60000 (43%)]\tLoss: 1.463806\n",
      "Train Epoch: 2 [32000/60000 (53%)]\tLoss: 1.492543\n",
      "Train Epoch: 2 [38400/60000 (64%)]\tLoss: 1.464027\n",
      "Train Epoch: 2 [44800/60000 (75%)]\tLoss: 1.466776\n",
      "Train Epoch: 2 [51200/60000 (85%)]\tLoss: 1.463535\n",
      "Train Epoch: 2 [57600/60000 (96%)]\tLoss: 1.517272\n",
      "\n",
      "Validation set: Average loss: 1.4765, Accuracy: 9853/10000 (99%)\n",
      "\n",
      "Train Epoch: 3 [0/60000 (0%)]\tLoss: 1.521543\n",
      "Train Epoch: 3 [6400/60000 (11%)]\tLoss: 1.462316\n",
      "Train Epoch: 3 [12800/60000 (21%)]\tLoss: 1.487598\n",
      "Train Epoch: 3 [19200/60000 (32%)]\tLoss: 1.521367\n",
      "Train Epoch: 3 [25600/60000 (43%)]\tLoss: 1.536101\n",
      "Train Epoch: 3 [32000/60000 (53%)]\tLoss: 1.461374\n",
      "Train Epoch: 3 [38400/60000 (64%)]\tLoss: 1.520506\n",
      "Train Epoch: 3 [44800/60000 (75%)]\tLoss: 1.492495\n",
      "Train Epoch: 3 [51200/60000 (85%)]\tLoss: 1.461475\n",
      "Train Epoch: 3 [57600/60000 (96%)]\tLoss: 1.466077\n",
      "\n",
      "Validation set: Average loss: 1.4760, Accuracy: 9857/10000 (99%)\n",
      "\n",
      "Wall time: 2min 16s\n"
     ]
    }
   ],
   "source": [
    "%%time\n",
    "\n",
    "lossvBN, accvBN = [], []\n",
    "for epoch in range(1, epochs + 1):\n",
    "    train(modelBatchNorm, optimizerBatchNorm, epoch)\n",
    "    validate(modelBatchNorm, lossvBN, accvBN)"
   ]
  },
  {
   "cell_type": "markdown",
   "metadata": {
    "id": "l0YZ4vNbQ3zI"
   },
   "source": [
    "Let's now visualize how the training progressed. \n",
    "\n",
    "* *Loss* is a function of the difference of the network output and the target values.  We are minimizing the loss function during training so it should decrease over time.\n",
    "* *Accuracy* is the classification accuracy for the test data."
   ]
  },
  {
   "cell_type": "code",
   "execution_count": 239,
   "metadata": {
    "executionInfo": {
     "elapsed": 11589,
     "status": "aborted",
     "timestamp": 1618508240185,
     "user": {
      "displayName": "Lionel Fillatre",
      "photoUrl": "",
      "userId": "14463393848879581998"
     },
     "user_tz": -120
    },
    "id": "MN2LcmsHQ3zJ"
   },
   "outputs": [
    {
     "data": {
      "image/png": "[encoded data removed]",
      "text/plain": [
       "<Figure size 360x216 with 1 Axes>"
      ]
     },
     "metadata": {
      "needs_background": "light"
     },
     "output_type": "display_data"
    },
    {
     "data": {
      "image/png": "[encoded data removed]",
      "text/plain": [
       "<Figure size 360x216 with 1 Axes>"
      ]
     },
     "metadata": {
      "needs_background": "light"
     },
     "output_type": "display_data"
    }
   ],
   "source": [
    "plt.figure(figsize=(5,3))\n",
    "plt.plot(np.arange(1,epochs+1), lossv, label='no dropout')\n",
    "plt.plot(np.arange(1,epochs+1), lossvDrop, label='with dropout')\n",
    "plt.plot(np.arange(1,epochs+1), lossvBN, label='with batchnormalization')\n",
    "plt.legend(loc='upper left');\n",
    "plt.xlabel('epoch')\n",
    "plt.title('validation loss')\n",
    "plt.show()\n",
    "\n",
    "plt.figure(figsize=(5,3))\n",
    "plt.plot(np.arange(1,epochs+1), accv, label='no dropout')\n",
    "plt.plot(np.arange(1,epochs+1), accvDrop, label='with dropout')\n",
    "plt.plot(np.arange(1,epochs+1), accvBN, label='with batchnormalization')\n",
    "plt.legend(loc='upper left');\n",
    "plt.xlabel('epoch')\n",
    "plt.title('validation accuracy');"
   ]
  },
  {
   "cell_type": "markdown",
   "metadata": {
    "id": "1-o8iKwlQ3zM"
   },
   "source": [
    "### Question (model tuning): compare the gain when the first layer has less neurons (50 instead of 256)\n",
    "\n"
   ]
  },
  {
   "cell_type": "markdown",
   "metadata": {
    "id": "8E1SmvXmOcMn"
   },
   "source": [
    "### Question (model tuning): increase the number of epochs for the training (10 instead of 3)"
   ]
  }
 ],
 "metadata": {
  "accelerator": "GPU",
  "colab": {
   "collapsed_sections": [],
   "name": "DSTI_DL_Lab6_April2021.ipynb",
   "provenance": [],
   "toc_visible": true
  },
  "kernelspec": {
   "display_name": "Python 3",
   "language": "python",
   "name": "python3"
  },
  "language_info": {
   "codemirror_mode": {
    "name": "ipython",
    "version": 3
   },
   "file_extension": ".py",
   "mimetype": "text/x-python",
   "name": "python",
   "nbconvert_exporter": "python",
   "pygments_lexer": "ipython3",
   "version": "3.8.3"
  },
  "widgets": {
   "application/vnd.jupyter.widget-state+json": {
    "051965596f944ae58097b74bbef5d617": {
     "model_module": "@jupyter-widgets/controls",
     "model_name": "DescriptionStyleModel",
     "state": {
      "_model_module": "@jupyter-widgets/controls",
      "_model_module_version": "1.5.0",
      "_model_name": "DescriptionStyleModel",
      "_view_count": null,
      "_view_module": "@jupyter-widgets/base",
      "_view_module_version": "1.2.0",
      "_view_name": "StyleView",
      "description_width": ""
     }
    },
    "0890f85e461e447b8e2667a88a7d7b16": {
     "model_module": "@jupyter-widgets/base",
     "model_name": "LayoutModel",
     "state": {
      "_model_module": "@jupyter-widgets/base",
      "_model_module_version": "1.2.0",
      "_model_name": "LayoutModel",
      "_view_count": null,
      "_view_module": "@jupyter-widgets/base",
      "_view_module_version": "1.2.0",
      "_view_name": "LayoutView",
      "align_content": null,
      "align_items": null,
      "align_self": null,
      "border": null,
      "bottom": null,
      "display": null,
      "flex": null,
      "flex_flow": null,
      "grid_area": null,
      "grid_auto_columns": null,
      "grid_auto_flow": null,
      "grid_auto_rows": null,
      "grid_column": null,
      "grid_gap": null,
      "grid_row": null,
      "grid_template_areas": null,
      "grid_template_columns": null,
      "grid_template_rows": null,
      "height": null,
      "justify_content": null,
      "justify_items": null,
      "left": null,
      "margin": null,
      "max_height": null,
      "max_width": null,
      "min_height": null,
      "min_width": null,
      "object_fit": null,
      "object_position": null,
      "order": null,
      "overflow": null,
      "overflow_x": null,
      "overflow_y": null,
      "padding": null,
      "right": null,
      "top": null,
      "visibility": null,
      "width": null
     }
    },
    "15c489ba157d464fb085fec43eb573bf": {
     "model_module": "@jupyter-widgets/controls",
     "model_name": "DescriptionStyleModel",
     "state": {
      "_model_module": "@jupyter-widgets/controls",
      "_model_module_version": "1.5.0",
      "_model_name": "DescriptionStyleModel",
      "_view_count": null,
      "_view_module": "@jupyter-widgets/base",
      "_view_module_version": "1.2.0",
      "_view_name": "StyleView",
      "description_width": ""
     }
    },
    "18ee72c2f26c496abc5610c04a24bd3a": {
     "model_module": "@jupyter-widgets/base",
     "model_name": "LayoutModel",
     "state": {
      "_model_module": "@jupyter-widgets/base",
      "_model_module_version": "1.2.0",
      "_model_name": "LayoutModel",
      "_view_count": null,
      "_view_module": "@jupyter-widgets/base",
      "_view_module_version": "1.2.0",
      "_view_name": "LayoutView",
      "align_content": null,
      "align_items": null,
      "align_self": null,
      "border": null,
      "bottom": null,
      "display": null,
      "flex": null,
      "flex_flow": null,
      "grid_area": null,
      "grid_auto_columns": null,
      "grid_auto_flow": null,
      "grid_auto_rows": null,
      "grid_column": null,
      "grid_gap": null,
      "grid_row": null,
      "grid_template_areas": null,
      "grid_template_columns": null,
      "grid_template_rows": null,
      "height": null,
      "justify_content": null,
      "justify_items": null,
      "left": null,
      "margin": null,
      "max_height": null,
      "max_width": null,
      "min_height": null,
      "min_width": null,
      "object_fit": null,
      "object_position": null,
      "order": null,
      "overflow": null,
      "overflow_x": null,
      "overflow_y": null,
      "padding": null,
      "right": null,
      "top": null,
      "visibility": null,
      "width": null
     }
    },
    "20f59ce1c37a4b759079f42c0f2b352b": {
     "model_module": "@jupyter-widgets/controls",
     "model_name": "HBoxModel",
     "state": {
      "_dom_classes": [],
      "_model_module": "@jupyter-widgets/controls",
      "_model_module_version": "1.5.0",
      "_model_name": "HBoxModel",
      "_view_count": null,
      "_view_module": "@jupyter-widgets/controls",
      "_view_module_version": "1.5.0",
      "_view_name": "HBoxView",
      "box_style": "",
      "children": [
       "IPY_MODEL_f81df99be24c49da979f47e601924f91",
       "IPY_MODEL_54273cda82b547b5b2fbae9ef03eb88c"
      ],
      "layout": "IPY_MODEL_219bc61ec02e459fb2c9a0877170eee9"
     }
    },
    "2166936e75c84957b7b43f43fbea72af": {
     "model_module": "@jupyter-widgets/controls",
     "model_name": "HTMLModel",
     "state": {
      "_dom_classes": [],
      "_model_module": "@jupyter-widgets/controls",
      "_model_module_version": "1.5.0",
      "_model_name": "HTMLModel",
      "_view_count": null,
      "_view_module": "@jupyter-widgets/controls",
      "_view_module_version": "1.5.0",
      "_view_name": "HTMLView",
      "description": "",
      "description_tooltip": null,
      "layout": "IPY_MODEL_f1d46bfa08184459b19d1ef1071b6c5a",
      "placeholder": "​",
      "style": "IPY_MODEL_051965596f944ae58097b74bbef5d617",
      "value": " 5120/? [00:00&lt;00:00, 18968.19it/s]"
     }
    },
    "219bc61ec02e459fb2c9a0877170eee9": {
     "model_module": "@jupyter-widgets/base",
     "model_name": "LayoutModel",
     "state": {
      "_model_module": "@jupyter-widgets/base",
      "_model_module_version": "1.2.0",
      "_model_name": "LayoutModel",
      "_view_count": null,
      "_view_module": "@jupyter-widgets/base",
      "_view_module_version": "1.2.0",
      "_view_name": "LayoutView",
      "align_content": null,
      "align_items": null,
      "align_self": null,
      "border": null,
      "bottom": null,
      "display": null,
      "flex": null,
      "flex_flow": null,
      "grid_area": null,
      "grid_auto_columns": null,
      "grid_auto_flow": null,
      "grid_auto_rows": null,
      "grid_column": null,
      "grid_gap": null,
      "grid_row": null,
      "grid_template_areas": null,
      "grid_template_columns": null,
      "grid_template_rows": null,
      "height": null,
      "justify_content": null,
      "justify_items": null,
      "left": null,
      "margin": null,
      "max_height": null,
      "max_width": null,
      "min_height": null,
      "min_width": null,
      "object_fit": null,
      "object_position": null,
      "order": null,
      "overflow": null,
      "overflow_x": null,
      "overflow_y": null,
      "padding": null,
      "right": null,
      "top": null,
      "visibility": null,
      "width": null
     }
    },
    "26f729f8d9fd478dbf8402225cf66927": {
     "model_module": "@jupyter-widgets/base",
     "model_name": "LayoutModel",
     "state": {
      "_model_module": "@jupyter-widgets/base",
      "_model_module_version": "1.2.0",
      "_model_name": "LayoutModel",
      "_view_count": null,
      "_view_module": "@jupyter-widgets/base",
      "_view_module_version": "1.2.0",
      "_view_name": "LayoutView",
      "align_content": null,
      "align_items": null,
      "align_self": null,
      "border": null,
      "bottom": null,
      "display": null,
      "flex": null,
      "flex_flow": null,
      "grid_area": null,
      "grid_auto_columns": null,
      "grid_auto_flow": null,
      "grid_auto_rows": null,
      "grid_column": null,
      "grid_gap": null,
      "grid_row": null,
      "grid_template_areas": null,
      "grid_template_columns": null,
      "grid_template_rows": null,
      "height": null,
      "justify_content": null,
      "justify_items": null,
      "left": null,
      "margin": null,
      "max_height": null,
      "max_width": null,
      "min_height": null,
      "min_width": null,
      "object_fit": null,
      "object_position": null,
      "order": null,
      "overflow": null,
      "overflow_x": null,
      "overflow_y": null,
      "padding": null,
      "right": null,
      "top": null,
      "visibility": null,
      "width": null
     }
    },
    "28118fae2ef2436081f816b1769acadd": {
     "model_module": "@jupyter-widgets/controls",
     "model_name": "HBoxModel",
     "state": {
      "_dom_classes": [],
      "_model_module": "@jupyter-widgets/controls",
      "_model_module_version": "1.5.0",
      "_model_name": "HBoxModel",
      "_view_count": null,
      "_view_module": "@jupyter-widgets/controls",
      "_view_module_version": "1.5.0",
      "_view_name": "HBoxView",
      "box_style": "",
      "children": [
       "IPY_MODEL_c775ec1c1a5e43d5b40f2c122142ecba",
       "IPY_MODEL_d20f6c7155574576a8c1340410f781fa"
      ],
      "layout": "IPY_MODEL_7c53b5e89cde467ebec95d259d1bcfb5"
     }
    },
    "2d5eb08b6e65487c831c3971c7d8347c": {
     "model_module": "@jupyter-widgets/controls",
     "model_name": "FloatProgressModel",
     "state": {
      "_dom_classes": [],
      "_model_module": "@jupyter-widgets/controls",
      "_model_module_version": "1.5.0",
      "_model_name": "FloatProgressModel",
      "_view_count": null,
      "_view_module": "@jupyter-widgets/controls",
      "_view_module_version": "1.5.0",
      "_view_name": "ProgressView",
      "bar_style": "success",
      "description": "",
      "description_tooltip": null,
      "layout": "IPY_MODEL_0890f85e461e447b8e2667a88a7d7b16",
      "max": 4542,
      "min": 0,
      "orientation": "horizontal",
      "style": "IPY_MODEL_96fc2033f84a4ed8b197682287e891ae",
      "value": 4542
     }
    },
    "2e835485bae540e88519f287c084fd11": {
     "model_module": "@jupyter-widgets/controls",
     "model_name": "DescriptionStyleModel",
     "state": {
      "_model_module": "@jupyter-widgets/controls",
      "_model_module_version": "1.5.0",
      "_model_name": "DescriptionStyleModel",
      "_view_count": null,
      "_view_module": "@jupyter-widgets/base",
      "_view_module_version": "1.2.0",
      "_view_name": "StyleView",
      "description_width": ""
     }
    },
    "36914b219a0d4ec4bdb8cdf82ebe2adf": {
     "model_module": "@jupyter-widgets/base",
     "model_name": "LayoutModel",
     "state": {
      "_model_module": "@jupyter-widgets/base",
      "_model_module_version": "1.2.0",
      "_model_name": "LayoutModel",
      "_view_count": null,
      "_view_module": "@jupyter-widgets/base",
      "_view_module_version": "1.2.0",
      "_view_name": "LayoutView",
      "align_content": null,
      "align_items": null,
      "align_self": null,
      "border": null,
      "bottom": null,
      "display": null,
      "flex": null,
      "flex_flow": null,
      "grid_area": null,
      "grid_auto_columns": null,
      "grid_auto_flow": null,
      "grid_auto_rows": null,
      "grid_column": null,
      "grid_gap": null,
      "grid_row": null,
      "grid_template_areas": null,
      "grid_template_columns": null,
      "grid_template_rows": null,
      "height": null,
      "justify_content": null,
      "justify_items": null,
      "left": null,
      "margin": null,
      "max_height": null,
      "max_width": null,
      "min_height": null,
      "min_width": null,
      "object_fit": null,
      "object_position": null,
      "order": null,
      "overflow": null,
      "overflow_x": null,
      "overflow_y": null,
      "padding": null,
      "right": null,
      "top": null,
      "visibility": null,
      "width": null
     }
    },
    "3e60d35185104ddb98b7081c8e9cf8aa": {
     "model_module": "@jupyter-widgets/controls",
     "model_name": "ProgressStyleModel",
     "state": {
      "_model_module": "@jupyter-widgets/controls",
      "_model_module_version": "1.5.0",
      "_model_name": "ProgressStyleModel",
      "_view_count": null,
      "_view_module": "@jupyter-widgets/base",
      "_view_module_version": "1.2.0",
      "_view_name": "StyleView",
      "bar_color": null,
      "description_width": "initial"
     }
    },
    "426c85322eeb45a78f4206064511c13d": {
     "model_module": "@jupyter-widgets/controls",
     "model_name": "HBoxModel",
     "state": {
      "_dom_classes": [],
      "_model_module": "@jupyter-widgets/controls",
      "_model_module_version": "1.5.0",
      "_model_name": "HBoxModel",
      "_view_count": null,
      "_view_module": "@jupyter-widgets/controls",
      "_view_module_version": "1.5.0",
      "_view_name": "HBoxView",
      "box_style": "",
      "children": [
       "IPY_MODEL_55327b91abe54f1d8a6b30fdd50b7792",
       "IPY_MODEL_f67424fff8454928ba6ec610455a9261"
      ],
      "layout": "IPY_MODEL_7c9f7e358ba642b6aae52febb593b0e8"
     }
    },
    "514e8c786ce7437793866641a1adff3b": {
     "model_module": "@jupyter-widgets/controls",
     "model_name": "ProgressStyleModel",
     "state": {
      "_model_module": "@jupyter-widgets/controls",
      "_model_module_version": "1.5.0",
      "_model_name": "ProgressStyleModel",
      "_view_count": null,
      "_view_module": "@jupyter-widgets/base",
      "_view_module_version": "1.2.0",
      "_view_name": "StyleView",
      "bar_color": null,
      "description_width": "initial"
     }
    },
    "54273cda82b547b5b2fbae9ef03eb88c": {
     "model_module": "@jupyter-widgets/controls",
     "model_name": "HTMLModel",
     "state": {
      "_dom_classes": [],
      "_model_module": "@jupyter-widgets/controls",
      "_model_module_version": "1.5.0",
      "_model_name": "HTMLModel",
      "_view_count": null,
      "_view_module": "@jupyter-widgets/controls",
      "_view_module_version": "1.5.0",
      "_view_name": "HTMLView",
      "description": "",
      "description_tooltip": null,
      "layout": "IPY_MODEL_59c1f17c29264d028232f407d9f99f00",
      "placeholder": "​",
      "style": "IPY_MODEL_cebe2bfcc4e74c51b8062791720573b8",
      "value": " 9913344/? [00:04&lt;00:00, 2004549.01it/s]"
     }
    },
    "55327b91abe54f1d8a6b30fdd50b7792": {
     "model_module": "@jupyter-widgets/controls",
     "model_name": "FloatProgressModel",
     "state": {
      "_dom_classes": [],
      "_model_module": "@jupyter-widgets/controls",
      "_model_module_version": "1.5.0",
      "_model_name": "FloatProgressModel",
      "_view_count": null,
      "_view_module": "@jupyter-widgets/controls",
      "_view_module_version": "1.5.0",
      "_view_name": "ProgressView",
      "bar_style": "success",
      "description": "",
      "description_tooltip": null,
      "layout": "IPY_MODEL_26f729f8d9fd478dbf8402225cf66927",
      "max": 1648877,
      "min": 0,
      "orientation": "horizontal",
      "style": "IPY_MODEL_3e60d35185104ddb98b7081c8e9cf8aa",
      "value": 1648877
     }
    },
    "583760fb36454f1eac591c8b0c93f567": {
     "model_module": "@jupyter-widgets/controls",
     "model_name": "ProgressStyleModel",
     "state": {
      "_model_module": "@jupyter-widgets/controls",
      "_model_module_version": "1.5.0",
      "_model_name": "ProgressStyleModel",
      "_view_count": null,
      "_view_module": "@jupyter-widgets/base",
      "_view_module_version": "1.2.0",
      "_view_name": "StyleView",
      "bar_color": null,
      "description_width": "initial"
     }
    },
    "59c1f17c29264d028232f407d9f99f00": {
     "model_module": "@jupyter-widgets/base",
     "model_name": "LayoutModel",
     "state": {
      "_model_module": "@jupyter-widgets/base",
      "_model_module_version": "1.2.0",
      "_model_name": "LayoutModel",
      "_view_count": null,
      "_view_module": "@jupyter-widgets/base",
      "_view_module_version": "1.2.0",
      "_view_name": "LayoutView",
      "align_content": null,
      "align_items": null,
      "align_self": null,
      "border": null,
      "bottom": null,
      "display": null,
      "flex": null,
      "flex_flow": null,
      "grid_area": null,
      "grid_auto_columns": null,
      "grid_auto_flow": null,
      "grid_auto_rows": null,
      "grid_column": null,
      "grid_gap": null,
      "grid_row": null,
      "grid_template_areas": null,
      "grid_template_columns": null,
      "grid_template_rows": null,
      "height": null,
      "justify_content": null,
      "justify_items": null,
      "left": null,
      "margin": null,
      "max_height": null,
      "max_width": null,
      "min_height": null,
      "min_width": null,
      "object_fit": null,
      "object_position": null,
      "order": null,
      "overflow": null,
      "overflow_x": null,
      "overflow_y": null,
      "padding": null,
      "right": null,
      "top": null,
      "visibility": null,
      "width": null
     }
    },
    "5d5f201febcd4760b0e66cca9cc0d340": {
     "model_module": "@jupyter-widgets/base",
     "model_name": "LayoutModel",
     "state": {
      "_model_module": "@jupyter-widgets/base",
      "_model_module_version": "1.2.0",
      "_model_name": "LayoutModel",
      "_view_count": null,
      "_view_module": "@jupyter-widgets/base",
      "_view_module_version": "1.2.0",
      "_view_name": "LayoutView",
      "align_content": null,
      "align_items": null,
      "align_self": null,
      "border": null,
      "bottom": null,
      "display": null,
      "flex": null,
      "flex_flow": null,
      "grid_area": null,
      "grid_auto_columns": null,
      "grid_auto_flow": null,
      "grid_auto_rows": null,
      "grid_column": null,
      "grid_gap": null,
      "grid_row": null,
      "grid_template_areas": null,
      "grid_template_columns": null,
      "grid_template_rows": null,
      "height": null,
      "justify_content": null,
      "justify_items": null,
      "left": null,
      "margin": null,
      "max_height": null,
      "max_width": null,
      "min_height": null,
      "min_width": null,
      "object_fit": null,
      "object_position": null,
      "order": null,
      "overflow": null,
      "overflow_x": null,
      "overflow_y": null,
      "padding": null,
      "right": null,
      "top": null,
      "visibility": null,
      "width": null
     }
    },
    "6df13e943ebf4a89a841b6215416e033": {
     "model_module": "@jupyter-widgets/base",
     "model_name": "LayoutModel",
     "state": {
      "_model_module": "@jupyter-widgets/base",
      "_model_module_version": "1.2.0",
      "_model_name": "LayoutModel",
      "_view_count": null,
      "_view_module": "@jupyter-widgets/base",
      "_view_module_version": "1.2.0",
      "_view_name": "LayoutView",
      "align_content": null,
      "align_items": null,
      "align_self": null,
      "border": null,
      "bottom": null,
      "display": null,
      "flex": null,
      "flex_flow": null,
      "grid_area": null,
      "grid_auto_columns": null,
      "grid_auto_flow": null,
      "grid_auto_rows": null,
      "grid_column": null,
      "grid_gap": null,
      "grid_row": null,
      "grid_template_areas": null,
      "grid_template_columns": null,
      "grid_template_rows": null,
      "height": null,
      "justify_content": null,
      "justify_items": null,
      "left": null,
      "margin": null,
      "max_height": null,
      "max_width": null,
      "min_height": null,
      "min_width": null,
      "object_fit": null,
      "object_position": null,
      "order": null,
      "overflow": null,
      "overflow_x": null,
      "overflow_y": null,
      "padding": null,
      "right": null,
      "top": null,
      "visibility": null,
      "width": null
     }
    },
    "7c53b5e89cde467ebec95d259d1bcfb5": {
     "model_module": "@jupyter-widgets/base",
     "model_name": "LayoutModel",
     "state": {
      "_model_module": "@jupyter-widgets/base",
      "_model_module_version": "1.2.0",
      "_model_name": "LayoutModel",
      "_view_count": null,
      "_view_module": "@jupyter-widgets/base",
      "_view_module_version": "1.2.0",
      "_view_name": "LayoutView",
      "align_content": null,
      "align_items": null,
      "align_self": null,
      "border": null,
      "bottom": null,
      "display": null,
      "flex": null,
      "flex_flow": null,
      "grid_area": null,
      "grid_auto_columns": null,
      "grid_auto_flow": null,
      "grid_auto_rows": null,
      "grid_column": null,
      "grid_gap": null,
      "grid_row": null,
      "grid_template_areas": null,
      "grid_template_columns": null,
      "grid_template_rows": null,
      "height": null,
      "justify_content": null,
      "justify_items": null,
      "left": null,
      "margin": null,
      "max_height": null,
      "max_width": null,
      "min_height": null,
      "min_width": null,
      "object_fit": null,
      "object_position": null,
      "order": null,
      "overflow": null,
      "overflow_x": null,
      "overflow_y": null,
      "padding": null,
      "right": null,
      "top": null,
      "visibility": null,
      "width": null
     }
    },
    "7c9f7e358ba642b6aae52febb593b0e8": {
     "model_module": "@jupyter-widgets/base",
     "model_name": "LayoutModel",
     "state": {
      "_model_module": "@jupyter-widgets/base",
      "_model_module_version": "1.2.0",
      "_model_name": "LayoutModel",
      "_view_count": null,
      "_view_module": "@jupyter-widgets/base",
      "_view_module_version": "1.2.0",
      "_view_name": "LayoutView",
      "align_content": null,
      "align_items": null,
      "align_self": null,
      "border": null,
      "bottom": null,
      "display": null,
      "flex": null,
      "flex_flow": null,
      "grid_area": null,
      "grid_auto_columns": null,
      "grid_auto_flow": null,
      "grid_auto_rows": null,
      "grid_column": null,
      "grid_gap": null,
      "grid_row": null,
      "grid_template_areas": null,
      "grid_template_columns": null,
      "grid_template_rows": null,
      "height": null,
      "justify_content": null,
      "justify_items": null,
      "left": null,
      "margin": null,
      "max_height": null,
      "max_width": null,
      "min_height": null,
      "min_width": null,
      "object_fit": null,
      "object_position": null,
      "order": null,
      "overflow": null,
      "overflow_x": null,
      "overflow_y": null,
      "padding": null,
      "right": null,
      "top": null,
      "visibility": null,
      "width": null
     }
    },
    "9354f81393bd45bfb2c0bc3763c2d85b": {
     "model_module": "@jupyter-widgets/controls",
     "model_name": "HBoxModel",
     "state": {
      "_dom_classes": [],
      "_model_module": "@jupyter-widgets/controls",
      "_model_module_version": "1.5.0",
      "_model_name": "HBoxModel",
      "_view_count": null,
      "_view_module": "@jupyter-widgets/controls",
      "_view_module_version": "1.5.0",
      "_view_name": "HBoxView",
      "box_style": "",
      "children": [
       "IPY_MODEL_2d5eb08b6e65487c831c3971c7d8347c",
       "IPY_MODEL_2166936e75c84957b7b43f43fbea72af"
      ],
      "layout": "IPY_MODEL_9ac000c4e1834e89a15cb6e584042e15"
     }
    },
    "96fc2033f84a4ed8b197682287e891ae": {
     "model_module": "@jupyter-widgets/controls",
     "model_name": "ProgressStyleModel",
     "state": {
      "_model_module": "@jupyter-widgets/controls",
      "_model_module_version": "1.5.0",
      "_model_name": "ProgressStyleModel",
      "_view_count": null,
      "_view_module": "@jupyter-widgets/base",
      "_view_module_version": "1.2.0",
      "_view_name": "StyleView",
      "bar_color": null,
      "description_width": "initial"
     }
    },
    "9ac000c4e1834e89a15cb6e584042e15": {
     "model_module": "@jupyter-widgets/base",
     "model_name": "LayoutModel",
     "state": {
      "_model_module": "@jupyter-widgets/base",
      "_model_module_version": "1.2.0",
      "_model_name": "LayoutModel",
      "_view_count": null,
      "_view_module": "@jupyter-widgets/base",
      "_view_module_version": "1.2.0",
      "_view_name": "LayoutView",
      "align_content": null,
      "align_items": null,
      "align_self": null,
      "border": null,
      "bottom": null,
      "display": null,
      "flex": null,
      "flex_flow": null,
      "grid_area": null,
      "grid_auto_columns": null,
      "grid_auto_flow": null,
      "grid_auto_rows": null,
      "grid_column": null,
      "grid_gap": null,
      "grid_row": null,
      "grid_template_areas": null,
      "grid_template_columns": null,
      "grid_template_rows": null,
      "height": null,
      "justify_content": null,
      "justify_items": null,
      "left": null,
      "margin": null,
      "max_height": null,
      "max_width": null,
      "min_height": null,
      "min_width": null,
      "object_fit": null,
      "object_position": null,
      "order": null,
      "overflow": null,
      "overflow_x": null,
      "overflow_y": null,
      "padding": null,
      "right": null,
      "top": null,
      "visibility": null,
      "width": null
     }
    },
    "c775ec1c1a5e43d5b40f2c122142ecba": {
     "model_module": "@jupyter-widgets/controls",
     "model_name": "FloatProgressModel",
     "state": {
      "_dom_classes": [],
      "_model_module": "@jupyter-widgets/controls",
      "_model_module_version": "1.5.0",
      "_model_name": "FloatProgressModel",
      "_view_count": null,
      "_view_module": "@jupyter-widgets/controls",
      "_view_module_version": "1.5.0",
      "_view_name": "ProgressView",
      "bar_style": "success",
      "description": "",
      "description_tooltip": null,
      "layout": "IPY_MODEL_6df13e943ebf4a89a841b6215416e033",
      "max": 28881,
      "min": 0,
      "orientation": "horizontal",
      "style": "IPY_MODEL_514e8c786ce7437793866641a1adff3b",
      "value": 28881
     }
    },
    "cebe2bfcc4e74c51b8062791720573b8": {
     "model_module": "@jupyter-widgets/controls",
     "model_name": "DescriptionStyleModel",
     "state": {
      "_model_module": "@jupyter-widgets/controls",
      "_model_module_version": "1.5.0",
      "_model_name": "DescriptionStyleModel",
      "_view_count": null,
      "_view_module": "@jupyter-widgets/base",
      "_view_module_version": "1.2.0",
      "_view_name": "StyleView",
      "description_width": ""
     }
    },
    "d20f6c7155574576a8c1340410f781fa": {
     "model_module": "@jupyter-widgets/controls",
     "model_name": "HTMLModel",
     "state": {
      "_dom_classes": [],
      "_model_module": "@jupyter-widgets/controls",
      "_model_module_version": "1.5.0",
      "_model_name": "HTMLModel",
      "_view_count": null,
      "_view_module": "@jupyter-widgets/controls",
      "_view_module_version": "1.5.0",
      "_view_name": "HTMLView",
      "description": "",
      "description_tooltip": null,
      "layout": "IPY_MODEL_5d5f201febcd4760b0e66cca9cc0d340",
      "placeholder": "​",
      "style": "IPY_MODEL_15c489ba157d464fb085fec43eb573bf",
      "value": " 29696/? [00:02&lt;00:00, 10644.93it/s]"
     }
    },
    "f1d46bfa08184459b19d1ef1071b6c5a": {
     "model_module": "@jupyter-widgets/base",
     "model_name": "LayoutModel",
     "state": {
      "_model_module": "@jupyter-widgets/base",
      "_model_module_version": "1.2.0",
      "_model_name": "LayoutModel",
      "_view_count": null,
      "_view_module": "@jupyter-widgets/base",
      "_view_module_version": "1.2.0",
      "_view_name": "LayoutView",
      "align_content": null,
      "align_items": null,
      "align_self": null,
      "border": null,
      "bottom": null,
      "display": null,
      "flex": null,
      "flex_flow": null,
      "grid_area": null,
      "grid_auto_columns": null,
      "grid_auto_flow": null,
      "grid_auto_rows": null,
      "grid_column": null,
      "grid_gap": null,
      "grid_row": null,
      "grid_template_areas": null,
      "grid_template_columns": null,
      "grid_template_rows": null,
      "height": null,
      "justify_content": null,
      "justify_items": null,
      "left": null,
      "margin": null,
      "max_height": null,
      "max_width": null,
      "min_height": null,
      "min_width": null,
      "object_fit": null,
      "object_position": null,
      "order": null,
      "overflow": null,
      "overflow_x": null,
      "overflow_y": null,
      "padding": null,
      "right": null,
      "top": null,
      "visibility": null,
      "width": null
     }
    },
    "f67424fff8454928ba6ec610455a9261": {
     "model_module": "@jupyter-widgets/controls",
     "model_name": "HTMLModel",
     "state": {
      "_dom_classes": [],
      "_model_module": "@jupyter-widgets/controls",
      "_model_module_version": "1.5.0",
      "_model_name": "HTMLModel",
      "_view_count": null,
      "_view_module": "@jupyter-widgets/controls",
      "_view_module_version": "1.5.0",
      "_view_name": "HTMLView",
      "description": "",
      "description_tooltip": null,
      "layout": "IPY_MODEL_18ee72c2f26c496abc5610c04a24bd3a",
      "placeholder": "​",
      "style": "IPY_MODEL_2e835485bae540e88519f287c084fd11",
      "value": " 1649664/? [00:01&lt;00:00, 1071103.79it/s]"
     }
    },
    "f81df99be24c49da979f47e601924f91": {
     "model_module": "@jupyter-widgets/controls",
     "model_name": "FloatProgressModel",
     "state": {
      "_dom_classes": [],
      "_model_module": "@jupyter-widgets/controls",
      "_model_module_version": "1.5.0",
      "_model_name": "FloatProgressModel",
      "_view_count": null,
      "_view_module": "@jupyter-widgets/controls",
      "_view_module_version": "1.5.0",
      "_view_name": "ProgressView",
      "bar_style": "success",
      "description": "",
      "description_tooltip": null,
      "layout": "IPY_MODEL_36914b219a0d4ec4bdb8cdf82ebe2adf",
      "max": 9912422,
      "min": 0,
      "orientation": "horizontal",
      "style": "IPY_MODEL_583760fb36454f1eac591c8b0c93f567",
      "value": 9912422
     }
    }
   }
  }
 },
 "nbformat": 4,
 "nbformat_minor": 4
}
