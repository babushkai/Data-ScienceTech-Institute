{
 "cells": [
  {
   "cell_type": "markdown",
   "metadata": {
    "id": "Zt3nY3xZgC-Q"
   },
   "source": [
    "# Autograd: automatic differentiation\n",
    "\n",
    "When executing tensor operations, PyTorch can automatically construct on-the-fly the graph of operations to compute the gradient of any quantity with respect to any tensor involved.\n",
    "\n",
    "More information on autotomatic differentiation in Pytorch [here](https://pytorch.org/tutorials/beginner/blitz/autograd_tutorial.html#sphx-glr-beginner-blitz-autograd-tutorial-py)"
   ]
  },
  {
   "cell_type": "markdown",
   "metadata": {
    "id": "FznlXGW9NvPq"
   },
   "source": [
    "## Visualizing the computational graph"
   ]
  },
  {
   "cell_type": "code",
   "execution_count": 1,
   "metadata": {
    "executionInfo": {
     "elapsed": 3336,
     "status": "ok",
     "timestamp": 1618173478110,
     "user": {
      "displayName": "Lionel Fillatre",
      "photoUrl": "",
      "userId": "14463393848879581998"
     },
     "user_tz": -120
    },
    "id": "Hh6cps5cgC9g"
   },
   "outputs": [],
   "source": [
    "import matplotlib.pyplot as plt\n",
    "%matplotlib inline\n",
    "import torch"
   ]
  },
  {
   "cell_type": "markdown",
   "metadata": {
    "id": "UUvKk98Snblr"
   },
   "source": [
    "PyTorchViz is a small package to create visualizations of PyTorch execution graphs and traces."
   ]
  },
  {
   "cell_type": "code",
   "execution_count": 3,
   "metadata": {
    "colab": {
     "base_uri": "https://localhost:8080/",
     "height": 275
    },
    "executionInfo": {
     "elapsed": 7689,
     "status": "ok",
     "timestamp": 1602007526500,
     "user": {
      "displayName": "Lionel Fillatre",
      "photoUrl": "",
      "userId": "14463393848879581998"
     },
     "user_tz": -120
    },
    "id": "_V6Sd1VEnKxQ",
    "outputId": "15f72879-7e71-41f9-85df-17de2c456dd7"
   },
   "outputs": [
    {
     "name": "stdout",
     "output_type": "stream",
     "text": [
      "Collecting torchviz"
     ]
    },
    {
     "name": "stderr",
     "output_type": "stream",
     "text": [
      "ERROR: pip's dependency resolver does not currently take into account all the packages that are installed. This behaviour is the source of the following dependency conflicts.\n",
      "mxnet 1.7.0.post1 requires graphviz<0.9.0,>=0.8.1, but you have graphviz 0.16 which is incompatible.\n",
      "mxnet 1.7.0.post1 requires numpy<1.17.0,>=1.8.2, but you have numpy 1.20.2 which is incompatible.\n",
      "mxnet 1.7.0.post1 requires requests<2.19.0,>=2.18.4, but you have requests 2.25.1 which is incompatible.\n"
     ]
    },
    {
     "name": "stdout",
     "output_type": "stream",
     "text": [
      "\n",
      "  Using cached torchviz-0.0.2-py3-none-any.whl\n",
      "Collecting graphviz\n",
      "  Using cached graphviz-0.16-py2.py3-none-any.whl (19 kB)\n",
      "Requirement already satisfied: torch in c:\\users\\daisu\\anaconda3\\lib\\site-packages (from torchviz) (1.7.1)\n",
      "Requirement already satisfied: typing_extensions in c:\\users\\daisu\\anaconda3\\lib\\site-packages (from torch->torchviz) (3.7.4.3)\n",
      "Requirement already satisfied: numpy in c:\\users\\daisu\\anaconda3\\lib\\site-packages (from torch->torchviz) (1.20.2)\n",
      "Installing collected packages: graphviz, torchviz\n",
      "Successfully installed graphviz-0.16 torchviz-0.0.2\n"
     ]
    }
   ],
   "source": [
    "!pip install torchviz"
   ]
  },
  {
   "cell_type": "code",
   "execution_count": 26,
   "metadata": {},
   "outputs": [
    {
     "name": "stdout",
     "output_type": "stream",
     "text": [
      "Requirement already satisfied: graphviz in c:\\users\\daisu\\anaconda3\\lib\\site-packages (0.16)\n"
     ]
    }
   ],
   "source": [
    "!pip install graphviz"
   ]
  },
  {
   "cell_type": "code",
   "execution_count": 2,
   "metadata": {
    "id": "Htgg-1C1ChI1"
   },
   "outputs": [],
   "source": [
    "import torchviz"
   ]
  },
  {
   "cell_type": "markdown",
   "metadata": {
    "id": "wYsJ94KYrquH"
   },
   "source": [
    "Inn order to enable automatic differentiation, PyTorch keeps track of all operations involving tensors for which the gradient may need to be computed (i.e., require_grad is True). The operations are recorded as a directed graph. \n",
    "\n",
    "Torch tensors are recalled [here](https://pytorch.org/docs/stable/tensors.html) \n",
    "\n"
   ]
  },
  {
   "cell_type": "code",
   "execution_count": 3,
   "metadata": {
    "colab": {
     "base_uri": "https://localhost:8080/",
     "height": 51
    },
    "executionInfo": {
     "elapsed": 7678,
     "status": "ok",
     "timestamp": 1602007526501,
     "user": {
      "displayName": "Lionel Fillatre",
      "photoUrl": "",
      "userId": "14463393848879581998"
     },
     "user_tz": -120
    },
    "id": "xJQfkBHxsPLF",
    "outputId": "ca67e13e-33e2-41a1-91ae-f3135561b94c"
   },
   "outputs": [
    {
     "name": "stdout",
     "output_type": "stream",
     "text": [
      "tensor([[1., 1.],\n",
      "        [1., 1.]])\n"
     ]
    }
   ],
   "source": [
    "x = torch.ones(2, 2)\n",
    "print(x)"
   ]
  },
  {
   "cell_type": "markdown",
   "metadata": {
    "id": "onirJsB5gC-R"
   },
   "source": [
    "A Tensor has a Boolean field *requires_grad*, set to False by default, which states if PyTorch should build the graph of operations so that gradients wrt to it can be computed."
   ]
  },
  {
   "cell_type": "code",
   "execution_count": 4,
   "metadata": {
    "colab": {
     "base_uri": "https://localhost:8080/",
     "height": 34
    },
    "executionInfo": {
     "elapsed": 7672,
     "status": "ok",
     "timestamp": 1602007526502,
     "user": {
      "displayName": "Lionel Fillatre",
      "photoUrl": "",
      "userId": "14463393848879581998"
     },
     "user_tz": -120
    },
    "id": "7KOHka8fgC-R",
    "outputId": "aa37720a-4ee4-4e81-88e0-73498ec40cce"
   },
   "outputs": [
    {
     "data": {
      "text/plain": [
       "False"
      ]
     },
     "execution_count": 4,
     "metadata": {},
     "output_type": "execute_result"
    }
   ],
   "source": [
    "x.requires_grad"
   ]
  },
  {
   "cell_type": "code",
   "execution_count": 5,
   "metadata": {
    "colab": {
     "base_uri": "https://localhost:8080/",
     "height": 51
    },
    "executionInfo": {
     "elapsed": 7664,
     "status": "ok",
     "timestamp": 1602007526502,
     "user": {
      "displayName": "Lionel Fillatre",
      "photoUrl": "",
      "userId": "14463393848879581998"
     },
     "user_tz": -120
    },
    "id": "qCupY_tygC-S",
    "outputId": "ea938f40-dc7c-4587-8416-853cb171d51b"
   },
   "outputs": [
    {
     "data": {
      "text/plain": [
       "array([[1., 1.],\n",
       "       [1., 1.]], dtype=float32)"
      ]
     },
     "execution_count": 5,
     "metadata": {},
     "output_type": "execute_result"
    }
   ],
   "source": [
    "x.numpy()"
   ]
  },
  {
   "cell_type": "code",
   "execution_count": 6,
   "metadata": {
    "colab": {
     "base_uri": "https://localhost:8080/",
     "height": 34
    },
    "executionInfo": {
     "elapsed": 7657,
     "status": "ok",
     "timestamp": 1602007526503,
     "user": {
      "displayName": "Lionel Fillatre",
      "photoUrl": "",
      "userId": "14463393848879581998"
     },
     "user_tz": -120
    },
    "id": "hWF-cjdugC-T",
    "outputId": "d43cb7ed-0435-46af-e828-da6b7a500a60"
   },
   "outputs": [
    {
     "data": {
      "text/plain": [
       "True"
      ]
     },
     "execution_count": 6,
     "metadata": {},
     "output_type": "execute_result"
    }
   ],
   "source": [
    "x.requires_grad_(True)\n",
    "x.requires_grad"
   ]
  },
  {
   "cell_type": "markdown",
   "metadata": {
    "id": "E8UvVzIDsgy-"
   },
   "source": [
    "### Question: The following cell gives an error. Why?"
   ]
  },
  {
   "cell_type": "code",
   "execution_count": 7,
   "metadata": {
    "colab": {
     "base_uri": "https://localhost:8080/",
     "height": 164
    },
    "executionInfo": {
     "elapsed": 7668,
     "status": "error",
     "timestamp": 1602007526522,
     "user": {
      "displayName": "Lionel Fillatre",
      "photoUrl": "",
      "userId": "14463393848879581998"
     },
     "user_tz": -120
    },
    "id": "-3hhJbzSsbKT",
    "outputId": "934f1719-3406-4827-e58d-013dd4285e85"
   },
   "outputs": [
    {
     "ename": "RuntimeError",
     "evalue": "Can't call numpy() on Tensor that requires grad. Use tensor.detach().numpy() instead.",
     "output_type": "error",
     "traceback": [
      "\u001b[1;31m---------------------------------------------------------------------------\u001b[0m",
      "\u001b[1;31mRuntimeError\u001b[0m                              Traceback (most recent call last)",
      "\u001b[1;32m<ipython-input-7-2527552080a3>\u001b[0m in \u001b[0;36m<module>\u001b[1;34m\u001b[0m\n\u001b[1;32m----> 1\u001b[1;33m \u001b[0mx\u001b[0m\u001b[1;33m.\u001b[0m\u001b[0mnumpy\u001b[0m\u001b[1;33m(\u001b[0m\u001b[1;33m)\u001b[0m\u001b[1;33m\u001b[0m\u001b[1;33m\u001b[0m\u001b[0m\n\u001b[0m",
      "\u001b[1;31mRuntimeError\u001b[0m: Can't call numpy() on Tensor that requires grad. Use tensor.detach().numpy() instead."
     ]
    }
   ],
   "source": [
    "x.numpy()"
   ]
  },
  {
   "cell_type": "markdown",
   "metadata": {
    "id": "ZbK4X5CFr0f2"
   },
   "source": [
    "The detach() method constructs a new view on a tensor which is declared not to need gradients, i.e., it is to be excluded from further tracking of operations, and therefore the subgraph involving this view is not recorded."
   ]
  },
  {
   "cell_type": "code",
   "execution_count": null,
   "metadata": {
    "colab": {
     "base_uri": "https://localhost:8080/",
     "height": 51
    },
    "executionInfo": {
     "elapsed": 1061,
     "status": "ok",
     "timestamp": 1602007611403,
     "user": {
      "displayName": "Lionel Fillatre",
      "photoUrl": "",
      "userId": "14463393848879581998"
     },
     "user_tz": -120
    },
    "id": "4tbWCPc5gC-T",
    "outputId": "d9d6b5d8-56e0-4786-8769-49d3f94b098b"
   },
   "outputs": [],
   "source": [
    "x.detach().numpy()"
   ]
  },
  {
   "cell_type": "code",
   "execution_count": null,
   "metadata": {
    "colab": {
     "base_uri": "https://localhost:8080/",
     "height": 51
    },
    "executionInfo": {
     "elapsed": 1633,
     "status": "ok",
     "timestamp": 1602007611983,
     "user": {
      "displayName": "Lionel Fillatre",
      "photoUrl": "",
      "userId": "14463393848879581998"
     },
     "user_tz": -120
    },
    "id": "raHZBNwMgC-U",
    "outputId": "7151528c-df76-4926-9a18-c3fa413e746f"
   },
   "outputs": [],
   "source": [
    "x.data.numpy() # Torch.data returns the \"data\" (array_like) stored in the tensor"
   ]
  },
  {
   "cell_type": "code",
   "execution_count": null,
   "metadata": {
    "colab": {
     "base_uri": "https://localhost:8080/",
     "height": 34
    },
    "executionInfo": {
     "elapsed": 1628,
     "status": "ok",
     "timestamp": 1602007611984,
     "user": {
      "displayName": "Lionel Fillatre",
      "photoUrl": "",
      "userId": "14463393848879581998"
     },
     "user_tz": -120
    },
    "id": "6TWE8h-ygC-V",
    "outputId": "027eb32c-6ecd-4890-cff9-6a6986245fe6"
   },
   "outputs": [],
   "source": [
    "x.requires_grad"
   ]
  },
  {
   "cell_type": "code",
   "execution_count": null,
   "metadata": {
    "colab": {
     "base_uri": "https://localhost:8080/",
     "height": 188
    },
    "executionInfo": {
     "elapsed": 1623,
     "status": "ok",
     "timestamp": 1602007611984,
     "user": {
      "displayName": "Lionel Fillatre",
      "photoUrl": "",
      "userId": "14463393848879581998"
     },
     "user_tz": -120
    },
    "id": "gACeHMOegC-W",
    "outputId": "6b49a988-7e6f-43da-a08b-a715e5e20f93"
   },
   "outputs": [],
   "source": [
    "y = x + 2\n",
    "print(y)\n",
    "torchviz.make_dot(y)"
   ]
  },
  {
   "cell_type": "markdown",
   "metadata": {
    "id": "GnSYGWNcgC-W"
   },
   "source": [
    "**Broadcasting**\n",
    "\n",
    "Recall: Broadcasting **automatically** expands dimensions by replicating coefficients, when it is necessary to perform operations.\n",
    "\n",
    "1. If one of the tensors has fewer dimensions than the other, it is reshaped by adding as many dimensions of size 1 as necessary in the front; then\n",
    "2. for every mismatch, if one of the two tensor is of size one, it is expanded along this axis by replicating  coefficients.\n",
    "\n",
    "If there is a tensor size mismatch for one of the dimension and neither of them is one, the operation fails."
   ]
  },
  {
   "cell_type": "code",
   "execution_count": null,
   "metadata": {
    "colab": {
     "base_uri": "https://localhost:8080/",
     "height": 204
    },
    "executionInfo": {
     "elapsed": 1618,
     "status": "ok",
     "timestamp": 1602007611985,
     "user": {
      "displayName": "Lionel Fillatre",
      "photoUrl": "",
      "userId": "14463393848879581998"
     },
     "user_tz": -120
    },
    "id": "2CtszgyZgC-X",
    "outputId": "f500df87-9ec9-4284-f0dd-8caaa293e199"
   },
   "outputs": [],
   "source": [
    "A = torch.tensor([[1.], [2.], [3.], [4.]])\n",
    "print(A.size())\n",
    "print(A)\n",
    "B = torch.tensor([[5., -5., 5., -5., 5.]])\n",
    "print(B.size())\n",
    "print(B)\n",
    "C = A + B\n",
    "print(C)"
   ]
  },
  {
   "cell_type": "markdown",
   "metadata": {
    "id": "cVCkQQeRgC-Y"
   },
   "source": [
    "Back to Autograd!"
   ]
  },
  {
   "cell_type": "code",
   "execution_count": null,
   "metadata": {
    "colab": {
     "base_uri": "https://localhost:8080/",
     "height": 51
    },
    "executionInfo": {
     "elapsed": 1613,
     "status": "ok",
     "timestamp": 1602007611986,
     "user": {
      "displayName": "Lionel Fillatre",
      "photoUrl": "",
      "userId": "14463393848879581998"
     },
     "user_tz": -120
    },
    "id": "hja6OM24gC-b",
    "outputId": "602f5324-e656-4084-f754-84c916006503"
   },
   "outputs": [],
   "source": [
    "x = torch.ones(2, 2)\n",
    "x.requires_grad_(True)\n",
    "y = x+2\n",
    "print(y)"
   ]
  },
  {
   "cell_type": "code",
   "execution_count": null,
   "metadata": {
    "colab": {
     "base_uri": "https://localhost:8080/",
     "height": 34
    },
    "executionInfo": {
     "elapsed": 1608,
     "status": "ok",
     "timestamp": 1602007611986,
     "user": {
      "displayName": "Lionel Fillatre",
      "photoUrl": "",
      "userId": "14463393848879581998"
     },
     "user_tz": -120
    },
    "id": "NI3ikwlogC-Y",
    "outputId": "5d8c1972-8875-45f4-e54f-d598e4dd3140"
   },
   "outputs": [],
   "source": [
    "y.requires_grad"
   ]
  },
  {
   "cell_type": "markdown",
   "metadata": {
    "id": "w5XJD5O13vPw"
   },
   "source": [
    "Tensor and Function are interconnected and build up an acyclic graph, that encodes a complete history of computation. \n",
    "\n",
    "Each tensor has a .grad_fn attribute that references a Function that has created the Tensor (except for Tensors created by the user - their grad_fn is None)."
   ]
  },
  {
   "cell_type": "code",
   "execution_count": null,
   "metadata": {
    "colab": {
     "base_uri": "https://localhost:8080/",
     "height": 256
    },
    "executionInfo": {
     "elapsed": 1603,
     "status": "ok",
     "timestamp": 1602007611987,
     "user": {
      "displayName": "Lionel Fillatre",
      "photoUrl": "",
      "userId": "14463393848879581998"
     },
     "user_tz": -120
    },
    "id": "EOt8d0S0gC-Z",
    "outputId": "afa1a72b-90ed-49c0-b09b-c214ad64ab80"
   },
   "outputs": [],
   "source": [
    "print(x)\n",
    "print(x.grad_fn)\n",
    "print(y)\n",
    "print(y.grad_fn)\n",
    "torchviz.make_dot(y) "
   ]
  },
  {
   "cell_type": "code",
   "execution_count": null,
   "metadata": {
    "colab": {
     "base_uri": "https://localhost:8080/",
     "height": 340
    },
    "executionInfo": {
     "elapsed": 1598,
     "status": "ok",
     "timestamp": 1602007611987,
     "user": {
      "displayName": "Lionel Fillatre",
      "photoUrl": "",
      "userId": "14463393848879581998"
     },
     "user_tz": -120
    },
    "id": "x5vVEet32cC_",
    "outputId": "7ab54044-86e3-44dc-924a-c42fcd8df0ec"
   },
   "outputs": [],
   "source": [
    "z = y * y * 3\n",
    "print(z)\n",
    "torchviz.make_dot(z) "
   ]
  },
  {
   "cell_type": "code",
   "execution_count": null,
   "metadata": {
    "colab": {
     "base_uri": "https://localhost:8080/",
     "height": 399
    },
    "executionInfo": {
     "elapsed": 1916,
     "status": "ok",
     "timestamp": 1602007612320,
     "user": {
      "displayName": "Lionel Fillatre",
      "photoUrl": "",
      "userId": "14463393848879581998"
     },
     "user_tz": -120
    },
    "id": "kQlr3Z-HgC-b",
    "outputId": "7feed6f4-e514-42ed-ce76-e177bfecdc0d"
   },
   "outputs": [],
   "source": [
    "out = z.mean()\n",
    "print(out)\n",
    "torchviz.make_dot(out) "
   ]
  },
  {
   "cell_type": "markdown",
   "metadata": {
    "id": "mrBx5oslgC-c"
   },
   "source": [
    "After the computation is finished, i.e. _forward pass_, you can call ```.backward()``` and have all the gradients computed automatically."
   ]
  },
  {
   "cell_type": "code",
   "execution_count": null,
   "metadata": {
    "id": "g5AzQ3qV5oti"
   },
   "outputs": [],
   "source": [
    "out.backward()"
   ]
  },
  {
   "cell_type": "markdown",
   "metadata": {
    "id": "niaze4W4gC-d"
   },
   "source": [
    "The gradients w.r.t. this variable is accumulated into ```.grad```."
   ]
  },
  {
   "cell_type": "code",
   "execution_count": null,
   "metadata": {
    "colab": {
     "base_uri": "https://localhost:8080/",
     "height": 51
    },
    "executionInfo": {
     "elapsed": 1894,
     "status": "ok",
     "timestamp": 1602007612321,
     "user": {
      "displayName": "Lionel Fillatre",
      "photoUrl": "",
      "userId": "14463393848879581998"
     },
     "user_tz": -120
    },
    "id": "OiDnd1jXgC-d",
    "outputId": "ac80cec3-1e2d-42ca-b447-8d4417ab9008"
   },
   "outputs": [],
   "source": [
    "print(x.grad)"
   ]
  },
  {
   "cell_type": "markdown",
   "metadata": {},
   "source": [
    "$\\frac{\\partial out}{\\partial x} = \\frac{1}{4} \\sum_{i=1}^4 (x_i+2)^2 \\times 3$"
   ]
  },
  {
   "cell_type": "markdown",
   "metadata": {
    "id": "7kJrfEsF29yh"
   },
   "source": [
    "### Question: Explain mathematically the value of \"x.grad\"\n"
   ]
  },
  {
   "cell_type": "markdown",
   "metadata": {
    "id": "UwJCU8Uo4ZvD"
   },
   "source": [
    "[Why can I not see .grad of an intermediate variable?](https://discuss.pytorch.org/t/why-cant-i-see-grad-of-an-intermediate-variable/94)\n",
    "\n",
    "Gradients are only retained for leaf variables. \n",
    "\n",
    "Non-leaf variables’ gradients are not retained to be inspected later. This was done by design, to save memory."
   ]
  },
  {
   "cell_type": "code",
   "execution_count": null,
   "metadata": {
    "colab": {
     "base_uri": "https://localhost:8080/",
     "height": 139
    },
    "executionInfo": {
     "elapsed": 1884,
     "status": "ok",
     "timestamp": 1602007612322,
     "user": {
      "displayName": "Lionel Fillatre",
      "photoUrl": "",
      "userId": "14463393848879581998"
     },
     "user_tz": -120
    },
    "id": "16KkidoigC-e",
    "outputId": "bac9a465-d5e6-4fe3-8148-b9f5e8e77b70"
   },
   "outputs": [],
   "source": [
    "print(y.grad)\n",
    "print(out.grad)"
   ]
  },
  {
   "cell_type": "code",
   "execution_count": null,
   "metadata": {
    "colab": {
     "base_uri": "https://localhost:8080/",
     "height": 433
    },
    "executionInfo": {
     "elapsed": 1861,
     "status": "ok",
     "timestamp": 1602007612323,
     "user": {
      "displayName": "Lionel Fillatre",
      "photoUrl": "",
      "userId": "14463393848879581998"
     },
     "user_tz": -120
    },
    "id": "YSb96GMy5IdW",
    "outputId": "83d43932-4208-4e1a-93a5-af0d64c5612c"
   },
   "outputs": [],
   "source": [
    "x = 2 * torch.ones(2, 2)\n",
    "print(x)\n",
    "x.requires_grad_(True)\n",
    "out = (x * x * x + 2 ).mean()\n",
    "print(out)\n",
    "torchviz.make_dot(out)"
   ]
  },
  {
   "cell_type": "code",
   "execution_count": null,
   "metadata": {
    "id": "AEPS2hMfgC-g"
   },
   "outputs": [],
   "source": [
    "out.backward(torch.tensor(2.0))"
   ]
  },
  {
   "cell_type": "markdown",
   "metadata": {
    "id": "_uzoqTqP7H2H"
   },
   "source": [
    "### Question: Explain mathematically the value of \"x.grad\" in the following cell"
   ]
  },
  {
   "cell_type": "code",
   "execution_count": null,
   "metadata": {
    "colab": {
     "base_uri": "https://localhost:8080/",
     "height": 51
    },
    "executionInfo": {
     "elapsed": 1831,
     "status": "ok",
     "timestamp": 1602007612324,
     "user": {
      "displayName": "Lionel Fillatre",
      "photoUrl": "",
      "userId": "14463393848879581998"
     },
     "user_tz": -120
    },
    "id": "ngiu74HUgC-g",
    "outputId": "56416b26-2f7f-467e-f09c-dc3417cbdfd0"
   },
   "outputs": [],
   "source": [
    "print(x.grad)"
   ]
  },
  {
   "cell_type": "markdown",
   "metadata": {
    "id": "ypBdAAq29Jcm"
   },
   "source": [
    "## How to compute the gradient when I want?\n",
    "\n"
   ]
  },
  {
   "cell_type": "code",
   "execution_count": null,
   "metadata": {
    "colab": {
     "base_uri": "https://localhost:8080/",
     "height": 51
    },
    "executionInfo": {
     "elapsed": 1823,
     "status": "ok",
     "timestamp": 1602007612325,
     "user": {
      "displayName": "Lionel Fillatre",
      "photoUrl": "",
      "userId": "14463393848879581998"
     },
     "user_tz": -120
    },
    "id": "0QxJzcmqgC-h",
    "outputId": "5fbae64e-9219-4ffc-ab77-5f36eefcfe41"
   },
   "outputs": [],
   "source": [
    "x = torch.ones(2, 2)\n",
    "x.requires_grad_(True)\n",
    "y = x+2\n",
    "z = 3 * y ** 2 \n",
    "out = z.mean()\n",
    "\n",
    "out.backward(retain_graph=True)\n",
    "\n",
    "print(x.grad)"
   ]
  },
  {
   "cell_type": "markdown",
   "metadata": {
    "id": "UPWKUoHo9rwC"
   },
   "source": [
    "Calling again the \"backward\" process does not launch an error"
   ]
  },
  {
   "cell_type": "code",
   "execution_count": null,
   "metadata": {
    "id": "SNbrrv30gC-l"
   },
   "outputs": [],
   "source": [
    "out.backward()"
   ]
  },
  {
   "cell_type": "code",
   "execution_count": null,
   "metadata": {
    "colab": {
     "base_uri": "https://localhost:8080/",
     "height": 51
    },
    "executionInfo": {
     "elapsed": 1811,
     "status": "ok",
     "timestamp": 1602007612326,
     "user": {
      "displayName": "Lionel Fillatre",
      "photoUrl": "",
      "userId": "14463393848879581998"
     },
     "user_tz": -120
    },
    "id": "20hB_GAkgC-i",
    "outputId": "218b063f-6853-445d-c63a-c9ece5dd15d6"
   },
   "outputs": [],
   "source": [
    "print(x.grad)"
   ]
  },
  {
   "cell_type": "code",
   "execution_count": null,
   "metadata": {
    "colab": {
     "base_uri": "https://localhost:8080/",
     "height": 34
    },
    "executionInfo": {
     "elapsed": 1804,
     "status": "ok",
     "timestamp": 1602007612326,
     "user": {
      "displayName": "Lionel Fillatre",
      "photoUrl": "",
      "userId": "14463393848879581998"
     },
     "user_tz": -120
    },
    "id": "gXuFJckx-FFf",
    "outputId": "985e10c1-4771-469f-b5b9-310ac7d35c32"
   },
   "outputs": [],
   "source": [
    "torch.autograd.grad(out, out, retain_graph=True)"
   ]
  },
  {
   "cell_type": "code",
   "execution_count": null,
   "metadata": {
    "colab": {
     "base_uri": "https://localhost:8080/",
     "height": 51
    },
    "executionInfo": {
     "elapsed": 1799,
     "status": "ok",
     "timestamp": 1602007612327,
     "user": {
      "displayName": "Lionel Fillatre",
      "photoUrl": "",
      "userId": "14463393848879581998"
     },
     "user_tz": -120
    },
    "id": "swHcxn-CgC-j",
    "outputId": "0567a9da-8abc-4fdc-d797-06c64e1c6372"
   },
   "outputs": [],
   "source": [
    "torch.autograd.grad(out, z, retain_graph=True)"
   ]
  },
  {
   "cell_type": "code",
   "execution_count": null,
   "metadata": {
    "colab": {
     "base_uri": "https://localhost:8080/",
     "height": 51
    },
    "executionInfo": {
     "elapsed": 1793,
     "status": "ok",
     "timestamp": 1602007612328,
     "user": {
      "displayName": "Lionel Fillatre",
      "photoUrl": "",
      "userId": "14463393848879581998"
     },
     "user_tz": -120
    },
    "id": "M_Ko7_y1gC-k",
    "outputId": "4978270a-b6ba-40d6-e317-f0d3913f6f77"
   },
   "outputs": [],
   "source": [
    "torch.autograd.grad(out, y, retain_graph=True)"
   ]
  },
  {
   "cell_type": "code",
   "execution_count": null,
   "metadata": {
    "id": "OvjmLzDAgC-m"
   },
   "outputs": [],
   "source": [
    "out.backward(torch.tensor(2.0), retain_graph=True)"
   ]
  },
  {
   "cell_type": "code",
   "execution_count": null,
   "metadata": {
    "colab": {
     "base_uri": "https://localhost:8080/",
     "height": 51
    },
    "executionInfo": {
     "elapsed": 1780,
     "status": "ok",
     "timestamp": 1602007612329,
     "user": {
      "displayName": "Lionel Fillatre",
      "photoUrl": "",
      "userId": "14463393848879581998"
     },
     "user_tz": -120
    },
    "id": "gctEXtYhgC-n",
    "outputId": "293af300-def3-4f5f-8fac-9bf0d5967b4c"
   },
   "outputs": [],
   "source": [
    "print(x.grad)"
   ]
  },
  {
   "cell_type": "markdown",
   "metadata": {
    "id": "vBtNQ8By_Aao"
   },
   "source": [
    "## A last example"
   ]
  },
  {
   "cell_type": "code",
   "execution_count": null,
   "metadata": {
    "colab": {
     "base_uri": "https://localhost:8080/",
     "height": 323
    },
    "executionInfo": {
     "elapsed": 1774,
     "status": "ok",
     "timestamp": 1602007612329,
     "user": {
      "displayName": "Lionel Fillatre",
      "photoUrl": "",
      "userId": "14463393848879581998"
     },
     "user_tz": -120
    },
    "id": "Q_gpAR_6l_BC",
    "outputId": "a951b17e-a91a-44c7-a270-8f05a14654ba"
   },
   "outputs": [],
   "source": [
    "x=torch.ones(10, requires_grad=True)\n",
    "\n",
    "y=x**2\n",
    "z=x**3\n",
    "r=(y+z).sum()\n",
    "\n",
    "r.backward()\n",
    "print(x.grad)\n",
    "torchviz.make_dot(r) "
   ]
  },
  {
   "cell_type": "markdown",
   "metadata": {
    "id": "kTN0-Pm0gC-o"
   },
   "source": [
    "## Gradient accumulation\n",
    "\n",
    "\n",
    "The gradients must be set to zero manually. Otherwise they will cumulate across several _.backward()_ calls. \n",
    "This accumulating behavior is desirable in particular to compute the gradient of a loss summed over several “mini-batches,” or the gradient of a sum of losses.\n"
   ]
  },
  {
   "cell_type": "code",
   "execution_count": null,
   "metadata": {
    "colab": {
     "base_uri": "https://localhost:8080/",
     "height": 34
    },
    "executionInfo": {
     "elapsed": 1766,
     "status": "ok",
     "timestamp": 1602007612330,
     "user": {
      "displayName": "Lionel Fillatre",
      "photoUrl": "",
      "userId": "14463393848879581998"
     },
     "user_tz": -120
    },
    "id": "ELCAEIdv_G3X",
    "outputId": "d13d780f-d391-4489-87c8-c5dcf42efecd"
   },
   "outputs": [],
   "source": [
    "x = torch.ones(1, 1,requires_grad = True)\n",
    "out = (x+1)**2\n",
    "print(out)"
   ]
  },
  {
   "cell_type": "code",
   "execution_count": null,
   "metadata": {
    "colab": {
     "base_uri": "https://localhost:8080/",
     "height": 68
    },
    "executionInfo": {
     "elapsed": 1757,
     "status": "ok",
     "timestamp": 1602007612330,
     "user": {
      "displayName": "Lionel Fillatre",
      "photoUrl": "",
      "userId": "14463393848879581998"
     },
     "user_tz": -120
    },
    "id": "lG7OEaY7gC-o",
    "outputId": "47cc63c6-cb3c-4c3f-e7e9-839cc7733686"
   },
   "outputs": [],
   "source": [
    "out.backward(torch.ones(1,1),retain_graph=True)\n",
    "print(x.grad)\n",
    "out.backward(2 * torch.ones(1,1),retain_graph=True)\n",
    "print(x.grad)\n",
    "out.backward(retain_graph=True)\n",
    "print(x.grad)"
   ]
  },
  {
   "cell_type": "code",
   "execution_count": null,
   "metadata": {
    "colab": {
     "base_uri": "https://localhost:8080/",
     "height": 34
    },
    "executionInfo": {
     "elapsed": 1751,
     "status": "ok",
     "timestamp": 1602007612331,
     "user": {
      "displayName": "Lionel Fillatre",
      "photoUrl": "",
      "userId": "14463393848879581998"
     },
     "user_tz": -120
    },
    "id": "64bGfnYegC-n",
    "outputId": "58a11854-6d01-4eef-a93d-a2e2bfa7a082"
   },
   "outputs": [],
   "source": [
    "# Manually zero the gradients after updating weights\n",
    "x.grad.data.zero_()"
   ]
  },
  {
   "cell_type": "code",
   "execution_count": null,
   "metadata": {
    "colab": {
     "base_uri": "https://localhost:8080/",
     "height": 68
    },
    "executionInfo": {
     "elapsed": 1745,
     "status": "ok",
     "timestamp": 1602007612332,
     "user": {
      "displayName": "Lionel Fillatre",
      "photoUrl": "",
      "userId": "14463393848879581998"
     },
     "user_tz": -120
    },
    "id": "-7XNSIw9gC-p",
    "outputId": "dbc909c7-21c6-43b2-a358-f2363f61a8ee"
   },
   "outputs": [],
   "source": [
    "out.backward(torch.ones(1,1),retain_graph=True)\n",
    "print(x.grad)\n",
    "x.grad.data.zero_()\n",
    "out.backward(2 * torch.ones(1,1),retain_graph=True)\n",
    "print(x.grad)\n",
    "x.grad.data.zero_()\n",
    "out.backward(retain_graph=True)\n",
    "print(x.grad)\n"
   ]
  },
  {
   "cell_type": "markdown",
   "metadata": {
    "id": "E-03ZcQggC-p"
   },
   "source": [
    "If you want to come back to the difference between detach and data see [Differences between .data and .detach](https://github.com/pytorch/pytorch/issues/6990)"
   ]
  },
  {
   "cell_type": "markdown",
   "metadata": {
    "id": "yTdzGEodgC-p"
   },
   "source": [
    "# Playing with a neural network in pytorch: non-linear regression"
   ]
  },
  {
   "cell_type": "markdown",
   "metadata": {
    "id": "VMoz9H5VuC5B"
   },
   "source": [
    "## Non-linear regression with a neural network"
   ]
  },
  {
   "cell_type": "markdown",
   "metadata": {
    "id": "cZsTaZ2NgC-z"
   },
   "source": [
    "An implementation of **(Batch) Gradient Descent** using the nn package. Here we have a super simple model with only one layer and no activation function!"
   ]
  },
  {
   "cell_type": "markdown",
   "metadata": {
    "id": "DDMmHyHmJfRC"
   },
   "source": [
    "Generate the dataset and visualize it."
   ]
  },
  {
   "cell_type": "code",
   "execution_count": null,
   "metadata": {},
   "outputs": [],
   "source": [
    "! jt -t monokai"
   ]
  },
  {
   "cell_type": "code",
   "execution_count": null,
   "metadata": {
    "colab": {
     "base_uri": "https://localhost:8080/",
     "height": 248
    },
    "executionInfo": {
     "elapsed": 2156,
     "status": "ok",
     "timestamp": 1602007612749,
     "user": {
      "displayName": "Lionel Fillatre",
      "photoUrl": "",
      "userId": "14463393848879581998"
     },
     "user_tz": -120
    },
    "id": "-mSHFwP337eD",
    "outputId": "eaa9108a-f88e-4309-94a9-9b4e520bfc9f"
   },
   "outputs": [],
   "source": [
    "from mpl_toolkits.mplot3d import Axes3D\n",
    "import matplotlib.pyplot as plt\n",
    "from matplotlib import cm\n",
    "from matplotlib.ticker import LinearLocator, FormatStrFormatter\n",
    "import numpy as np\n",
    "\n",
    "\n",
    "# Make data\n",
    "num_samples = 10\n",
    "X1 = np.linspace(-5, 5, num_samples) \n",
    "X2 = np.linspace(-5, 5, num_samples) \n",
    "X1grid, X2grid = np.meshgrid(X1, X2)\n",
    "Y = -(0.1*X1grid**2 + 3*np.sin(0.1*X2grid) + 0.1) \n",
    "\n",
    "#print(X1grid)\n",
    "#print(X2grid)\n",
    "#print(Y)\n",
    "\n",
    "# Plot the surface.\n",
    "fig = plt.figure()\n",
    "ax = fig.gca(projection='3d')\n",
    "surf = ax.plot_surface(X1grid, X2grid, Y, cmap=cm.coolwarm,\n",
    "                       linewidth=0, antialiased=False)\n",
    "\n",
    "# Add a color bar which maps values to colors.\n",
    "fig.colorbar(surf, shrink=0.5, aspect=5)\n",
    "plt.show()"
   ]
  },
  {
   "cell_type": "code",
   "execution_count": 71,
   "metadata": {
    "colab": {
     "base_uri": "https://localhost:8080/",
     "height": 68
    },
    "executionInfo": {
     "elapsed": 2144,
     "status": "ok",
     "timestamp": 1602007612750,
     "user": {
      "displayName": "Lionel Fillatre",
      "photoUrl": "",
      "userId": "14463393848879581998"
     },
     "user_tz": -120
    },
    "id": "MMu65iQ17nPp",
    "outputId": "ed90a68c-df1f-44ed-b576-349f908eb281"
   },
   "outputs": [
    {
     "name": "stdout",
     "output_type": "stream",
     "text": [
      "(100, 2)\n",
      "(100, 1)\n",
      "torch.Size([100, 2])\n"
     ]
    }
   ],
   "source": [
    "x1n = X1grid.ravel().reshape(-1, 1)\n",
    "x2n = X2grid.ravel().reshape(-1, 1)\n",
    "xn = np.concatenate((x1n,x2n),axis=1)\n",
    "yn = Y.ravel().reshape(-1, 1)\n",
    "#print(x1n.shape)\n",
    "#print(x2n.shape)\n",
    "print(xn.shape)\n",
    "print(yn.shape)\n",
    "\n",
    "# Convert in pytorch tensors\n",
    "x = torch.from_numpy(xn).float()\n",
    "y = torch.from_numpy(yn).float()\n",
    "#print(x)\n",
    "#print(y)\n",
    "print(x.shape)"
   ]
  },
  {
   "cell_type": "markdown",
   "metadata": {
    "id": "CkcyFiacL8fH"
   },
   "source": [
    "## Neural network with full implementation (gradient computation and estimate update)"
   ]
  },
  {
   "cell_type": "code",
   "execution_count": 72,
   "metadata": {
    "colab": {
     "base_uri": "https://localhost:8080/",
     "height": 204
    },
    "executionInfo": {
     "elapsed": 3741,
     "status": "ok",
     "timestamp": 1602007614354,
     "user": {
      "displayName": "Lionel Fillatre",
      "photoUrl": "",
      "userId": "14463393848879581998"
     },
     "user_tz": -120
    },
    "id": "T4se-BEixM3Z",
    "outputId": "d213caf6-55ea-452f-af9b-dfb996ba5806"
   },
   "outputs": [
    {
     "name": "stdout",
     "output_type": "stream",
     "text": [
      "0 121066.8125\n",
      "1000 16.765317916870117\n",
      "2000 12.187544822692871\n",
      "3000 10.25378704071045\n",
      "4000 9.030571937561035\n",
      "5000 8.189521789550781\n",
      "6000 7.579919815063477\n",
      "7000 7.147266387939453\n",
      "8000 6.812748908996582\n",
      "9000 6.547571659088135\n",
      "10000 6.346971035003662\n"
     ]
    }
   ],
   "source": [
    "import torch\n",
    "\n",
    "dtype = torch.float\n",
    "\n",
    "# N is batch size; D_in is input dimension;\n",
    "# H is hidden dimension; D_out is output dimension.\n",
    "N, D_in, H, D_out = num_samples**2, 2, 100, 1\n",
    "\n",
    "# Randomly initialize weights\n",
    "w1 = torch.randn(D_in, H, dtype=dtype)\n",
    "w2 = torch.randn(H, D_out,  dtype=dtype)\n",
    "\n",
    "learning_rate = 1e-6 \n",
    "for t in range(10001):\n",
    "    # Forward pass: compute predicted y\n",
    "    h = x.mm(w1)\n",
    "    \n",
    "    h_relu = h.clamp(min=0)\n",
    "    y_pred = h_relu.mm(w2)\n",
    "    #print(y_pred)\n",
    "\n",
    "    # Compute and print loss\n",
    "    loss = (y_pred - y).pow(2).sum().item()\n",
    "    if t % 1000 == 0:\n",
    "        print(t, loss)\n",
    "\n",
    "    # Backprop to compute gradients of w1 and w2 with respect to loss\n",
    "    grad_y_pred = 2.0 * (y_pred - y)\n",
    "    grad_w2 = h_relu.t().mm(grad_y_pred)\n",
    "    grad_h_relu = grad_y_pred.mm(w2.t())\n",
    "    grad_h = grad_h_relu.clone()\n",
    "    grad_h[h < 0] = 0\n",
    "    grad_w1 = x.t().mm(grad_h)\n",
    "\n",
    "    # Update weights using gradient descent\n",
    "    w1 -= learning_rate * grad_w1\n",
    "    w2 -= learning_rate * grad_w2"
   ]
  },
  {
   "cell_type": "markdown",
   "metadata": {
    "id": "xhipoBZvJJz7"
   },
   "source": [
    "Compare the first values"
   ]
  },
  {
   "cell_type": "code",
   "execution_count": 73,
   "metadata": {
    "colab": {
     "base_uri": "https://localhost:8080/",
     "height": 187
    },
    "executionInfo": {
     "elapsed": 3734,
     "status": "ok",
     "timestamp": 1602007614355,
     "user": {
      "displayName": "Lionel Fillatre",
      "photoUrl": "",
      "userId": "14463393848879581998"
     },
     "user_tz": -120
    },
    "id": "RDBc5npAAHzN",
    "outputId": "2d2fdbdb-7ddc-4cd2-80bc-7d4c41553ef8"
   },
   "outputs": [
    {
     "name": "stdout",
     "output_type": "stream",
     "text": [
      "tensor([[-1.1617],\n",
      "        [-0.1741],\n",
      "        [ 0.5667],\n",
      "        [ 1.0605],\n",
      "        [ 1.3074]])\n",
      "tensor([[-0.7440],\n",
      "        [ 0.1812],\n",
      "        [ 0.4789],\n",
      "        [ 1.0299],\n",
      "        [ 1.3936]])\n"
     ]
    }
   ],
   "source": [
    "print(y[0:5])\n",
    "print(y_pred[0:5])"
   ]
  },
  {
   "cell_type": "markdown",
   "metadata": {
    "id": "xA3rUb9XIhCc"
   },
   "source": [
    "Plot the approximation in 1D"
   ]
  },
  {
   "cell_type": "code",
   "execution_count": 74,
   "metadata": {
    "id": "q2rQUIq1OiiH"
   },
   "outputs": [],
   "source": [
    "def plotApproximation(y,y_pred):\n",
    "  plt.figure(figsize=(6, 4))\n",
    "  plt.plot(y.detach().numpy(),'b-')\n",
    "  plt.plot(y_pred.detach().numpy(),'r-*')\n",
    "  plt.xlabel('$x$')\n",
    "  plt.ylabel('$y$')\n",
    "  plt.title('Approximation with the neural network')\n",
    "  plt.show()"
   ]
  },
  {
   "cell_type": "code",
   "execution_count": 75,
   "metadata": {
    "colab": {
     "base_uri": "https://localhost:8080/",
     "height": 295
    },
    "executionInfo": {
     "elapsed": 4387,
     "status": "ok",
     "timestamp": 1602007615026,
     "user": {
      "displayName": "Lionel Fillatre",
      "photoUrl": "",
      "userId": "14463393848879581998"
     },
     "user_tz": -120
    },
    "id": "ibZbvbe3Otom",
    "outputId": "3a348afa-ec4c-4538-db01-7c0a8bfb7540"
   },
   "outputs": [
    {
     "data": {
      "image/png": "[encoded data removed]",
      "text/plain": [
       "<Figure size 432x288 with 1 Axes>"
      ]
     },
     "metadata": {
      "needs_background": "light"
     },
     "output_type": "display_data"
    }
   ],
   "source": [
    "plotApproximation(y,y_pred)"
   ]
  },
  {
   "cell_type": "code",
   "execution_count": 76,
   "metadata": {
    "colab": {
     "base_uri": "https://localhost:8080/",
     "height": 295
    },
    "executionInfo": {
     "elapsed": 4381,
     "status": "ok",
     "timestamp": 1602007615027,
     "user": {
      "displayName": "Lionel Fillatre",
      "photoUrl": "",
      "userId": "14463393848879581998"
     },
     "user_tz": -120
    },
    "id": "VzSSkdQq0sXr",
    "outputId": "34dcc15c-e0d2-496f-9a9b-e86e058bc821"
   },
   "outputs": [
    {
     "data": {
      "image/png": "[encoded data removed]",
      "text/plain": [
       "<Figure size 432x288 with 1 Axes>"
      ]
     },
     "metadata": {
      "needs_background": "light"
     },
     "output_type": "display_data"
    }
   ],
   "source": [
    "plt.figure(figsize=(6, 4))\n",
    "plt.plot(y.numpy()-y_pred.numpy())\n",
    "plt.title('Residuals')\n",
    "plt.xlabel('$x$')\n",
    "plt.ylabel('$y-\\hat{y}$')\n",
    "plt.show()"
   ]
  },
  {
   "cell_type": "markdown",
   "metadata": {
    "id": "Fqw-HzS5gC-0"
   },
   "source": [
    "Last step, we use directly the optim package to update the weights and bias."
   ]
  },
  {
   "cell_type": "markdown",
   "metadata": {
    "id": "cKkd4LMWvX93"
   },
   "source": [
    "## Neural network with automatic gradient computation (but still the explicit estimate update)\n",
    "\n",
    "\n",
    "A fully-connected ReLU network with one hidden layer, trained to predict y from x\n",
    "by minimizing squared Euclidean distance.\n",
    "\n",
    "This implementation uses the nn package from PyTorch to build the network.\n",
    "PyTorch autograd makes it easy to define computational graphs and take gradients,\n",
    "but raw autograd can be a bit too low-level for defining complex neural networks;\n",
    "this is where the nn package can help. The nn package defines a set of Modules,\n",
    "which you can think of as a neural network layer that has produces output from\n",
    "input and may have some trainable weights."
   ]
  },
  {
   "cell_type": "markdown",
   "metadata": {
    "id": "9aqqho33M21_"
   },
   "source": [
    "### Question: use autograd to compute the gradient. You can start from the full implementation of the neural network."
   ]
  },
  {
   "cell_type": "code",
   "execution_count": 77,
   "metadata": {
    "colab": {
     "base_uri": "https://localhost:8080/",
     "height": 204
    },
    "executionInfo": {
     "elapsed": 4944,
     "status": "ok",
     "timestamp": 1602007615604,
     "user": {
      "displayName": "Lionel Fillatre",
      "photoUrl": "",
      "userId": "14463393848879581998"
     },
     "user_tz": -120
    },
    "id": "9gm8w-aJvb0f",
    "outputId": "cb294f33-259a-411d-c0e6-e11776d697dd"
   },
   "outputs": [
    {
     "name": "stdout",
     "output_type": "stream",
     "text": [
      "0 311.402587890625\n",
      "1000 17.605052947998047\n",
      "2000 9.39195442199707\n",
      "3000 7.228336811065674\n",
      "4000 6.2508440017700195\n",
      "5000 5.602488994598389\n",
      "6000 5.104543209075928\n",
      "7000 4.705657005310059\n",
      "8000 4.3820109367370605\n",
      "9000 4.117582321166992\n",
      "10000 3.9008214473724365\n",
      "11000 3.722101926803589\n",
      "12000 3.573742151260376\n",
      "13000 3.449544668197632\n",
      "14000 3.3450725078582764\n",
      "15000 3.256483316421509\n",
      "16000 3.180771589279175\n",
      "17000 3.1154708862304688\n",
      "18000 3.05859637260437\n",
      "19000 3.0087428092956543\n",
      "20000 2.964635133743286\n",
      "21000 2.9252147674560547\n",
      "22000 2.8897287845611572\n",
      "23000 2.857513427734375\n",
      "24000 2.8280463218688965\n",
      "25000 2.800852060317993\n",
      "26000 2.775580644607544\n",
      "27000 2.751920461654663\n",
      "28000 2.7296791076660156\n",
      "29000 2.708667278289795\n",
      "30000 2.6887784004211426\n"
     ]
    }
   ],
   "source": [
    "import torch\n",
    "\n",
    "# N is batch size; D_in is input dimension;\n",
    "# H is hidden dimension; D_out is output dimension.\n",
    "N, D_in, H, D_out = num_samples**2, 2, 100, 1\n",
    "\n",
    "# Use the nn package to define our model as a sequence of layers. nn.Sequential\n",
    "# is a Module which contains other Modules, and applies them in sequence to\n",
    "# produce its output. Each Linear Module computes output from input using a\n",
    "# linear function, and holds internal Tensors for its weight and bias.\n",
    "model = torch.nn.Sequential(\n",
    "    torch.nn.Linear(D_in, H),\n",
    "    torch.nn.ReLU(),\n",
    "    torch.nn.Linear(H, D_out),\n",
    ")\n",
    "\n",
    "# The nn package also contains definitions of popular loss functions; in this\n",
    "# case we will use Mean Squared Error (MSE) as our loss function.\n",
    "loss_fn = torch.nn.MSELoss(reduction='sum')\n",
    "\n",
    "learning_rate = 1e-6\n",
    "for t in range(30001):\n",
    "    # Forward pass: compute predicted y by passing x to the model. Module objects\n",
    "    # override the __call__ operator so you can call them like functions. When\n",
    "    # doing so you pass a Tensor of input data to the Module and it produces\n",
    "    # a Tensor of output data.\n",
    "    y_pred = model(x)\n",
    "\n",
    "    # Compute and print loss. We pass Tensors containing the predicted and true\n",
    "    # values of y, and the loss function returns a Tensor containing the\n",
    "    # loss.\n",
    "    loss = loss_fn(y_pred, y)\n",
    "    if t % 1000 == 0:\n",
    "        print(t, loss.item())\n",
    "    \n",
    "    model.zero_grad()\n",
    "    \n",
    "    # Backprop to compute gradients of w1 and w2 with respect to loss\n",
    "    loss.backward()\n",
    "    \n",
    "    with torch.no_grad():\n",
    "        for param in model.parameters():\n",
    "            param-=learning_rate*param.grad\n",
    "\n",
    "\n",
    "    # Update weights using gradient descent\n",
    "# You can access the first layer of `model` like accessing the first item of a list\n",
    "linear_layer = model[0]"
   ]
  },
  {
   "cell_type": "code",
   "execution_count": 78,
   "metadata": {},
   "outputs": [
    {
     "data": {
      "text/plain": [
       "tensor(2.6888, grad_fn=<MseLossBackward>)"
      ]
     },
     "execution_count": 78,
     "metadata": {},
     "output_type": "execute_result"
    }
   ],
   "source": [
    "loss_fn(y_pred, y)"
   ]
  },
  {
   "cell_type": "code",
   "execution_count": 79,
   "metadata": {
    "colab": {
     "base_uri": "https://localhost:8080/",
     "height": 295
    },
    "executionInfo": {
     "elapsed": 5367,
     "status": "ok",
     "timestamp": 1602007616038,
     "user": {
      "displayName": "Lionel Fillatre",
      "photoUrl": "",
      "userId": "14463393848879581998"
     },
     "user_tz": -120
    },
    "id": "j828Mw1pO_H1",
    "outputId": "e36f30dd-b74b-4d98-d6e1-fb8e923c6469"
   },
   "outputs": [
    {
     "data": {
      "image/png": "[encoded data removed]",
      "text/plain": [
       "<Figure size 432x288 with 1 Axes>"
      ]
     },
     "metadata": {
      "needs_background": "light"
     },
     "output_type": "display_data"
    }
   ],
   "source": [
    "plotApproximation(y,y_pred)"
   ]
  },
  {
   "cell_type": "markdown",
   "metadata": {
    "id": "xOJBAjFAMc63"
   },
   "source": [
    "## Neural network with automatic gradient computation and automatic estimate update\n",
    "\n",
    "A fully-connected ReLU network with one hidden layer, trained to predict y from x\n",
    "by minimizing squared Euclidean distance.\n",
    "\n",
    "This implementation uses the nn package from PyTorch to build the network.\n",
    "\n",
    "Rather than manually updating the weights of the model as we have been doing,\n",
    "we use the optim package to define an Optimizer that will update the weights\n",
    "for us. The optim package defines many optimization algorithms that are commonly\n",
    "used for deep learning, including SGD+momentum, RMSProp, Adam, etc."
   ]
  },
  {
   "cell_type": "markdown",
   "metadata": {
    "id": "auFqUkCrNJPx"
   },
   "source": [
    "### Question: use the Torch optimizer to do the gradient descent. You can start from the full implementation of the neural network with automatic differentiation.\n",
    "\n",
    "Details on Optimizer are [here](https://pytorch.org/docs/stable/optim.html)"
   ]
  },
  {
   "cell_type": "code",
   "execution_count": 80,
   "metadata": {},
   "outputs": [
    {
     "name": "stdout",
     "output_type": "stream",
     "text": [
      "Requirement already satisfied: madgrad in c:\\users\\daisu\\anaconda3\\lib\\site-packages (1.1)\n"
     ]
    }
   ],
   "source": [
    "!pip install madgrad"
   ]
  },
  {
   "cell_type": "code",
   "execution_count": 81,
   "metadata": {},
   "outputs": [],
   "source": [
    "from madgrad import MADGRAD"
   ]
  },
  {
   "cell_type": "code",
   "execution_count": 82,
   "metadata": {
    "colab": {
     "base_uri": "https://localhost:8080/",
     "height": 204
    },
    "executionInfo": {
     "elapsed": 6172,
     "status": "ok",
     "timestamp": 1602007616850,
     "user": {
      "displayName": "Lionel Fillatre",
      "photoUrl": "",
      "userId": "14463393848879581998"
     },
     "user_tz": -120
    },
    "id": "9dRfOhN3vnQN",
    "outputId": "8ff1f384-8105-478e-9da2-35bc808c9992"
   },
   "outputs": [
    {
     "name": "stdout",
     "output_type": "stream",
     "text": [
      "0 369.97113037109375\n",
      "1000 2.0424258708953857\n",
      "2000 1.3561652898788452\n",
      "3000 0.7961938977241516\n",
      "4000 0.424096018075943\n",
      "5000 0.24008367955684662\n",
      "6000 0.14787697792053223\n",
      "7000 0.08288352191448212\n",
      "8000 0.0458986759185791\n",
      "9000 0.027339953929185867\n",
      "10000 0.01864611729979515\n"
     ]
    }
   ],
   "source": [
    "import torch\n",
    "\n",
    "# N is batch size; D_in is input dimension;\n",
    "# H is hidden dimension; D_out is output dimension.\n",
    "N, D_in, H, D_out = num_samples**2, 2, 100, 1\n",
    "\n",
    "# Use the nn package to define our model and loss function.\n",
    "model = torch.nn.Sequential(\n",
    "    torch.nn.Linear(D_in, H),\n",
    "    torch.nn.ReLU(),\n",
    "    torch.nn.Linear(H, D_out),\n",
    ")\n",
    "loss_fn = torch.nn.MSELoss(reduction='sum')\n",
    "\n",
    "# Use the optim package to define an Optimizer that will update the weights of\n",
    "# the model for us. Here we will use Adam; the optim package contains many other\n",
    "# optimization algoriths. The first argument to the Adam constructor tells the\n",
    "# optimizer which Tensors it should update.\n",
    "learning_rate = 1e-6\n",
    "#optimizer = torch.optim.Adam(model.parameters(), lr=learning_rate)\n",
    "optimizer = torch.optim.SGD(model.parameters(), lr=learning_rate)\n",
    "adam = torch.optim.Adam(model.parameters(), lr=learning_rate)\n",
    "madgrad=MADGRAD(model.parameters(), lr=learning_rate)\n",
    "for t in range(10001):\n",
    "    # Forward pass: compute predicted y by passing x to the model.\n",
    "    y_pred = model(x)\n",
    "\n",
    "    # Compute and print loss.\n",
    "    loss = loss_fn(y_pred, y)\n",
    "    if t % 1000 == 0:\n",
    "        print(t, loss.item())\n",
    "\n",
    "    # COMPLETE THE CODE FROM HERE\n",
    "    madgrad.zero_grad()\n",
    "    # Backward pass: Compute the gradient of the loss with respect to the each parameters\n",
    "    loss.backward()\n",
    "    \n",
    "    madgrad.step()"
   ]
  },
  {
   "cell_type": "code",
   "execution_count": 83,
   "metadata": {
    "colab": {
     "base_uri": "https://localhost:8080/",
     "height": 295
    },
    "executionInfo": {
     "elapsed": 6159,
     "status": "ok",
     "timestamp": 1602007616850,
     "user": {
      "displayName": "Lionel Fillatre",
      "photoUrl": "",
      "userId": "14463393848879581998"
     },
     "user_tz": -120
    },
    "id": "l3wESBOnPAzx",
    "outputId": "b71ce0dc-2474-49db-8373-e6ec292933eb"
   },
   "outputs": [
    {
     "data": {
      "image/png": "[encoded data removed]",
      "text/plain": [
       "<Figure size 432x288 with 1 Axes>"
      ]
     },
     "metadata": {
      "needs_background": "light"
     },
     "output_type": "display_data"
    }
   ],
   "source": [
    "plotApproximation(y,y_pred)"
   ]
  },
  {
   "cell_type": "code",
   "execution_count": 87,
   "metadata": {
    "collapsed": true,
    "jupyter": {
     "outputs_hidden": true
    }
   },
   "outputs": [
    {
     "data": {
      "text/plain": [
       "array([[-1.1617234 ],\n",
       "       [-0.17406906],\n",
       "       [ 0.56667167],\n",
       "       [ 1.0604988 ],\n",
       "       [ 1.3074124 ],\n",
       "       [ 1.3074124 ],\n",
       "       [ 1.0604988 ],\n",
       "       [ 0.56667167],\n",
       "       [-0.17406906],\n",
       "       [-1.1617234 ],\n",
       "       [-1.4625185 ],\n",
       "       [-0.47486416],\n",
       "       [ 0.26587656],\n",
       "       [ 0.75970376],\n",
       "       [ 1.0066173 ],\n",
       "       [ 1.0066173 ],\n",
       "       [ 0.75970376],\n",
       "       [ 0.26587656],\n",
       "       [-0.47486416],\n",
       "       [-1.4625185 ],\n",
       "       [-1.7773421 ],\n",
       "       [-0.7896878 ],\n",
       "       [-0.04894707],\n",
       "       [ 0.4448801 ],\n",
       "       [ 0.6917937 ],\n",
       "       [ 0.6917937 ],\n",
       "       [ 0.4448801 ],\n",
       "       [-0.04894707],\n",
       "       [-0.7896878 ],\n",
       "       [-1.7773421 ],\n",
       "       [-2.1023116 ],\n",
       "       [-1.1146573 ],\n",
       "       [-0.37391654],\n",
       "       [ 0.11991062],\n",
       "       [ 0.3668242 ],\n",
       "       [ 0.3668242 ],\n",
       "       [ 0.11991062],\n",
       "       [-0.37391654],\n",
       "       [-1.1146573 ],\n",
       "       [-2.1023116 ],\n",
       "       [-2.433419  ],\n",
       "       [-1.4457648 ],\n",
       "       [-0.705024  ],\n",
       "       [-0.21119682],\n",
       "       [ 0.03571675],\n",
       "       [ 0.03571675],\n",
       "       [-0.21119682],\n",
       "       [-0.705024  ],\n",
       "       [-1.4457648 ],\n",
       "       [-2.433419  ],\n",
       "       [-2.766581  ],\n",
       "       [-1.7789266 ],\n",
       "       [-1.0381858 ],\n",
       "       [-0.54435873],\n",
       "       [-0.29744515],\n",
       "       [-0.29744515],\n",
       "       [-0.54435873],\n",
       "       [-1.0381858 ],\n",
       "       [-1.7789266 ],\n",
       "       [-2.766581  ],\n",
       "       [-3.0976884 ],\n",
       "       [-2.110034  ],\n",
       "       [-1.3692933 ],\n",
       "       [-0.87546617],\n",
       "       [-0.6285526 ],\n",
       "       [-0.6285526 ],\n",
       "       [-0.87546617],\n",
       "       [-1.3692933 ],\n",
       "       [-2.110034  ],\n",
       "       [-3.0976884 ],\n",
       "       [-3.422658  ],\n",
       "       [-2.4350035 ],\n",
       "       [-1.6942629 ],\n",
       "       [-1.2004356 ],\n",
       "       [-0.9535221 ],\n",
       "       [-0.9535221 ],\n",
       "       [-1.2004356 ],\n",
       "       [-1.6942629 ],\n",
       "       [-2.4350035 ],\n",
       "       [-3.422658  ],\n",
       "       [-3.7374816 ],\n",
       "       [-2.7498271 ],\n",
       "       [-2.0090864 ],\n",
       "       [-1.5152593 ],\n",
       "       [-1.2683457 ],\n",
       "       [-1.2683457 ],\n",
       "       [-1.5152593 ],\n",
       "       [-2.0090864 ],\n",
       "       [-2.7498271 ],\n",
       "       [-3.7374816 ],\n",
       "       [-4.0382767 ],\n",
       "       [-3.0506222 ],\n",
       "       [-2.3098814 ],\n",
       "       [-1.8160543 ],\n",
       "       [-1.5691408 ],\n",
       "       [-1.5691408 ],\n",
       "       [-1.8160543 ],\n",
       "       [-2.3098814 ],\n",
       "       [-3.0506222 ],\n",
       "       [-4.0382767 ]], dtype=float32)"
      ]
     },
     "execution_count": 87,
     "metadata": {},
     "output_type": "execute_result"
    }
   ],
   "source": [
    "y.detach().numpy()"
   ]
  },
  {
   "cell_type": "code",
   "execution_count": 88,
   "metadata": {},
   "outputs": [
    {
     "data": {
      "image/png": "[encoded data removed]",
      "text/plain": [
       "<Figure size 432x288 with 1 Axes>"
      ]
     },
     "metadata": {
      "needs_background": "light"
     },
     "output_type": "display_data"
    }
   ],
   "source": [
    "plt.figure(figsize=(6, 4))\n",
    "plt.plot(y.detach().numpy()-y_pred.detach().numpy())\n",
    "plt.title('Residuals')\n",
    "plt.xlabel('$x$')\n",
    "plt.ylabel('$y-\\hat{y}$')\n",
    "plt.show()"
   ]
  }
 ],
 "metadata": {
  "colab": {
   "collapsed_sections": [],
   "name": "DSTI_DL_Lab2_April2021.ipynb",
   "provenance": [],
   "toc_visible": true
  },
  "kernelspec": {
   "display_name": "Python 3",
   "language": "python",
   "name": "python3"
  },
  "language_info": {
   "codemirror_mode": {
    "name": "ipython",
    "version": 3
   },
   "file_extension": ".py",
   "mimetype": "text/x-python",
   "name": "python",
   "nbconvert_exporter": "python",
   "pygments_lexer": "ipython3",
   "version": "3.8.3"
  }
 },
 "nbformat": 4,
 "nbformat_minor": 4
}
