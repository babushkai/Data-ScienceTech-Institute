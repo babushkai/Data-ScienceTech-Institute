{
 "cells": [
  {
   "cell_type": "code",
   "execution_count": 1,
   "metadata": {},
   "outputs": [],
   "source": [
    "# Lorenz model\n",
    "import numpy as np"
   ]
  },
  {
   "cell_type": "code",
   "execution_count": 2,
   "metadata": {},
   "outputs": [],
   "source": [
    "# model parameters (=> \"chaotic\" system)\n",
    "s = 10.0\n",
    "r = 28.0\n",
    "b = 8.0/3.0"
   ]
  },
  {
   "cell_type": "code",
   "execution_count": 11,
   "metadata": {},
   "outputs": [],
   "source": [
    "# time window, time step, ...\n",
    "T = 5.0\n",
    "N = 1000\n",
    "dt = T/N"
   ]
  },
  {
   "cell_type": "code",
   "execution_count": 12,
   "metadata": {},
   "outputs": [],
   "source": [
    "# observation frequency \n",
    "freqobs = 100 # every 100 time steps, we have one observation"
   ]
  },
  {
   "cell_type": "code",
   "execution_count": 15,
   "metadata": {},
   "outputs": [],
   "source": [
    "# solve direct model\n",
    "def lorenz(X0): # X0 is a vector dimension 3\n",
    "    X = np.zeros((N+1,3))\n",
    "    X[0,:] = X0 #initialization\n",
    "    for i in range(N): # time loop\n",
    "        X[i+1, 0] = X[i, 0] + dt * s*(X[i, 1]-X[i, 0])\n",
    "        X[i+1, 1] = X[i, 1] + dt * (r*X[i, 0]-X[i, 0]*X[i,2]) # ycomponent\n",
    "        X[i+1, 2] = X[i, 2] + dt * (X[i, 0]*X[i,1]-b*X[i,2]) # z component\n",
    "    return X\n",
    "    "
   ]
  },
  {
   "cell_type": "code",
   "execution_count": 16,
   "metadata": {},
   "outputs": [],
   "source": [
    "# direct simulation \n",
    "X0test = np.array([-4.62, -6.61, 17.94])\n",
    "Xtest = lorenz(X0test)"
   ]
  },
  {
   "cell_type": "code",
   "execution_count": 19,
   "metadata": {},
   "outputs": [
    {
     "data": {
      "text/plain": [
       "[<matplotlib.lines.Line2D at 0x7fbf91fae810>]"
      ]
     },
     "execution_count": 19,
     "metadata": {},
     "output_type": "execute_result"
    },
    {
     "data": {
      "image/png": "[encoded data removed]",
      "text/plain": [
       "<Figure size 432x288 with 1 Axes>"
      ]
     },
     "metadata": {
      "needs_background": "light"
     },
     "output_type": "display_data"
    }
   ],
   "source": [
    "# plot Solution\n",
    "import matplotlib.pyplot as plt\n",
    "\n",
    "plt.plot(Xtest[:, 2])"
   ]
  },
  {
   "cell_type": "code",
   "execution_count": 27,
   "metadata": {},
   "outputs": [],
   "source": [
    "# twin experiments: we generate our observations from our model and a known intial condition\n",
    "Xobs = lorenz(X0test)\n",
    "# possibly add noise\n",
    "noise = np.random.randn(N+1, 3)\n",
    "noiselevel = 1.0\n",
    "Xobs = Xobs + noiselevel*noise\n",
    "# from now, use Xobs at some particular(observation) times, and try to recover X0test\n",
    "R = noiselevel*np.identity(3)\n",
    "Rinv = np.linalg.inv(R)\n",
    "Rinv = np.identity(3)"
   ]
  },
  {
   "cell_type": "code",
   "execution_count": 36,
   "metadata": {},
   "outputs": [],
   "source": [
    "# background solution:\n",
    "Xb0 = np.array([-4, -6.0, 18.00])\n",
    "Xb = lorenz(Xb0) # the trajectory we get without data assimilation\n",
    "B = np.identity(3)\n",
    "Binv = np.linalg.inv(B)"
   ]
  },
  {
   "cell_type": "code",
   "execution_count": 50,
   "metadata": {},
   "outputs": [],
   "source": [
    "# cost function\n",
    "def cost(X0): # J(X0)\n",
    "    # background part\n",
    "    J = 0.5*np.dot(X0-Xb0, Binv.dot(X0-Xb0))\n",
    "    # observation part\n",
    "    # Solve direct model\n",
    "    X = lorenz(X0)\n",
    "    for i in range(0, N, freqobs):\n",
    "        J = J + 0.5*np.dot(X[i, :]-Xobs[i,:], Rinv.dot(X[i,:]-Xobs[i,:]))\n",
    "    return J"
   ]
  },
  {
   "cell_type": "code",
   "execution_count": 51,
   "metadata": {},
   "outputs": [
    {
     "data": {
      "text/plain": [
       "14.501426921651355"
      ]
     },
     "execution_count": 51,
     "metadata": {},
     "output_type": "execute_result"
    }
   ],
   "source": [
    "cost(X0test)"
   ]
  }
 ],
 "metadata": {
  "kernelspec": {
   "display_name": "Python 3",
   "language": "python",
   "name": "python3"
  },
  "language_info": {
   "codemirror_mode": {
    "name": "ipython",
    "version": 3
   },
   "file_extension": ".py",
   "mimetype": "text/x-python",
   "name": "python",
   "nbconvert_exporter": "python",
   "pygments_lexer": "ipython3",
   "version": "3.7.7"
  }
 },
 "nbformat": 4,
 "nbformat_minor": 4
}
